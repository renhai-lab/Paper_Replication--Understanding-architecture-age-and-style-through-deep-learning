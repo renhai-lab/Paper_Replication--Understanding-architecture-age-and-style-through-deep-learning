{
 "cells": [
  {
   "cell_type": "markdown",
   "source": [
    "# 将文件大小从523缩小到224\n",
    "也可以在数据夹datasets中删除损坏的文件"
   ],
   "metadata": {
    "collapsed": false
   },
   "id": "d83fbe8e805146f9"
  },
  {
   "cell_type": "code",
   "execution_count": 3,
   "outputs": [],
   "source": [
    "import os\n",
    "import glob"
   ],
   "metadata": {
    "collapsed": false,
    "ExecuteTime": {
     "end_time": "2023-10-30T07:44:54.728527300Z",
     "start_time": "2023-10-30T07:44:54.702185600Z"
    }
   },
   "id": "6f41a5f1c9bd0d02"
  },
  {
   "cell_type": "markdown",
   "source": [
    "## 2将文件大小从512缩小到224"
   ],
   "metadata": {
    "collapsed": false
   },
   "id": "93f53adbd8a283fa"
  },
  {
   "cell_type": "code",
   "execution_count": 6,
   "outputs": [
    {
     "name": "stdout",
     "output_type": "stream",
     "text": [
      "file_paths length: 79571\n"
     ]
    }
   ],
   "source": [
    "# 重新读取所有png文件的路径\n",
    "# GSV图像所在文件夹\n",
    "img_root_dir = r\"C:\\Users\\hncdj\\Documents\\Python_\\Python辅助城市研究\\建筑风格和年代机器学习\\data\\GSV\"\n",
    "file_paths = glob.glob(f\"{img_root_dir}\\\\clip\\\\**\\\\*.png\")\n",
    "print(\"file_paths length:\", len(file_paths))"
   ],
   "metadata": {
    "collapsed": false,
    "ExecuteTime": {
     "end_time": "2023-10-30T07:45:19.983123500Z",
     "start_time": "2023-10-30T07:45:19.351118700Z"
    }
   },
   "id": "e86da195a769590c"
  },
  {
   "cell_type": "code",
   "execution_count": 6,
   "outputs": [
    {
     "name": "stderr",
     "output_type": "stream",
     "text": [
      "100%|██████████| 79571/79571 [44:40<00:00, 29.68it/s]  \n"
     ]
    }
   ],
   "source": [
    "from PIL import Image\n",
    "import os\n",
    "import tqdm\n",
    "def resize_image(image_path, resized_path):\n",
    "    with Image.open(image_path) as image:\n",
    "        # 如果图像是RGBA模式（含有alpha通道），我们转换为RGB模式。\n",
    "        # 这将自动去除alpha通道。请注意，这可能会使原本透明的区域变成黑色（默认情况）。\n",
    "        if image.mode == 'RGBA':\n",
    "            image = image.convert('RGB')\n",
    "                    \n",
    "        # 改变图像的尺寸到224x224，而不是创建缩略图\n",
    "        image = image.resize((224, 224))\n",
    "        \n",
    "        # 保存jpg，并且压缩。'optimize' 标志会尝试减少文件的大小，而不会造成大的可见质量损失。\n",
    "        image.save(resized_path, \"JPEG\", quality=85, optimize=True)\n",
    "\n",
    "\n",
    "for file_path in tqdm.tqdm(file_paths):\n",
    "    # 生成新的文件名\n",
    "    new_file_path = file_path.replace(\"clip\", \"resized\")\n",
    "    if os.path.exists(new_file_path):\n",
    "        continue\n",
    "    else:\n",
    "        new_file_path = new_file_path.replace(\".png\", \".jpg\")\n",
    "        # 生成新的文件夹\n",
    "        new_dir = os.path.dirname(new_file_path)\n",
    "        if not os.path.exists(new_dir):\n",
    "            os.makedirs(new_dir)\n",
    "        # 生成新的文件\n",
    "        resize_image(file_path, new_file_path)\n",
    "        # print(f\"Resized {file_path} to {new_file_path}\")"
   ],
   "metadata": {
    "collapsed": false,
    "ExecuteTime": {
     "end_time": "2023-10-22T03:52:50.140052400Z",
     "start_time": "2023-10-22T03:08:09.389837700Z"
    }
   },
   "id": "666f5aef7eddb4f6"
  },
  {
   "cell_type": "code",
   "execution_count": null,
   "outputs": [],
   "source": [],
   "metadata": {
    "collapsed": false
   },
   "id": "a00378cc45d3f1b7"
  }
 ],
 "metadata": {
  "kernelspec": {
   "display_name": "Python 3",
   "language": "python",
   "name": "python3"
  },
  "language_info": {
   "codemirror_mode": {
    "name": "ipython",
    "version": 2
   },
   "file_extension": ".py",
   "mimetype": "text/x-python",
   "name": "python",
   "nbconvert_exporter": "python",
   "pygments_lexer": "ipython2",
   "version": "2.7.6"
  }
 },
 "nbformat": 4,
 "nbformat_minor": 5
}
