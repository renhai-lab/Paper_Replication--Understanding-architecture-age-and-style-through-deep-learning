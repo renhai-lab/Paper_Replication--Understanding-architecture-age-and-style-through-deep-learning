{
 "cells": [
  {
   "cell_type": "markdown",
   "id": "83fa6935",
   "metadata": {},
   "source": [
    "## 制作模型预测结果的在市中心的空间分布\n",
    "图7显示了市中心的建筑实例级模型性能。蓝色表示旧建筑被预测为新建筑，而粉色表示模型将新建筑预测为旧建筑。灰色表示预测正确。\n",
    "![Fig. 7. Building instance level prediction performance.jpeg](https://image-1315363329.cos.ap-shanghai.myqcloud.com/lessons/202310241606786.jpeg)"
   ]
  },
  {
   "cell_type": "code",
   "execution_count": 29,
   "id": "acf9fad5",
   "metadata": {
    "ExecuteTime": {
     "end_time": "2023-10-31T14:27:06.807722700Z",
     "start_time": "2023-10-31T14:27:06.327902700Z"
    },
    "collapsed": false,
    "jupyter": {
     "outputs_hidden": false
    }
   },
   "outputs": [
    {
     "data": {
      "text/html": [
       "<div>\n",
       "<style scoped>\n",
       "    .dataframe tbody tr th:only-of-type {\n",
       "        vertical-align: middle;\n",
       "    }\n",
       "\n",
       "    .dataframe tbody tr th {\n",
       "        vertical-align: top;\n",
       "    }\n",
       "\n",
       "    .dataframe thead th {\n",
       "        text-align: right;\n",
       "    }\n",
       "</style>\n",
       "<table border=\"1\" class=\"dataframe\">\n",
       "  <thead>\n",
       "    <tr style=\"text-align: right;\">\n",
       "      <th></th>\n",
       "      <th>id</th>\n",
       "      <th>prediction</th>\n",
       "      <th>true_label</th>\n",
       "    </tr>\n",
       "  </thead>\n",
       "  <tbody>\n",
       "    <tr>\n",
       "      <th>0</th>\n",
       "      <td>363100012103594</td>\n",
       "      <td>7</td>\n",
       "      <td>7</td>\n",
       "    </tr>\n",
       "    <tr>\n",
       "      <th>1</th>\n",
       "      <td>363100012110942</td>\n",
       "      <td>4</td>\n",
       "      <td>4</td>\n",
       "    </tr>\n",
       "    <tr>\n",
       "      <th>2</th>\n",
       "      <td>363100012174221</td>\n",
       "      <td>8</td>\n",
       "      <td>8</td>\n",
       "    </tr>\n",
       "    <tr>\n",
       "      <th>3</th>\n",
       "      <td>363100012198469</td>\n",
       "      <td>6</td>\n",
       "      <td>7</td>\n",
       "    </tr>\n",
       "    <tr>\n",
       "      <th>4</th>\n",
       "      <td>363100012232265</td>\n",
       "      <td>6</td>\n",
       "      <td>6</td>\n",
       "    </tr>\n",
       "  </tbody>\n",
       "</table>\n",
       "</div>"
      ],
      "text/plain": [
       "                id  prediction  true_label\n",
       "0  363100012103594           7           7\n",
       "1  363100012110942           4           4\n",
       "2  363100012174221           8           8\n",
       "3  363100012198469           6           7\n",
       "4  363100012232265           6           6"
      ]
     },
     "execution_count": 29,
     "metadata": {},
     "output_type": "execute_result"
    }
   ],
   "source": [
    "## 读取数据\n",
    "import pandas as pd\n",
    "\n",
    "df1 = pd.read_csv('predictions_with_building_age_model_6_on_test_data.csv')\n",
    "df2 = pd.read_csv('predictions_with_building_age_model_6_on_train_data.csv')\n",
    "df = pd.concat([df1, df2])\n",
    "df.head()"
   ]
  },
  {
   "cell_type": "code",
   "execution_count": 30,
   "id": "deb9e024",
   "metadata": {
    "ExecuteTime": {
     "end_time": "2023-10-31T14:27:06.808720800Z",
     "start_time": "2023-10-31T14:27:06.393289900Z"
    },
    "collapsed": false,
    "jupyter": {
     "outputs_hidden": false
    }
   },
   "outputs": [],
   "source": [
    "# 保存合并后的原始结果\n",
    "df.to_csv('predictions_with_building_age_model_6_on_all_data.csv', index=False)"
   ]
  },
  {
   "cell_type": "code",
   "execution_count": 31,
   "id": "eea308cb",
   "metadata": {
    "ExecuteTime": {
     "end_time": "2023-10-31T14:27:06.809723Z",
     "start_time": "2023-10-31T14:27:06.481071800Z"
    },
    "collapsed": false,
    "jupyter": {
     "outputs_hidden": false
    }
   },
   "outputs": [
    {
     "data": {
      "text/html": [
       "<div>\n",
       "<style scoped>\n",
       "    .dataframe tbody tr th:only-of-type {\n",
       "        vertical-align: middle;\n",
       "    }\n",
       "\n",
       "    .dataframe tbody tr th {\n",
       "        vertical-align: top;\n",
       "    }\n",
       "\n",
       "    .dataframe thead th {\n",
       "        text-align: right;\n",
       "    }\n",
       "</style>\n",
       "<table border=\"1\" class=\"dataframe\">\n",
       "  <thead>\n",
       "    <tr style=\"text-align: right;\">\n",
       "      <th></th>\n",
       "      <th>id</th>\n",
       "      <th>prediction</th>\n",
       "      <th>true_label</th>\n",
       "    </tr>\n",
       "  </thead>\n",
       "  <tbody>\n",
       "    <tr>\n",
       "      <th>0</th>\n",
       "      <td>363100012103594</td>\n",
       "      <td>8</td>\n",
       "      <td>8</td>\n",
       "    </tr>\n",
       "    <tr>\n",
       "      <th>1</th>\n",
       "      <td>363100012110942</td>\n",
       "      <td>5</td>\n",
       "      <td>5</td>\n",
       "    </tr>\n",
       "    <tr>\n",
       "      <th>2</th>\n",
       "      <td>363100012174221</td>\n",
       "      <td>0</td>\n",
       "      <td>0</td>\n",
       "    </tr>\n",
       "    <tr>\n",
       "      <th>3</th>\n",
       "      <td>363100012198469</td>\n",
       "      <td>7</td>\n",
       "      <td>8</td>\n",
       "    </tr>\n",
       "    <tr>\n",
       "      <th>4</th>\n",
       "      <td>363100012232265</td>\n",
       "      <td>7</td>\n",
       "      <td>7</td>\n",
       "    </tr>\n",
       "  </tbody>\n",
       "</table>\n",
       "</div>"
      ],
      "text/plain": [
       "                id  prediction  true_label\n",
       "0  363100012103594           8           8\n",
       "1  363100012110942           5           5\n",
       "2  363100012174221           0           0\n",
       "3  363100012198469           7           8\n",
       "4  363100012232265           7           7"
      ]
     },
     "execution_count": 31,
     "metadata": {},
     "output_type": "execute_result"
    }
   ],
   "source": [
    "## 按照4.1.3的方法重新排列类别（我们将“pre-1652”的索引从8更改为0，其他类别相应地向后移动），方便计算\n",
    " \n",
    "# 我们需要更新标签以反映这个新顺序\n",
    "# 这意味着我们需要将所有的8替换为0，然后将其他所有数字加1（因为我们把'–1652'放在了最前面）\n",
    "df['true_label'] = df['true_label'].apply(lambda x: x + 1 if x < 8 else 0)\n",
    "df['prediction'] = df['prediction'].apply(lambda x: x + 1 if x < 8 else 0)\n",
    "df.head()"
   ]
  },
  {
   "cell_type": "code",
   "execution_count": 32,
   "id": "3b33a582",
   "metadata": {
    "ExecuteTime": {
     "end_time": "2023-10-31T14:27:06.809723Z",
     "start_time": "2023-10-31T14:27:06.526869400Z"
    },
    "collapsed": false,
    "jupyter": {
     "outputs_hidden": false
    }
   },
   "outputs": [
    {
     "data": {
      "text/html": [
       "<div>\n",
       "<style scoped>\n",
       "    .dataframe tbody tr th:only-of-type {\n",
       "        vertical-align: middle;\n",
       "    }\n",
       "\n",
       "    .dataframe tbody tr th {\n",
       "        vertical-align: top;\n",
       "    }\n",
       "\n",
       "    .dataframe thead th {\n",
       "        text-align: right;\n",
       "    }\n",
       "</style>\n",
       "<table border=\"1\" class=\"dataframe\">\n",
       "  <thead>\n",
       "    <tr style=\"text-align: right;\">\n",
       "      <th></th>\n",
       "      <th>id</th>\n",
       "      <th>prediction</th>\n",
       "      <th>true_label</th>\n",
       "      <th>diff</th>\n",
       "    </tr>\n",
       "  </thead>\n",
       "  <tbody>\n",
       "    <tr>\n",
       "      <th>0</th>\n",
       "      <td>363100012103594</td>\n",
       "      <td>8</td>\n",
       "      <td>8</td>\n",
       "      <td>0</td>\n",
       "    </tr>\n",
       "    <tr>\n",
       "      <th>1</th>\n",
       "      <td>363100012110942</td>\n",
       "      <td>5</td>\n",
       "      <td>5</td>\n",
       "      <td>0</td>\n",
       "    </tr>\n",
       "    <tr>\n",
       "      <th>2</th>\n",
       "      <td>363100012174221</td>\n",
       "      <td>0</td>\n",
       "      <td>0</td>\n",
       "      <td>0</td>\n",
       "    </tr>\n",
       "    <tr>\n",
       "      <th>3</th>\n",
       "      <td>363100012198469</td>\n",
       "      <td>7</td>\n",
       "      <td>8</td>\n",
       "      <td>-1</td>\n",
       "    </tr>\n",
       "    <tr>\n",
       "      <th>4</th>\n",
       "      <td>363100012232265</td>\n",
       "      <td>7</td>\n",
       "      <td>7</td>\n",
       "      <td>0</td>\n",
       "    </tr>\n",
       "  </tbody>\n",
       "</table>\n",
       "</div>"
      ],
      "text/plain": [
       "                id  prediction  true_label  diff\n",
       "0  363100012103594           8           8     0\n",
       "1  363100012110942           5           5     0\n",
       "2  363100012174221           0           0     0\n",
       "3  363100012198469           7           8    -1\n",
       "4  363100012232265           7           7     0"
      ]
     },
     "execution_count": 32,
     "metadata": {},
     "output_type": "execute_result"
    }
   ],
   "source": [
    "## 新增一列差值\n",
    "df['diff'] = df['prediction'] - df['true_label']\n",
    "df.head()"
   ]
  },
  {
   "cell_type": "markdown",
   "id": "9f70619d",
   "metadata": {},
   "source": [
    "负数为预测为旧建筑，正数为预测为新建筑，0为预测正确。差值为偏离真实值的程度。"
   ]
  },
  {
   "cell_type": "code",
   "execution_count": 33,
   "id": "8a0a853c",
   "metadata": {
    "ExecuteTime": {
     "end_time": "2023-10-31T14:27:06.809723Z",
     "start_time": "2023-10-31T14:27:06.537942800Z"
    },
    "collapsed": false,
    "jupyter": {
     "outputs_hidden": false
    }
   },
   "outputs": [],
   "source": [
    "# 把类别名字换回来，方便阅读\n",
    "updated_class_dict = {\n",
    "    0: '–1652',  # 这个现在是第一个\n",
    "    1: '-1706',\n",
    "    2: '-1765',\n",
    "    3: '-1846',\n",
    "    4: '-1911',\n",
    "    5: '-1944',\n",
    "    6: '-1978',\n",
    "    7: '–1995',\n",
    "    8: '–2023'  # 这个现在是最后一个\n",
    "}\n",
    "df['true_label'] = df['true_label'].apply(lambda x: updated_class_dict[x])\n",
    "df['pre_label'] = df['prediction'].apply(lambda x: updated_class_dict[x])"
   ]
  },
  {
   "cell_type": "code",
   "execution_count": 34,
   "id": "d8471d08",
   "metadata": {
    "ExecuteTime": {
     "end_time": "2023-10-31T14:27:06.809723Z",
     "start_time": "2023-10-31T14:27:06.561082300Z"
    },
    "collapsed": false,
    "jupyter": {
     "outputs_hidden": false
    }
   },
   "outputs": [],
   "source": [
    "df.drop(columns=['prediction'], inplace=True)"
   ]
  },
  {
   "cell_type": "code",
   "execution_count": 35,
   "id": "17263bc4",
   "metadata": {
    "ExecuteTime": {
     "end_time": "2023-10-31T14:27:06.810721400Z",
     "start_time": "2023-10-31T14:27:06.572881900Z"
    },
    "collapsed": false,
    "jupyter": {
     "outputs_hidden": false
    }
   },
   "outputs": [
    {
     "data": {
      "text/html": [
       "<div>\n",
       "<style scoped>\n",
       "    .dataframe tbody tr th:only-of-type {\n",
       "        vertical-align: middle;\n",
       "    }\n",
       "\n",
       "    .dataframe tbody tr th {\n",
       "        vertical-align: top;\n",
       "    }\n",
       "\n",
       "    .dataframe thead th {\n",
       "        text-align: right;\n",
       "    }\n",
       "</style>\n",
       "<table border=\"1\" class=\"dataframe\">\n",
       "  <thead>\n",
       "    <tr style=\"text-align: right;\">\n",
       "      <th></th>\n",
       "      <th>id</th>\n",
       "      <th>true_label</th>\n",
       "      <th>diff</th>\n",
       "      <th>pre_label</th>\n",
       "    </tr>\n",
       "  </thead>\n",
       "  <tbody>\n",
       "    <tr>\n",
       "      <th>0</th>\n",
       "      <td>363100012103594</td>\n",
       "      <td>–2023</td>\n",
       "      <td>0</td>\n",
       "      <td>–2023</td>\n",
       "    </tr>\n",
       "    <tr>\n",
       "      <th>1</th>\n",
       "      <td>363100012110942</td>\n",
       "      <td>-1944</td>\n",
       "      <td>0</td>\n",
       "      <td>-1944</td>\n",
       "    </tr>\n",
       "    <tr>\n",
       "      <th>2</th>\n",
       "      <td>363100012174221</td>\n",
       "      <td>–1652</td>\n",
       "      <td>0</td>\n",
       "      <td>–1652</td>\n",
       "    </tr>\n",
       "    <tr>\n",
       "      <th>3</th>\n",
       "      <td>363100012198469</td>\n",
       "      <td>–2023</td>\n",
       "      <td>-1</td>\n",
       "      <td>–1995</td>\n",
       "    </tr>\n",
       "    <tr>\n",
       "      <th>4</th>\n",
       "      <td>363100012232265</td>\n",
       "      <td>–1995</td>\n",
       "      <td>0</td>\n",
       "      <td>–1995</td>\n",
       "    </tr>\n",
       "  </tbody>\n",
       "</table>\n",
       "</div>"
      ],
      "text/plain": [
       "                id true_label  diff pre_label\n",
       "0  363100012103594      –2023     0     –2023\n",
       "1  363100012110942      -1944     0     -1944\n",
       "2  363100012174221      –1652     0     –1652\n",
       "3  363100012198469      –2023    -1     –1995\n",
       "4  363100012232265      –1995     0     –1995"
      ]
     },
     "execution_count": 35,
     "metadata": {},
     "output_type": "execute_result"
    }
   ],
   "source": [
    "df.head()"
   ]
  },
  {
   "cell_type": "code",
   "execution_count": 36,
   "id": "6e41c9ab",
   "metadata": {
    "ExecuteTime": {
     "end_time": "2023-10-31T14:27:06.810721400Z",
     "start_time": "2023-10-31T14:27:06.576033400Z"
    },
    "collapsed": false,
    "jupyter": {
     "outputs_hidden": false
    }
   },
   "outputs": [
    {
     "data": {
      "text/plain": [
       "0        363100012103594\n",
       "1        363100012110942\n",
       "2        363100012174221\n",
       "3        363100012198469\n",
       "4        363100012232265\n",
       "              ...       \n",
       "63637    363100012118012\n",
       "63638    363100012196527\n",
       "63639    363100012226712\n",
       "63640    363100012246785\n",
       "63641    363100012074968\n",
       "Name: id, Length: 79553, dtype: int64"
      ]
     },
     "execution_count": 36,
     "metadata": {},
     "output_type": "execute_result"
    }
   ],
   "source": [
    "df.id"
   ]
  },
  {
   "cell_type": "code",
   "execution_count": 37,
   "id": "df803837",
   "metadata": {
    "ExecuteTime": {
     "end_time": "2023-10-31T14:27:06.810721400Z",
     "start_time": "2023-10-31T14:27:06.583445500Z"
    },
    "collapsed": false,
    "jupyter": {
     "outputs_hidden": false
    }
   },
   "outputs": [
    {
     "data": {
      "text/plain": [
       "0    0363100012103594\n",
       "1    0363100012110942\n",
       "2    0363100012174221\n",
       "3    0363100012198469\n",
       "4    0363100012232265\n",
       "Name: id, dtype: object"
      ]
     },
     "execution_count": 37,
     "metadata": {},
     "output_type": "execute_result"
    }
   ],
   "source": [
    "## 处理id列 原地理数据的id时16位 \n",
    "# 将 id 转换为字符串，确保其长度为 16 个字符，必要时用前导零填充。\n",
    "df['id'] = df['id'].apply(lambda x: f\"{int(x):016}\")\n",
    "df['id'].head()"
   ]
  },
  {
   "cell_type": "code",
   "execution_count": 38,
   "id": "30490873",
   "metadata": {
    "ExecuteTime": {
     "end_time": "2023-10-31T14:27:06.811721700Z",
     "start_time": "2023-10-31T14:27:06.670336800Z"
    },
    "collapsed": false,
    "jupyter": {
     "outputs_hidden": false
    }
   },
   "outputs": [],
   "source": [
    "# save\n",
    "df.to_csv('predictions_with_building_age_diff_citywide.csv', index=False)"
   ]
  },
  {
   "cell_type": "code",
   "execution_count": 39,
   "id": "e22969bf",
   "metadata": {
    "ExecuteTime": {
     "end_time": "2023-10-31T14:27:45.113662400Z",
     "start_time": "2023-10-31T14:27:06.770440400Z"
    },
    "collapsed": false,
    "jupyter": {
     "outputs_hidden": false
    }
   },
   "outputs": [
    {
     "data": {
      "text/html": [
       "<div>\n",
       "<style scoped>\n",
       "    .dataframe tbody tr th:only-of-type {\n",
       "        vertical-align: middle;\n",
       "    }\n",
       "\n",
       "    .dataframe tbody tr th {\n",
       "        vertical-align: top;\n",
       "    }\n",
       "\n",
       "    .dataframe thead th {\n",
       "        text-align: right;\n",
       "    }\n",
       "</style>\n",
       "<table border=\"1\" class=\"dataframe\">\n",
       "  <thead>\n",
       "    <tr style=\"text-align: right;\">\n",
       "      <th></th>\n",
       "      <th>rdf_seealso</th>\n",
       "      <th>identificatie</th>\n",
       "      <th>bouwjaar</th>\n",
       "      <th>status</th>\n",
       "      <th>gebruiksdoel</th>\n",
       "      <th>oppervlakte_min</th>\n",
       "      <th>oppervlakte_max</th>\n",
       "      <th>aantal_verblijfsobjecten</th>\n",
       "      <th>geom_Length</th>\n",
       "      <th>geom_Area</th>\n",
       "      <th>geometry</th>\n",
       "    </tr>\n",
       "  </thead>\n",
       "  <tbody>\n",
       "    <tr>\n",
       "      <th>0</th>\n",
       "      <td>http://bag.basisregistraties.overheid.nl/bag/i...</td>\n",
       "      <td>0363100012061709</td>\n",
       "      <td>2007</td>\n",
       "      <td>Pand in gebruik</td>\n",
       "      <td>woonfunctie</td>\n",
       "      <td>331.0</td>\n",
       "      <td>331.0</td>\n",
       "      <td>1</td>\n",
       "      <td>60.067413</td>\n",
       "      <td>173.201627</td>\n",
       "      <td>MULTIPOLYGON (((635512.808 5802343.021, 635518...</td>\n",
       "    </tr>\n",
       "    <tr>\n",
       "      <th>1</th>\n",
       "      <td>http://bag.basisregistraties.overheid.nl/bag/i...</td>\n",
       "      <td>0363100012061225</td>\n",
       "      <td>1923</td>\n",
       "      <td>Pand in gebruik</td>\n",
       "      <td>woonfunctie</td>\n",
       "      <td>84.0</td>\n",
       "      <td>84.0</td>\n",
       "      <td>1</td>\n",
       "      <td>28.671057</td>\n",
       "      <td>48.016138</td>\n",
       "      <td>MULTIPOLYGON (((628083.847 5808893.547, 628087...</td>\n",
       "    </tr>\n",
       "    <tr>\n",
       "      <th>2</th>\n",
       "      <td>http://bag.basisregistraties.overheid.nl/bag/i...</td>\n",
       "      <td>0363100012061228</td>\n",
       "      <td>2004</td>\n",
       "      <td>Pand in gebruik</td>\n",
       "      <td>woonfunctie</td>\n",
       "      <td>93.0</td>\n",
       "      <td>128.0</td>\n",
       "      <td>2</td>\n",
       "      <td>38.826189</td>\n",
       "      <td>80.168377</td>\n",
       "      <td>MULTIPOLYGON (((635718.103 5802400.059, 635709...</td>\n",
       "    </tr>\n",
       "    <tr>\n",
       "      <th>3</th>\n",
       "      <td>http://bag.basisregistraties.overheid.nl/bag/i...</td>\n",
       "      <td>0363100012062224</td>\n",
       "      <td>1916</td>\n",
       "      <td>Pand in gebruik</td>\n",
       "      <td>woonfunctie</td>\n",
       "      <td>50.0</td>\n",
       "      <td>80.0</td>\n",
       "      <td>4</td>\n",
       "      <td>36.203712</td>\n",
       "      <td>61.107085</td>\n",
       "      <td>MULTIPOLYGON (((632084.702 5803319.551, 632084...</td>\n",
       "    </tr>\n",
       "    <tr>\n",
       "      <th>4</th>\n",
       "      <td>http://bag.basisregistraties.overheid.nl/bag/i...</td>\n",
       "      <td>0363100012063200</td>\n",
       "      <td>1965</td>\n",
       "      <td>Pand in gebruik</td>\n",
       "      <td>overige gebruiksfunctie</td>\n",
       "      <td>1.0</td>\n",
       "      <td>1.0</td>\n",
       "      <td>1</td>\n",
       "      <td>18.999679</td>\n",
       "      <td>19.500827</td>\n",
       "      <td>MULTIPOLYGON (((628012.652 5798762.544, 628013...</td>\n",
       "    </tr>\n",
       "    <tr>\n",
       "      <th>...</th>\n",
       "      <td>...</td>\n",
       "      <td>...</td>\n",
       "      <td>...</td>\n",
       "      <td>...</td>\n",
       "      <td>...</td>\n",
       "      <td>...</td>\n",
       "      <td>...</td>\n",
       "      <td>...</td>\n",
       "      <td>...</td>\n",
       "      <td>...</td>\n",
       "      <td>...</td>\n",
       "    </tr>\n",
       "    <tr>\n",
       "      <th>163205</th>\n",
       "      <td>http://bag.basisregistraties.overheid.nl/bag/i...</td>\n",
       "      <td>0363100012108647</td>\n",
       "      <td>1930</td>\n",
       "      <td>Verbouwing pand</td>\n",
       "      <td>woonfunctie</td>\n",
       "      <td>55.0</td>\n",
       "      <td>74.0</td>\n",
       "      <td>4</td>\n",
       "      <td>40.131014</td>\n",
       "      <td>85.559206</td>\n",
       "      <td>MULTIPOLYGON (((626035.853 5801868.062, 626049...</td>\n",
       "    </tr>\n",
       "    <tr>\n",
       "      <th>163206</th>\n",
       "      <td>http://bag.basisregistraties.overheid.nl/bag/i...</td>\n",
       "      <td>0363100012205962</td>\n",
       "      <td>1930</td>\n",
       "      <td>Verbouwing pand</td>\n",
       "      <td>NaN</td>\n",
       "      <td>NaN</td>\n",
       "      <td>NaN</td>\n",
       "      <td>0</td>\n",
       "      <td>12.798413</td>\n",
       "      <td>10.147451</td>\n",
       "      <td>MULTIPOLYGON (((626055.874 5801865.515, 626059...</td>\n",
       "    </tr>\n",
       "    <tr>\n",
       "      <th>163207</th>\n",
       "      <td>http://bag.basisregistraties.overheid.nl/bag/i...</td>\n",
       "      <td>0363100012071006</td>\n",
       "      <td>1930</td>\n",
       "      <td>Pand in gebruik</td>\n",
       "      <td>woonfunctie</td>\n",
       "      <td>97.0</td>\n",
       "      <td>108.0</td>\n",
       "      <td>3</td>\n",
       "      <td>43.029830</td>\n",
       "      <td>105.224237</td>\n",
       "      <td>MULTIPOLYGON (((626261.380 5802821.801, 626261...</td>\n",
       "    </tr>\n",
       "    <tr>\n",
       "      <th>163208</th>\n",
       "      <td>http://bag.basisregistraties.overheid.nl/bag/i...</td>\n",
       "      <td>0363100012086580</td>\n",
       "      <td>1930</td>\n",
       "      <td>Pand in gebruik</td>\n",
       "      <td>woonfunctie</td>\n",
       "      <td>103.0</td>\n",
       "      <td>111.0</td>\n",
       "      <td>3</td>\n",
       "      <td>49.600137</td>\n",
       "      <td>112.567086</td>\n",
       "      <td>MULTIPOLYGON (((626265.463 5802767.599, 626265...</td>\n",
       "    </tr>\n",
       "    <tr>\n",
       "      <th>163209</th>\n",
       "      <td>http://bag.basisregistraties.overheid.nl/bag/i...</td>\n",
       "      <td>0363100012161787</td>\n",
       "      <td>1988</td>\n",
       "      <td>Pand in gebruik (niet ingemeten)</td>\n",
       "      <td>woonfunctie</td>\n",
       "      <td>163.0</td>\n",
       "      <td>163.0</td>\n",
       "      <td>1</td>\n",
       "      <td>62.017814</td>\n",
       "      <td>143.479415</td>\n",
       "      <td>MULTIPOLYGON (((622841.873 5800571.808, 622842...</td>\n",
       "    </tr>\n",
       "  </tbody>\n",
       "</table>\n",
       "<p>163210 rows × 11 columns</p>\n",
       "</div>"
      ],
      "text/plain": [
       "                                              rdf_seealso     identificatie  \\\n",
       "0       http://bag.basisregistraties.overheid.nl/bag/i...  0363100012061709   \n",
       "1       http://bag.basisregistraties.overheid.nl/bag/i...  0363100012061225   \n",
       "2       http://bag.basisregistraties.overheid.nl/bag/i...  0363100012061228   \n",
       "3       http://bag.basisregistraties.overheid.nl/bag/i...  0363100012062224   \n",
       "4       http://bag.basisregistraties.overheid.nl/bag/i...  0363100012063200   \n",
       "...                                                   ...               ...   \n",
       "163205  http://bag.basisregistraties.overheid.nl/bag/i...  0363100012108647   \n",
       "163206  http://bag.basisregistraties.overheid.nl/bag/i...  0363100012205962   \n",
       "163207  http://bag.basisregistraties.overheid.nl/bag/i...  0363100012071006   \n",
       "163208  http://bag.basisregistraties.overheid.nl/bag/i...  0363100012086580   \n",
       "163209  http://bag.basisregistraties.overheid.nl/bag/i...  0363100012161787   \n",
       "\n",
       "        bouwjaar                            status             gebruiksdoel  \\\n",
       "0           2007                   Pand in gebruik              woonfunctie   \n",
       "1           1923                   Pand in gebruik              woonfunctie   \n",
       "2           2004                   Pand in gebruik              woonfunctie   \n",
       "3           1916                   Pand in gebruik              woonfunctie   \n",
       "4           1965                   Pand in gebruik  overige gebruiksfunctie   \n",
       "...          ...                               ...                      ...   \n",
       "163205      1930                   Verbouwing pand              woonfunctie   \n",
       "163206      1930                   Verbouwing pand                      NaN   \n",
       "163207      1930                   Pand in gebruik              woonfunctie   \n",
       "163208      1930                   Pand in gebruik              woonfunctie   \n",
       "163209      1988  Pand in gebruik (niet ingemeten)              woonfunctie   \n",
       "\n",
       "        oppervlakte_min  oppervlakte_max  aantal_verblijfsobjecten  \\\n",
       "0                 331.0            331.0                         1   \n",
       "1                  84.0             84.0                         1   \n",
       "2                  93.0            128.0                         2   \n",
       "3                  50.0             80.0                         4   \n",
       "4                   1.0              1.0                         1   \n",
       "...                 ...              ...                       ...   \n",
       "163205             55.0             74.0                         4   \n",
       "163206              NaN              NaN                         0   \n",
       "163207             97.0            108.0                         3   \n",
       "163208            103.0            111.0                         3   \n",
       "163209            163.0            163.0                         1   \n",
       "\n",
       "        geom_Length   geom_Area  \\\n",
       "0         60.067413  173.201627   \n",
       "1         28.671057   48.016138   \n",
       "2         38.826189   80.168377   \n",
       "3         36.203712   61.107085   \n",
       "4         18.999679   19.500827   \n",
       "...             ...         ...   \n",
       "163205    40.131014   85.559206   \n",
       "163206    12.798413   10.147451   \n",
       "163207    43.029830  105.224237   \n",
       "163208    49.600137  112.567086   \n",
       "163209    62.017814  143.479415   \n",
       "\n",
       "                                                 geometry  \n",
       "0       MULTIPOLYGON (((635512.808 5802343.021, 635518...  \n",
       "1       MULTIPOLYGON (((628083.847 5808893.547, 628087...  \n",
       "2       MULTIPOLYGON (((635718.103 5802400.059, 635709...  \n",
       "3       MULTIPOLYGON (((632084.702 5803319.551, 632084...  \n",
       "4       MULTIPOLYGON (((628012.652 5798762.544, 628013...  \n",
       "...                                                   ...  \n",
       "163205  MULTIPOLYGON (((626035.853 5801868.062, 626049...  \n",
       "163206  MULTIPOLYGON (((626055.874 5801865.515, 626059...  \n",
       "163207  MULTIPOLYGON (((626261.380 5802821.801, 626261...  \n",
       "163208  MULTIPOLYGON (((626265.463 5802767.599, 626265...  \n",
       "163209  MULTIPOLYGON (((622841.873 5800571.808, 622842...  \n",
       "\n",
       "[163210 rows x 11 columns]"
      ]
     },
     "execution_count": 39,
     "metadata": {},
     "output_type": "execute_result"
    }
   ],
   "source": [
    "# 读取建筑物的信息\n",
    "import geopandas as gpd\n",
    "gdb = r\"../../5-ArcgisPro工程/建筑风格和年代深度学习.gdb\"\n",
    "lr_name = 'Amsterdam_buildings_Project'\n",
    "gdf = gpd.read_file(filename=gdb, layer=lr_name)\n",
    "gdf"
   ]
  },
  {
   "cell_type": "code",
   "execution_count": 40,
   "id": "00f24000",
   "metadata": {
    "ExecuteTime": {
     "end_time": "2023-10-31T14:27:45.138818800Z",
     "start_time": "2023-10-31T14:27:45.110666600Z"
    },
    "collapsed": false,
    "jupyter": {
     "outputs_hidden": false
    }
   },
   "outputs": [
    {
     "data": {
      "text/html": [
       "<div>\n",
       "<style scoped>\n",
       "    .dataframe tbody tr th:only-of-type {\n",
       "        vertical-align: middle;\n",
       "    }\n",
       "\n",
       "    .dataframe tbody tr th {\n",
       "        vertical-align: top;\n",
       "    }\n",
       "\n",
       "    .dataframe thead th {\n",
       "        text-align: right;\n",
       "    }\n",
       "</style>\n",
       "<table border=\"1\" class=\"dataframe\">\n",
       "  <thead>\n",
       "    <tr style=\"text-align: right;\">\n",
       "      <th></th>\n",
       "      <th>identificatie</th>\n",
       "      <th>geometry</th>\n",
       "    </tr>\n",
       "  </thead>\n",
       "  <tbody>\n",
       "    <tr>\n",
       "      <th>0</th>\n",
       "      <td>0363100012061709</td>\n",
       "      <td>MULTIPOLYGON (((635512.808 5802343.021, 635518...</td>\n",
       "    </tr>\n",
       "    <tr>\n",
       "      <th>1</th>\n",
       "      <td>0363100012061225</td>\n",
       "      <td>MULTIPOLYGON (((628083.847 5808893.547, 628087...</td>\n",
       "    </tr>\n",
       "    <tr>\n",
       "      <th>2</th>\n",
       "      <td>0363100012061228</td>\n",
       "      <td>MULTIPOLYGON (((635718.103 5802400.059, 635709...</td>\n",
       "    </tr>\n",
       "    <tr>\n",
       "      <th>3</th>\n",
       "      <td>0363100012062224</td>\n",
       "      <td>MULTIPOLYGON (((632084.702 5803319.551, 632084...</td>\n",
       "    </tr>\n",
       "    <tr>\n",
       "      <th>4</th>\n",
       "      <td>0363100012063200</td>\n",
       "      <td>MULTIPOLYGON (((628012.652 5798762.544, 628013...</td>\n",
       "    </tr>\n",
       "  </tbody>\n",
       "</table>\n",
       "</div>"
      ],
      "text/plain": [
       "      identificatie                                           geometry\n",
       "0  0363100012061709  MULTIPOLYGON (((635512.808 5802343.021, 635518...\n",
       "1  0363100012061225  MULTIPOLYGON (((628083.847 5808893.547, 628087...\n",
       "2  0363100012061228  MULTIPOLYGON (((635718.103 5802400.059, 635709...\n",
       "3  0363100012062224  MULTIPOLYGON (((632084.702 5803319.551, 632084...\n",
       "4  0363100012063200  MULTIPOLYGON (((628012.652 5798762.544, 628013..."
      ]
     },
     "execution_count": 40,
     "metadata": {},
     "output_type": "execute_result"
    }
   ],
   "source": [
    "# 选取需要的列\n",
    "gdf = gdf[['identificatie', 'geometry']]\n",
    "gdf.head()"
   ]
  },
  {
   "cell_type": "code",
   "execution_count": 41,
   "id": "e531e670",
   "metadata": {
    "ExecuteTime": {
     "end_time": "2023-10-31T14:27:45.326770900Z",
     "start_time": "2023-10-31T14:27:45.134819Z"
    },
    "collapsed": false,
    "jupyter": {
     "outputs_hidden": false
    }
   },
   "outputs": [
    {
     "data": {
      "text/html": [
       "<div>\n",
       "<style scoped>\n",
       "    .dataframe tbody tr th:only-of-type {\n",
       "        vertical-align: middle;\n",
       "    }\n",
       "\n",
       "    .dataframe tbody tr th {\n",
       "        vertical-align: top;\n",
       "    }\n",
       "\n",
       "    .dataframe thead th {\n",
       "        text-align: right;\n",
       "    }\n",
       "</style>\n",
       "<table border=\"1\" class=\"dataframe\">\n",
       "  <thead>\n",
       "    <tr style=\"text-align: right;\">\n",
       "      <th></th>\n",
       "      <th>identificatie</th>\n",
       "      <th>geometry</th>\n",
       "      <th>id</th>\n",
       "      <th>true_label</th>\n",
       "      <th>diff</th>\n",
       "      <th>pre_label</th>\n",
       "    </tr>\n",
       "  </thead>\n",
       "  <tbody>\n",
       "    <tr>\n",
       "      <th>0</th>\n",
       "      <td>0363100012061709</td>\n",
       "      <td>MULTIPOLYGON (((635512.808 5802343.021, 635518...</td>\n",
       "      <td>NaN</td>\n",
       "      <td>NaN</td>\n",
       "      <td>NaN</td>\n",
       "      <td>NaN</td>\n",
       "    </tr>\n",
       "    <tr>\n",
       "      <th>1</th>\n",
       "      <td>0363100012061225</td>\n",
       "      <td>MULTIPOLYGON (((628083.847 5808893.547, 628087...</td>\n",
       "      <td>NaN</td>\n",
       "      <td>NaN</td>\n",
       "      <td>NaN</td>\n",
       "      <td>NaN</td>\n",
       "    </tr>\n",
       "    <tr>\n",
       "      <th>2</th>\n",
       "      <td>0363100012061228</td>\n",
       "      <td>MULTIPOLYGON (((635718.103 5802400.059, 635709...</td>\n",
       "      <td>0363100012061228</td>\n",
       "      <td>–2023</td>\n",
       "      <td>0.0</td>\n",
       "      <td>–2023</td>\n",
       "    </tr>\n",
       "    <tr>\n",
       "      <th>3</th>\n",
       "      <td>0363100012062224</td>\n",
       "      <td>MULTIPOLYGON (((632084.702 5803319.551, 632084...</td>\n",
       "      <td>NaN</td>\n",
       "      <td>NaN</td>\n",
       "      <td>NaN</td>\n",
       "      <td>NaN</td>\n",
       "    </tr>\n",
       "    <tr>\n",
       "      <th>4</th>\n",
       "      <td>0363100012063200</td>\n",
       "      <td>MULTIPOLYGON (((628012.652 5798762.544, 628013...</td>\n",
       "      <td>NaN</td>\n",
       "      <td>NaN</td>\n",
       "      <td>NaN</td>\n",
       "      <td>NaN</td>\n",
       "    </tr>\n",
       "  </tbody>\n",
       "</table>\n",
       "</div>"
      ],
      "text/plain": [
       "      identificatie                                           geometry  \\\n",
       "0  0363100012061709  MULTIPOLYGON (((635512.808 5802343.021, 635518...   \n",
       "1  0363100012061225  MULTIPOLYGON (((628083.847 5808893.547, 628087...   \n",
       "2  0363100012061228  MULTIPOLYGON (((635718.103 5802400.059, 635709...   \n",
       "3  0363100012062224  MULTIPOLYGON (((632084.702 5803319.551, 632084...   \n",
       "4  0363100012063200  MULTIPOLYGON (((628012.652 5798762.544, 628013...   \n",
       "\n",
       "                 id true_label  diff pre_label  \n",
       "0               NaN        NaN   NaN       NaN  \n",
       "1               NaN        NaN   NaN       NaN  \n",
       "2  0363100012061228      –2023   0.0     –2023  \n",
       "3               NaN        NaN   NaN       NaN  \n",
       "4               NaN        NaN   NaN       NaN  "
      ]
     },
     "execution_count": 41,
     "metadata": {},
     "output_type": "execute_result"
    }
   ],
   "source": [
    "## 合并两种数据\n",
    "df_merge = pd.merge(left=gdf, right=df, left_on='identificatie', right_on='id', how='outer')\n",
    "df_merge.head()"
   ]
  },
  {
   "cell_type": "code",
   "execution_count": 42,
   "id": "fe59494d",
   "metadata": {
    "ExecuteTime": {
     "end_time": "2023-10-31T14:27:45.378153800Z",
     "start_time": "2023-10-31T14:27:45.325771300Z"
    },
    "collapsed": false,
    "jupyter": {
     "outputs_hidden": false
    }
   },
   "outputs": [
    {
     "data": {
      "text/plain": [
       "0.4870035261276262"
      ]
     },
     "execution_count": 42,
     "metadata": {},
     "output_type": "execute_result"
    }
   ],
   "source": [
    "# 看一下diff非空值所占的比例，即有效数据的比例\n",
    "df_merge['diff'].notnull().sum() / df_merge.shape[0]"
   ]
  },
  {
   "cell_type": "code",
   "execution_count": 43,
   "id": "08627096",
   "metadata": {
    "ExecuteTime": {
     "end_time": "2023-10-31T14:27:45.381158500Z",
     "start_time": "2023-10-31T14:27:45.331720600Z"
    },
    "collapsed": false,
    "jupyter": {
     "outputs_hidden": false
    }
   },
   "outputs": [
    {
     "data": {
      "text/html": [
       "<div>\n",
       "<style scoped>\n",
       "    .dataframe tbody tr th:only-of-type {\n",
       "        vertical-align: middle;\n",
       "    }\n",
       "\n",
       "    .dataframe tbody tr th {\n",
       "        vertical-align: top;\n",
       "    }\n",
       "\n",
       "    .dataframe thead th {\n",
       "        text-align: right;\n",
       "    }\n",
       "</style>\n",
       "<table border=\"1\" class=\"dataframe\">\n",
       "  <thead>\n",
       "    <tr style=\"text-align: right;\">\n",
       "      <th></th>\n",
       "      <th>diff</th>\n",
       "    </tr>\n",
       "  </thead>\n",
       "  <tbody>\n",
       "    <tr>\n",
       "      <th>count</th>\n",
       "      <td>79553.000000</td>\n",
       "    </tr>\n",
       "    <tr>\n",
       "      <th>mean</th>\n",
       "      <td>-0.049363</td>\n",
       "    </tr>\n",
       "    <tr>\n",
       "      <th>std</th>\n",
       "      <td>0.813230</td>\n",
       "    </tr>\n",
       "    <tr>\n",
       "      <th>min</th>\n",
       "      <td>-8.000000</td>\n",
       "    </tr>\n",
       "    <tr>\n",
       "      <th>25%</th>\n",
       "      <td>0.000000</td>\n",
       "    </tr>\n",
       "    <tr>\n",
       "      <th>50%</th>\n",
       "      <td>0.000000</td>\n",
       "    </tr>\n",
       "    <tr>\n",
       "      <th>75%</th>\n",
       "      <td>0.000000</td>\n",
       "    </tr>\n",
       "    <tr>\n",
       "      <th>max</th>\n",
       "      <td>8.000000</td>\n",
       "    </tr>\n",
       "  </tbody>\n",
       "</table>\n",
       "</div>"
      ],
      "text/plain": [
       "               diff\n",
       "count  79553.000000\n",
       "mean      -0.049363\n",
       "std        0.813230\n",
       "min       -8.000000\n",
       "25%        0.000000\n",
       "50%        0.000000\n",
       "75%        0.000000\n",
       "max        8.000000"
      ]
     },
     "execution_count": 43,
     "metadata": {},
     "output_type": "execute_result"
    }
   ],
   "source": [
    "df_merge.describe()"
   ]
  },
  {
   "cell_type": "markdown",
   "id": "848f5052",
   "metadata": {},
   "source": [
    "### python绘图库可视化结果"
   ]
  },
  {
   "cell_type": "code",
   "execution_count": 44,
   "id": "17f47b9d",
   "metadata": {
    "ExecuteTime": {
     "end_time": "2023-10-31T14:27:45.634984500Z",
     "start_time": "2023-10-31T14:27:45.353123500Z"
    },
    "collapsed": false,
    "jupyter": {
     "outputs_hidden": false
    }
   },
   "outputs": [
    {
     "data": {
      "text/plain": [
       "<Axes: >"
      ]
     },
     "execution_count": 44,
     "metadata": {},
     "output_type": "execute_result"
    },
    {
     "data": {
      "image/png": "[encoded data removed]",
      "text/plain": [
       "<Figure size 640x480 with 1 Axes>"
      ]
     },
     "metadata": {},
     "output_type": "display_data"
    }
   ],
   "source": [
    "# 用看一下diff的总体分布\n",
    "df_merge['diff'].hist()"
   ]
  },
  {
   "cell_type": "markdown",
   "id": "36ea4fa0",
   "metadata": {},
   "source": [
    "## 空间可视化结果\n",
    "接下来来绘图，我喜欢在arcgis pro中绘图 所以我们把gdf_merge导出到数据库"
   ]
  },
  {
   "cell_type": "code",
   "execution_count": 45,
   "id": "dbba76e2",
   "metadata": {
    "ExecuteTime": {
     "end_time": "2023-10-31T14:27:45.634984500Z",
     "start_time": "2023-10-31T14:27:45.568343400Z"
    },
    "collapsed": false,
    "jupyter": {
     "outputs_hidden": false
    }
   },
   "outputs": [
    {
     "data": {
      "text/plain": [
       "<Projected CRS: EPSG:32631>\n",
       "Name: WGS 84 / UTM zone 31N\n",
       "Axis Info [cartesian]:\n",
       "- E[east]: Easting (metre)\n",
       "- N[north]: Northing (metre)\n",
       "Area of Use:\n",
       "- name: Between 0°E and 6°E, northern hemisphere between equator and 84°N, onshore and offshore. Algeria. Andorra. Belgium. Benin. Burkina Faso. Denmark - North Sea. France. Germany - North Sea. Ghana. Luxembourg. Mali. Netherlands. Niger. Nigeria. Norway. Spain. Togo. United Kingdom (UK) - North Sea.\n",
       "- bounds: (0.0, 0.0, 6.0, 84.0)\n",
       "Coordinate Operation:\n",
       "- name: UTM zone 31N\n",
       "- method: Transverse Mercator\n",
       "Datum: World Geodetic System 1984 ensemble\n",
       "- Ellipsoid: WGS 84\n",
       "- Prime Meridian: Greenwich"
      ]
     },
     "execution_count": 45,
     "metadata": {},
     "output_type": "execute_result"
    }
   ],
   "source": [
    "df_merge.crs"
   ]
  },
  {
   "cell_type": "code",
   "execution_count": 46,
   "id": "0ca53003",
   "metadata": {
    "ExecuteTime": {
     "end_time": "2023-10-31T14:28:13.147071400Z",
     "start_time": "2023-10-31T14:27:45.582475600Z"
    },
    "collapsed": false,
    "jupyter": {
     "outputs_hidden": false
    }
   },
   "outputs": [
    {
     "name": "stderr",
     "output_type": "stream",
     "text": [
      "C:\\Users\\hncdj\\AppData\\Local\\Temp\\ipykernel_48392\\3867282973.py:2: UserWarning: Column names longer than 10 characters will be truncated when saved to ESRI Shapefile.\n",
      "  df_merge.to_file(filename=gdb, layer='predictions_with_building_age_diff_city_wide')\n"
     ]
    }
   ],
   "source": [
    "# # save\n",
    "df_merge.to_file(filename=gdb, layer='predictions_with_building_age_diff_city_wide')"
   ]
  },
  {
   "cell_type": "markdown",
   "id": "58445762",
   "metadata": {},
   "source": [
    "粉色代表新建筑被预测为旧建筑，蓝色代表旧建筑被预测为新建筑。\n",
    "![阿姆斯特丹市中心建筑年代预测结果空间分布](../../5-ArcgisPro工程/阿姆斯特丹市中心建筑年代预测结果空间分布.jpg)"
   ]
  }
 ],
 "metadata": {
  "kernelspec": {
   "display_name": "Python 3",
   "language": "python",
   "name": "python3"
  },
  "language_info": {
   "codemirror_mode": {
    "name": "ipython",
    "version": 3
   },
   "file_extension": ".py",
   "mimetype": "text/x-python",
   "name": "python",
   "nbconvert_exporter": "python",
   "pygments_lexer": "ipython3",
   "version": "3.9.11"
  }
 },
 "nbformat": 4,
 "nbformat_minor": 5
}
