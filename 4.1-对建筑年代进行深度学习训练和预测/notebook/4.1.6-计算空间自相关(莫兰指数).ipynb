{
 "cells": [
  {
   "cell_type": "markdown",
   "id": "4cebcfb8af04cfbd",
   "metadata": {},
   "source": [
    "# 计算空间自相关指数（莫兰指数）\n",
    "## 获取阿姆斯特丹的郊区范围\n",
    "\n",
    "文章是计算的教区的莫兰指数，为了证明在郊区，建筑年代呈现出较弱的空间自相关性，即预测准确度在空间上既不是完全随机的，也不是强烈聚集的。我暂时没找到阿姆斯特丹的郊区范围，我们通过计算粗略画了一个市中心范围来演示如何用pysal计算莫兰指数。"
   ]
  },
  {
   "cell_type": "markdown",
   "id": "a4386d69-a4c7-44e2-9e59-294c9c2f2a33",
   "metadata": {},
   "source": [
    "## 1.获取含建筑位置信息和真实年代的建筑数据\n",
    "我们可以根据150m的网格来计算空间自相关 网格的建筑年代选择她所包含建筑的众数"
   ]
  },
  {
   "cell_type": "code",
   "execution_count": 105,
   "id": "fbcd49af-f4ac-4157-9bb9-5d85739ee355",
   "metadata": {
    "ExecuteTime": {
     "end_time": "2023-10-26T07:29:27.038799100Z",
     "start_time": "2023-10-26T07:28:46.989279900Z"
    },
    "collapsed": false,
    "jupyter": {
     "outputs_hidden": false
    },
    "tags": []
   },
   "outputs": [
    {
     "data": {
      "text/html": [
       "<div>\n",
       "<style scoped>\n",
       "    .dataframe tbody tr th:only-of-type {\n",
       "        vertical-align: middle;\n",
       "    }\n",
       "\n",
       "    .dataframe tbody tr th {\n",
       "        vertical-align: top;\n",
       "    }\n",
       "\n",
       "    .dataframe thead th {\n",
       "        text-align: right;\n",
       "    }\n",
       "</style>\n",
       "<table border=\"1\" class=\"dataframe\">\n",
       "  <thead>\n",
       "    <tr style=\"text-align: right;\">\n",
       "      <th></th>\n",
       "      <th>rdf_seealso</th>\n",
       "      <th>identificatie</th>\n",
       "      <th>bouwjaar</th>\n",
       "      <th>status</th>\n",
       "      <th>gebruiksdoel</th>\n",
       "      <th>oppervlakte_min</th>\n",
       "      <th>oppervlakte_max</th>\n",
       "      <th>aantal_verblijfsobjecten</th>\n",
       "      <th>geom_Length</th>\n",
       "      <th>geom_Area</th>\n",
       "      <th>geometry</th>\n",
       "    </tr>\n",
       "  </thead>\n",
       "  <tbody>\n",
       "    <tr>\n",
       "      <th>0</th>\n",
       "      <td>http://bag.basisregistraties.overheid.nl/bag/i...</td>\n",
       "      <td>0363100012061709</td>\n",
       "      <td>2007</td>\n",
       "      <td>Pand in gebruik</td>\n",
       "      <td>woonfunctie</td>\n",
       "      <td>331.0</td>\n",
       "      <td>331.0</td>\n",
       "      <td>1</td>\n",
       "      <td>60.067413</td>\n",
       "      <td>173.201627</td>\n",
       "      <td>MULTIPOLYGON (((635512.808 5802343.021, 635518...</td>\n",
       "    </tr>\n",
       "    <tr>\n",
       "      <th>1</th>\n",
       "      <td>http://bag.basisregistraties.overheid.nl/bag/i...</td>\n",
       "      <td>0363100012061225</td>\n",
       "      <td>1923</td>\n",
       "      <td>Pand in gebruik</td>\n",
       "      <td>woonfunctie</td>\n",
       "      <td>84.0</td>\n",
       "      <td>84.0</td>\n",
       "      <td>1</td>\n",
       "      <td>28.671057</td>\n",
       "      <td>48.016138</td>\n",
       "      <td>MULTIPOLYGON (((628083.847 5808893.547, 628087...</td>\n",
       "    </tr>\n",
       "    <tr>\n",
       "      <th>2</th>\n",
       "      <td>http://bag.basisregistraties.overheid.nl/bag/i...</td>\n",
       "      <td>0363100012061228</td>\n",
       "      <td>2004</td>\n",
       "      <td>Pand in gebruik</td>\n",
       "      <td>woonfunctie</td>\n",
       "      <td>93.0</td>\n",
       "      <td>128.0</td>\n",
       "      <td>2</td>\n",
       "      <td>38.826189</td>\n",
       "      <td>80.168377</td>\n",
       "      <td>MULTIPOLYGON (((635718.103 5802400.059, 635709...</td>\n",
       "    </tr>\n",
       "    <tr>\n",
       "      <th>3</th>\n",
       "      <td>http://bag.basisregistraties.overheid.nl/bag/i...</td>\n",
       "      <td>0363100012062224</td>\n",
       "      <td>1916</td>\n",
       "      <td>Pand in gebruik</td>\n",
       "      <td>woonfunctie</td>\n",
       "      <td>50.0</td>\n",
       "      <td>80.0</td>\n",
       "      <td>4</td>\n",
       "      <td>36.203712</td>\n",
       "      <td>61.107085</td>\n",
       "      <td>MULTIPOLYGON (((632084.702 5803319.551, 632084...</td>\n",
       "    </tr>\n",
       "    <tr>\n",
       "      <th>4</th>\n",
       "      <td>http://bag.basisregistraties.overheid.nl/bag/i...</td>\n",
       "      <td>0363100012063200</td>\n",
       "      <td>1965</td>\n",
       "      <td>Pand in gebruik</td>\n",
       "      <td>overige gebruiksfunctie</td>\n",
       "      <td>1.0</td>\n",
       "      <td>1.0</td>\n",
       "      <td>1</td>\n",
       "      <td>18.999679</td>\n",
       "      <td>19.500827</td>\n",
       "      <td>MULTIPOLYGON (((628012.652 5798762.544, 628013...</td>\n",
       "    </tr>\n",
       "  </tbody>\n",
       "</table>\n",
       "</div>"
      ],
      "text/plain": [
       "                                         rdf_seealso     identificatie  \\\n",
       "0  http://bag.basisregistraties.overheid.nl/bag/i...  0363100012061709   \n",
       "1  http://bag.basisregistraties.overheid.nl/bag/i...  0363100012061225   \n",
       "2  http://bag.basisregistraties.overheid.nl/bag/i...  0363100012061228   \n",
       "3  http://bag.basisregistraties.overheid.nl/bag/i...  0363100012062224   \n",
       "4  http://bag.basisregistraties.overheid.nl/bag/i...  0363100012063200   \n",
       "\n",
       "   bouwjaar           status             gebruiksdoel  oppervlakte_min  \\\n",
       "0      2007  Pand in gebruik              woonfunctie            331.0   \n",
       "1      1923  Pand in gebruik              woonfunctie             84.0   \n",
       "2      2004  Pand in gebruik              woonfunctie             93.0   \n",
       "3      1916  Pand in gebruik              woonfunctie             50.0   \n",
       "4      1965  Pand in gebruik  overige gebruiksfunctie              1.0   \n",
       "\n",
       "   oppervlakte_max  aantal_verblijfsobjecten  geom_Length   geom_Area  \\\n",
       "0            331.0                         1    60.067413  173.201627   \n",
       "1             84.0                         1    28.671057   48.016138   \n",
       "2            128.0                         2    38.826189   80.168377   \n",
       "3             80.0                         4    36.203712   61.107085   \n",
       "4              1.0                         1    18.999679   19.500827   \n",
       "\n",
       "                                            geometry  \n",
       "0  MULTIPOLYGON (((635512.808 5802343.021, 635518...  \n",
       "1  MULTIPOLYGON (((628083.847 5808893.547, 628087...  \n",
       "2  MULTIPOLYGON (((635718.103 5802400.059, 635709...  \n",
       "3  MULTIPOLYGON (((632084.702 5803319.551, 632084...  \n",
       "4  MULTIPOLYGON (((628012.652 5798762.544, 628013...  "
      ]
     },
     "execution_count": 105,
     "metadata": {},
     "output_type": "execute_result"
    }
   ],
   "source": [
    "import geopandas as gpd\n",
    "import pandas as pd\n",
    "\n",
    "gdb = r\"../../5-ArcgisPro工程/建筑风格和年代深度学习.gdb\" # \n",
    "lr_name = 'Amsterdam_buildings_Project'\n",
    "gdf = gpd.read_file(filename=gdb, layer=lr_name)\n",
    "gdf.head()"
   ]
  },
  {
   "cell_type": "markdown",
   "id": "2bdc3bc0-f031-4920-af5a-59fddba49d4b",
   "metadata": {},
   "source": [
    "## 2.空间连接"
   ]
  },
  {
   "cell_type": "code",
   "execution_count": 107,
   "id": "433d349d-a671-48df-a22d-72490fe7839e",
   "metadata": {
    "ExecuteTime": {
     "end_time": "2023-10-26T07:29:30.816331700Z",
     "start_time": "2023-10-26T07:29:27.023865800Z"
    },
    "collapsed": false,
    "jupyter": {
     "outputs_hidden": false
    },
    "tags": []
   },
   "outputs": [],
   "source": [
    "# 读取渔网\n",
    "gdf_fishnet = gpd.read_file(filename=gdb, layer='fishnet')\n",
    "\n",
    "# 读取渔网标注点\n",
    "gdf_fishnet_label = gpd.read_file(filename=gdb, layer='fishnet_label')"
   ]
  },
  {
   "cell_type": "code",
   "execution_count": 108,
   "id": "b997c9c3-60b0-44fa-a608-5d8e835dc779",
   "metadata": {
    "ExecuteTime": {
     "end_time": "2023-10-26T07:29:30.832331100Z",
     "start_time": "2023-10-26T07:29:30.818331100Z"
    },
    "collapsed": false,
    "jupyter": {
     "outputs_hidden": false
    },
    "tags": []
   },
   "outputs": [
    {
     "data": {
      "text/plain": [
       "(12150, 12150)"
      ]
     },
     "execution_count": 108,
     "metadata": {},
     "output_type": "execute_result"
    }
   ],
   "source": [
    "len(gdf_fishnet), len(gdf_fishnet_label)"
   ]
  },
  {
   "cell_type": "code",
   "execution_count": 109,
   "id": "7ce1d5be-99a8-4d9f-be89-eba2184e6591",
   "metadata": {
    "ExecuteTime": {
     "end_time": "2023-10-26T07:29:30.876840300Z",
     "start_time": "2023-10-26T07:29:30.834331600Z"
    },
    "collapsed": false,
    "jupyter": {
     "outputs_hidden": false
    },
    "tags": []
   },
   "outputs": [],
   "source": [
    "# 给渔网和标注点添加id列\n",
    "gdf_fishnet['id_left'] = gdf_fishnet.index\n",
    "gdf_fishnet_label['id_left'] = gdf_fishnet_label.index"
   ]
  },
  {
   "cell_type": "code",
   "execution_count": 110,
   "id": "e8b03df4-eef1-4c48-9685-29ca3f06b64a",
   "metadata": {
    "ExecuteTime": {
     "end_time": "2023-10-26T07:29:30.902847800Z",
     "start_time": "2023-10-26T07:29:30.848331300Z"
    },
    "collapsed": false,
    "jupyter": {
     "outputs_hidden": false
    },
    "tags": []
   },
   "outputs": [
    {
     "data": {
      "text/plain": [
       "'0.12.2'"
      ]
     },
     "execution_count": 110,
     "metadata": {},
     "output_type": "execute_result"
    }
   ],
   "source": [
    "# 查看geopandas的版本\n",
    "gpd.__version__"
   ]
  },
  {
   "cell_type": "markdown",
   "id": "293c4ae9-c008-4da4-b4ce-a915cd54d48e",
   "metadata": {},
   "source": [
    "### 空间连接的方法：一种是使用geopandas.GeoDataFrame.sjoin_nearest 空间连接，一种是使用geopandas.GeoDataFrame.sjoin 空间连接\n",
    "\n",
    "- [官方帮助文档](https://geopandas.org/en/latest/docs/user_guide/mergingdata.html#spatial-joins)"
   ]
  },
  {
   "cell_type": "code",
   "execution_count": 111,
   "id": "c69c9ada-3597-4e77-8797-c03fdea7fc31",
   "metadata": {
    "ExecuteTime": {
     "end_time": "2023-10-26T07:29:31.527236700Z",
     "start_time": "2023-10-26T07:29:30.899846500Z"
    },
    "collapsed": false,
    "jupyter": {
     "outputs_hidden": false
    },
    "tags": []
   },
   "outputs": [
    {
     "data": {
      "text/plain": [
       "196959"
      ]
     },
     "execution_count": 111,
     "metadata": {},
     "output_type": "execute_result"
    }
   ],
   "source": [
    "# 我们已经有方格网了，直接使用geopandas.GeoDataFrame.sjoin 空间连接, 保留左边的数据，即渔网的数据，然后根据右侧的数据进行计算\n",
    "gdf_fishnet = gpd.sjoin(gdf_fishnet, gdf, how='left', predicate='intersects') # op参数在将来的版本中将被弃用，并建议您使用predicate参数代替。\n",
    "len(gdf_fishnet)"
   ]
  },
  {
   "cell_type": "code",
   "execution_count": 112,
   "id": "4882aaa6-b2bd-4815-aa20-7762a3fc728b",
   "metadata": {
    "ExecuteTime": {
     "end_time": "2023-10-26T07:29:31.542357600Z",
     "start_time": "2023-10-26T07:29:31.537328500Z"
    },
    "collapsed": false,
    "jupyter": {
     "outputs_hidden": false
    },
    "tags": []
   },
   "outputs": [
    {
     "data": {
      "text/html": [
       "<div>\n",
       "<style scoped>\n",
       "    .dataframe tbody tr th:only-of-type {\n",
       "        vertical-align: middle;\n",
       "    }\n",
       "\n",
       "    .dataframe tbody tr th {\n",
       "        vertical-align: top;\n",
       "    }\n",
       "\n",
       "    .dataframe thead th {\n",
       "        text-align: right;\n",
       "    }\n",
       "</style>\n",
       "<table border=\"1\" class=\"dataframe\">\n",
       "  <thead>\n",
       "    <tr style=\"text-align: right;\">\n",
       "      <th></th>\n",
       "      <th>Shape_Length</th>\n",
       "      <th>Shape_Area</th>\n",
       "      <th>geometry</th>\n",
       "      <th>id_left</th>\n",
       "      <th>index_right</th>\n",
       "      <th>rdf_seealso</th>\n",
       "      <th>identificatie</th>\n",
       "      <th>bouwjaar</th>\n",
       "      <th>status</th>\n",
       "      <th>gebruiksdoel</th>\n",
       "      <th>oppervlakte_min</th>\n",
       "      <th>oppervlakte_max</th>\n",
       "      <th>aantal_verblijfsobjecten</th>\n",
       "      <th>geom_Length</th>\n",
       "      <th>geom_Area</th>\n",
       "    </tr>\n",
       "  </thead>\n",
       "  <tbody>\n",
       "    <tr>\n",
       "      <th>0</th>\n",
       "      <td>600.0</td>\n",
       "      <td>22500.0</td>\n",
       "      <td>MULTIPOLYGON (((617784.839 5798425.740, 617784...</td>\n",
       "      <td>0</td>\n",
       "      <td>NaN</td>\n",
       "      <td>NaN</td>\n",
       "      <td>NaN</td>\n",
       "      <td>NaN</td>\n",
       "      <td>NaN</td>\n",
       "      <td>NaN</td>\n",
       "      <td>NaN</td>\n",
       "      <td>NaN</td>\n",
       "      <td>NaN</td>\n",
       "      <td>NaN</td>\n",
       "      <td>NaN</td>\n",
       "    </tr>\n",
       "    <tr>\n",
       "      <th>1</th>\n",
       "      <td>600.0</td>\n",
       "      <td>22500.0</td>\n",
       "      <td>MULTIPOLYGON (((617934.839 5798425.740, 617934...</td>\n",
       "      <td>1</td>\n",
       "      <td>NaN</td>\n",
       "      <td>NaN</td>\n",
       "      <td>NaN</td>\n",
       "      <td>NaN</td>\n",
       "      <td>NaN</td>\n",
       "      <td>NaN</td>\n",
       "      <td>NaN</td>\n",
       "      <td>NaN</td>\n",
       "      <td>NaN</td>\n",
       "      <td>NaN</td>\n",
       "      <td>NaN</td>\n",
       "    </tr>\n",
       "    <tr>\n",
       "      <th>2</th>\n",
       "      <td>600.0</td>\n",
       "      <td>22500.0</td>\n",
       "      <td>MULTIPOLYGON (((618084.839 5798425.740, 618084...</td>\n",
       "      <td>2</td>\n",
       "      <td>NaN</td>\n",
       "      <td>NaN</td>\n",
       "      <td>NaN</td>\n",
       "      <td>NaN</td>\n",
       "      <td>NaN</td>\n",
       "      <td>NaN</td>\n",
       "      <td>NaN</td>\n",
       "      <td>NaN</td>\n",
       "      <td>NaN</td>\n",
       "      <td>NaN</td>\n",
       "      <td>NaN</td>\n",
       "    </tr>\n",
       "    <tr>\n",
       "      <th>3</th>\n",
       "      <td>600.0</td>\n",
       "      <td>22500.0</td>\n",
       "      <td>MULTIPOLYGON (((618234.839 5798425.740, 618234...</td>\n",
       "      <td>3</td>\n",
       "      <td>NaN</td>\n",
       "      <td>NaN</td>\n",
       "      <td>NaN</td>\n",
       "      <td>NaN</td>\n",
       "      <td>NaN</td>\n",
       "      <td>NaN</td>\n",
       "      <td>NaN</td>\n",
       "      <td>NaN</td>\n",
       "      <td>NaN</td>\n",
       "      <td>NaN</td>\n",
       "      <td>NaN</td>\n",
       "    </tr>\n",
       "    <tr>\n",
       "      <th>4</th>\n",
       "      <td>600.0</td>\n",
       "      <td>22500.0</td>\n",
       "      <td>MULTIPOLYGON (((618384.839 5798425.740, 618384...</td>\n",
       "      <td>4</td>\n",
       "      <td>NaN</td>\n",
       "      <td>NaN</td>\n",
       "      <td>NaN</td>\n",
       "      <td>NaN</td>\n",
       "      <td>NaN</td>\n",
       "      <td>NaN</td>\n",
       "      <td>NaN</td>\n",
       "      <td>NaN</td>\n",
       "      <td>NaN</td>\n",
       "      <td>NaN</td>\n",
       "      <td>NaN</td>\n",
       "    </tr>\n",
       "  </tbody>\n",
       "</table>\n",
       "</div>"
      ],
      "text/plain": [
       "   Shape_Length  Shape_Area  \\\n",
       "0         600.0     22500.0   \n",
       "1         600.0     22500.0   \n",
       "2         600.0     22500.0   \n",
       "3         600.0     22500.0   \n",
       "4         600.0     22500.0   \n",
       "\n",
       "                                            geometry  id_left  index_right  \\\n",
       "0  MULTIPOLYGON (((617784.839 5798425.740, 617784...        0          NaN   \n",
       "1  MULTIPOLYGON (((617934.839 5798425.740, 617934...        1          NaN   \n",
       "2  MULTIPOLYGON (((618084.839 5798425.740, 618084...        2          NaN   \n",
       "3  MULTIPOLYGON (((618234.839 5798425.740, 618234...        3          NaN   \n",
       "4  MULTIPOLYGON (((618384.839 5798425.740, 618384...        4          NaN   \n",
       "\n",
       "  rdf_seealso identificatie  bouwjaar status gebruiksdoel  oppervlakte_min  \\\n",
       "0         NaN           NaN       NaN    NaN          NaN              NaN   \n",
       "1         NaN           NaN       NaN    NaN          NaN              NaN   \n",
       "2         NaN           NaN       NaN    NaN          NaN              NaN   \n",
       "3         NaN           NaN       NaN    NaN          NaN              NaN   \n",
       "4         NaN           NaN       NaN    NaN          NaN              NaN   \n",
       "\n",
       "   oppervlakte_max  aantal_verblijfsobjecten  geom_Length  geom_Area  \n",
       "0              NaN                       NaN          NaN        NaN  \n",
       "1              NaN                       NaN          NaN        NaN  \n",
       "2              NaN                       NaN          NaN        NaN  \n",
       "3              NaN                       NaN          NaN        NaN  \n",
       "4              NaN                       NaN          NaN        NaN  "
      ]
     },
     "execution_count": 112,
     "metadata": {},
     "output_type": "execute_result"
    }
   ],
   "source": [
    "gdf_fishnet.head()"
   ]
  },
  {
   "cell_type": "code",
   "execution_count": 113,
   "id": "7ad45c9c-bc99-45d4-a61b-16c5c9d84b52",
   "metadata": {
    "ExecuteTime": {
     "end_time": "2023-10-26T07:29:31.636871500Z",
     "start_time": "2023-10-26T07:29:31.544358400Z"
    },
    "collapsed": false,
    "jupyter": {
     "outputs_hidden": false
    },
    "tags": []
   },
   "outputs": [
    {
     "data": {
      "text/html": [
       "<div>\n",
       "<style scoped>\n",
       "    .dataframe tbody tr th:only-of-type {\n",
       "        vertical-align: middle;\n",
       "    }\n",
       "\n",
       "    .dataframe tbody tr th {\n",
       "        vertical-align: top;\n",
       "    }\n",
       "\n",
       "    .dataframe thead th {\n",
       "        text-align: right;\n",
       "    }\n",
       "</style>\n",
       "<table border=\"1\" class=\"dataframe\">\n",
       "  <thead>\n",
       "    <tr style=\"text-align: right;\">\n",
       "      <th></th>\n",
       "      <th>Shape_Length</th>\n",
       "      <th>Shape_Area</th>\n",
       "      <th>geometry</th>\n",
       "      <th>id_left</th>\n",
       "      <th>index_right</th>\n",
       "      <th>rdf_seealso</th>\n",
       "      <th>identificatie</th>\n",
       "      <th>bouwjaar</th>\n",
       "      <th>status</th>\n",
       "      <th>gebruiksdoel</th>\n",
       "      <th>oppervlakte_min</th>\n",
       "      <th>oppervlakte_max</th>\n",
       "      <th>aantal_verblijfsobjecten</th>\n",
       "      <th>geom_Length</th>\n",
       "      <th>geom_Area</th>\n",
       "    </tr>\n",
       "  </thead>\n",
       "  <tbody>\n",
       "    <tr>\n",
       "      <th>58</th>\n",
       "      <td>600.0</td>\n",
       "      <td>22500.0</td>\n",
       "      <td>MULTIPOLYGON (((626484.839 5798425.740, 626484...</td>\n",
       "      <td>58</td>\n",
       "      <td>78305.0</td>\n",
       "      <td>http://bag.basisregistraties.overheid.nl/bag/i...</td>\n",
       "      <td>0363100012219206</td>\n",
       "      <td>1999.0</td>\n",
       "      <td>Pand in gebruik</td>\n",
       "      <td>overige gebruiksfunctie</td>\n",
       "      <td>33.0</td>\n",
       "      <td>33.0</td>\n",
       "      <td>1.0</td>\n",
       "      <td>25.768368</td>\n",
       "      <td>39.462713</td>\n",
       "    </tr>\n",
       "    <tr>\n",
       "      <th>58</th>\n",
       "      <td>600.0</td>\n",
       "      <td>22500.0</td>\n",
       "      <td>MULTIPOLYGON (((626484.839 5798425.740, 626484...</td>\n",
       "      <td>58</td>\n",
       "      <td>77154.0</td>\n",
       "      <td>http://bag.basisregistraties.overheid.nl/bag/i...</td>\n",
       "      <td>0363100012098206</td>\n",
       "      <td>2000.0</td>\n",
       "      <td>Pand in gebruik</td>\n",
       "      <td>winkelfunctie</td>\n",
       "      <td>702.0</td>\n",
       "      <td>702.0</td>\n",
       "      <td>1.0</td>\n",
       "      <td>87.990630</td>\n",
       "      <td>420.873348</td>\n",
       "    </tr>\n",
       "    <tr>\n",
       "      <th>58</th>\n",
       "      <td>600.0</td>\n",
       "      <td>22500.0</td>\n",
       "      <td>MULTIPOLYGON (((626484.839 5798425.740, 626484...</td>\n",
       "      <td>58</td>\n",
       "      <td>76449.0</td>\n",
       "      <td>http://bag.basisregistraties.overheid.nl/bag/i...</td>\n",
       "      <td>0363100012062550</td>\n",
       "      <td>1940.0</td>\n",
       "      <td>Pand in gebruik</td>\n",
       "      <td>winkelfunctie,woonfunctie</td>\n",
       "      <td>58.0</td>\n",
       "      <td>104.0</td>\n",
       "      <td>7.0</td>\n",
       "      <td>59.394625</td>\n",
       "      <td>167.876756</td>\n",
       "    </tr>\n",
       "    <tr>\n",
       "      <th>58</th>\n",
       "      <td>600.0</td>\n",
       "      <td>22500.0</td>\n",
       "      <td>MULTIPOLYGON (((626484.839 5798425.740, 626484...</td>\n",
       "      <td>58</td>\n",
       "      <td>78029.0</td>\n",
       "      <td>http://bag.basisregistraties.overheid.nl/bag/i...</td>\n",
       "      <td>0363100012142486</td>\n",
       "      <td>1938.0</td>\n",
       "      <td>Pand in gebruik</td>\n",
       "      <td>woonfunctie</td>\n",
       "      <td>160.0</td>\n",
       "      <td>160.0</td>\n",
       "      <td>1.0</td>\n",
       "      <td>33.945079</td>\n",
       "      <td>66.521755</td>\n",
       "    </tr>\n",
       "    <tr>\n",
       "      <th>58</th>\n",
       "      <td>600.0</td>\n",
       "      <td>22500.0</td>\n",
       "      <td>MULTIPOLYGON (((626484.839 5798425.740, 626484...</td>\n",
       "      <td>58</td>\n",
       "      <td>77008.0</td>\n",
       "      <td>http://bag.basisregistraties.overheid.nl/bag/i...</td>\n",
       "      <td>0363100012090243</td>\n",
       "      <td>2002.0</td>\n",
       "      <td>Pand in gebruik</td>\n",
       "      <td>woonfunctie</td>\n",
       "      <td>102.0</td>\n",
       "      <td>102.0</td>\n",
       "      <td>1.0</td>\n",
       "      <td>32.200195</td>\n",
       "      <td>58.336294</td>\n",
       "    </tr>\n",
       "  </tbody>\n",
       "</table>\n",
       "</div>"
      ],
      "text/plain": [
       "    Shape_Length  Shape_Area  \\\n",
       "58         600.0     22500.0   \n",
       "58         600.0     22500.0   \n",
       "58         600.0     22500.0   \n",
       "58         600.0     22500.0   \n",
       "58         600.0     22500.0   \n",
       "\n",
       "                                             geometry  id_left  index_right  \\\n",
       "58  MULTIPOLYGON (((626484.839 5798425.740, 626484...       58      78305.0   \n",
       "58  MULTIPOLYGON (((626484.839 5798425.740, 626484...       58      77154.0   \n",
       "58  MULTIPOLYGON (((626484.839 5798425.740, 626484...       58      76449.0   \n",
       "58  MULTIPOLYGON (((626484.839 5798425.740, 626484...       58      78029.0   \n",
       "58  MULTIPOLYGON (((626484.839 5798425.740, 626484...       58      77008.0   \n",
       "\n",
       "                                          rdf_seealso     identificatie  \\\n",
       "58  http://bag.basisregistraties.overheid.nl/bag/i...  0363100012219206   \n",
       "58  http://bag.basisregistraties.overheid.nl/bag/i...  0363100012098206   \n",
       "58  http://bag.basisregistraties.overheid.nl/bag/i...  0363100012062550   \n",
       "58  http://bag.basisregistraties.overheid.nl/bag/i...  0363100012142486   \n",
       "58  http://bag.basisregistraties.overheid.nl/bag/i...  0363100012090243   \n",
       "\n",
       "    bouwjaar           status               gebruiksdoel  oppervlakte_min  \\\n",
       "58    1999.0  Pand in gebruik    overige gebruiksfunctie             33.0   \n",
       "58    2000.0  Pand in gebruik              winkelfunctie            702.0   \n",
       "58    1940.0  Pand in gebruik  winkelfunctie,woonfunctie             58.0   \n",
       "58    1938.0  Pand in gebruik                woonfunctie            160.0   \n",
       "58    2002.0  Pand in gebruik                woonfunctie            102.0   \n",
       "\n",
       "    oppervlakte_max  aantal_verblijfsobjecten  geom_Length   geom_Area  \n",
       "58             33.0                       1.0    25.768368   39.462713  \n",
       "58            702.0                       1.0    87.990630  420.873348  \n",
       "58            104.0                       7.0    59.394625  167.876756  \n",
       "58            160.0                       1.0    33.945079   66.521755  \n",
       "58            102.0                       1.0    32.200195   58.336294  "
      ]
     },
     "execution_count": 113,
     "metadata": {},
     "output_type": "execute_result"
    }
   ],
   "source": [
    "# 扔掉空网格数据\n",
    "gdf_fishnet = gdf_fishnet.dropna(subset=['bouwjaar'])\n",
    "gdf_fishnet.head()"
   ]
  },
  {
   "cell_type": "code",
   "execution_count": 114,
   "id": "150d6ce6-d16f-47af-ba56-7eed968f18c8",
   "metadata": {
    "ExecuteTime": {
     "end_time": "2023-10-26T07:29:31.641871600Z",
     "start_time": "2023-10-26T07:29:31.608873900Z"
    },
    "collapsed": false,
    "jupyter": {
     "outputs_hidden": false
    },
    "tags": []
   },
   "outputs": [],
   "source": [
    "import pandas as pd\n",
    "\n",
    "# 定义一个函数来获取众数\n",
    "def mode_function(x):\n",
    "    # 计算众数\n",
    "    modes = x.mode()\n",
    "    \n",
    "    # 如果有多个众数，我们可以选择返回第一个\n",
    "    if len(modes) > 0:\n",
    "        return modes.iloc[0]\n",
    "    else:\n",
    "        return None  # 或者您可以选择一个默认值"
   ]
  },
  {
   "cell_type": "code",
   "execution_count": 115,
   "id": "6968d883-9296-4349-ace7-23de872ff7ce",
   "metadata": {
    "ExecuteTime": {
     "end_time": "2023-10-26T07:29:37.733615700Z",
     "start_time": "2023-10-26T07:29:31.624871800Z"
    },
    "collapsed": false,
    "jupyter": {
     "outputs_hidden": false
    },
    "tags": []
   },
   "outputs": [],
   "source": [
    "# 根据网格进行分类统计 使用groupby或者geopandas的dissolve，我们使用dissolve\n",
    "mode_150m = gdf_fishnet.dissolve(by='id_left', aggfunc={\"bouwjaar\": mode_function})"
   ]
  },
  {
   "cell_type": "code",
   "execution_count": 116,
   "id": "27a72676-53d3-4eb7-a2e6-a4389dc95f4d",
   "metadata": {
    "ExecuteTime": {
     "end_time": "2023-10-26T07:29:37.748617700Z",
     "start_time": "2023-10-26T07:29:37.744614600Z"
    },
    "collapsed": false,
    "jupyter": {
     "outputs_hidden": false
    },
    "tags": []
   },
   "outputs": [
    {
     "data": {
      "text/html": [
       "<div>\n",
       "<style scoped>\n",
       "    .dataframe tbody tr th:only-of-type {\n",
       "        vertical-align: middle;\n",
       "    }\n",
       "\n",
       "    .dataframe tbody tr th {\n",
       "        vertical-align: top;\n",
       "    }\n",
       "\n",
       "    .dataframe thead th {\n",
       "        text-align: right;\n",
       "    }\n",
       "</style>\n",
       "<table border=\"1\" class=\"dataframe\">\n",
       "  <thead>\n",
       "    <tr style=\"text-align: right;\">\n",
       "      <th></th>\n",
       "      <th>geometry</th>\n",
       "      <th>bouwjaar</th>\n",
       "    </tr>\n",
       "    <tr>\n",
       "      <th>id_left</th>\n",
       "      <th></th>\n",
       "      <th></th>\n",
       "    </tr>\n",
       "  </thead>\n",
       "  <tbody>\n",
       "    <tr>\n",
       "      <th>58</th>\n",
       "      <td>POLYGON ((626484.839 5798425.740, 626484.839 5...</td>\n",
       "      <td>1939.0</td>\n",
       "    </tr>\n",
       "    <tr>\n",
       "      <th>59</th>\n",
       "      <td>POLYGON ((626784.839 5798425.740, 626634.839 5...</td>\n",
       "      <td>2010.0</td>\n",
       "    </tr>\n",
       "    <tr>\n",
       "      <th>60</th>\n",
       "      <td>POLYGON ((626934.839 5798575.740, 626934.839 5...</td>\n",
       "      <td>2006.0</td>\n",
       "    </tr>\n",
       "    <tr>\n",
       "      <th>61</th>\n",
       "      <td>POLYGON ((626934.839 5798425.740, 626934.839 5...</td>\n",
       "      <td>2006.0</td>\n",
       "    </tr>\n",
       "    <tr>\n",
       "      <th>77</th>\n",
       "      <td>POLYGON ((629334.839 5798575.740, 629484.839 5...</td>\n",
       "      <td>1928.0</td>\n",
       "    </tr>\n",
       "    <tr>\n",
       "      <th>...</th>\n",
       "      <td>...</td>\n",
       "      <td>...</td>\n",
       "    </tr>\n",
       "    <tr>\n",
       "      <th>11819</th>\n",
       "      <td>POLYGON ((635784.839 5810275.740, 635784.839 5...</td>\n",
       "      <td>2006.0</td>\n",
       "    </tr>\n",
       "    <tr>\n",
       "      <th>11912</th>\n",
       "      <td>POLYGON ((627084.839 5810275.740, 627084.839 5...</td>\n",
       "      <td>2009.0</td>\n",
       "    </tr>\n",
       "    <tr>\n",
       "      <th>11962</th>\n",
       "      <td>POLYGON ((634584.839 5810275.740, 634584.839 5...</td>\n",
       "      <td>1990.0</td>\n",
       "    </tr>\n",
       "    <tr>\n",
       "      <th>12059</th>\n",
       "      <td>POLYGON ((626784.839 5810575.740, 626784.839 5...</td>\n",
       "      <td>1982.0</td>\n",
       "    </tr>\n",
       "    <tr>\n",
       "      <th>12060</th>\n",
       "      <td>POLYGON ((626784.839 5810425.740, 626784.839 5...</td>\n",
       "      <td>1982.0</td>\n",
       "    </tr>\n",
       "  </tbody>\n",
       "</table>\n",
       "<p>5293 rows × 2 columns</p>\n",
       "</div>"
      ],
      "text/plain": [
       "                                                  geometry  bouwjaar\n",
       "id_left                                                             \n",
       "58       POLYGON ((626484.839 5798425.740, 626484.839 5...    1939.0\n",
       "59       POLYGON ((626784.839 5798425.740, 626634.839 5...    2010.0\n",
       "60       POLYGON ((626934.839 5798575.740, 626934.839 5...    2006.0\n",
       "61       POLYGON ((626934.839 5798425.740, 626934.839 5...    2006.0\n",
       "77       POLYGON ((629334.839 5798575.740, 629484.839 5...    1928.0\n",
       "...                                                    ...       ...\n",
       "11819    POLYGON ((635784.839 5810275.740, 635784.839 5...    2006.0\n",
       "11912    POLYGON ((627084.839 5810275.740, 627084.839 5...    2009.0\n",
       "11962    POLYGON ((634584.839 5810275.740, 634584.839 5...    1990.0\n",
       "12059    POLYGON ((626784.839 5810575.740, 626784.839 5...    1982.0\n",
       "12060    POLYGON ((626784.839 5810425.740, 626784.839 5...    1982.0\n",
       "\n",
       "[5293 rows x 2 columns]"
      ]
     },
     "execution_count": 116,
     "metadata": {},
     "output_type": "execute_result"
    }
   ],
   "source": [
    "mode_150m"
   ]
  },
  {
   "cell_type": "code",
   "execution_count": 117,
   "id": "3d38272e-b24b-4115-88eb-4835088b9b5f",
   "metadata": {
    "ExecuteTime": {
     "end_time": "2023-10-26T07:29:37.873735200Z",
     "start_time": "2023-10-26T07:29:37.750617700Z"
    },
    "collapsed": false,
    "jupyter": {
     "outputs_hidden": false
    },
    "tags": []
   },
   "outputs": [],
   "source": [
    "# 重置索引\n",
    "mode_150m = mode_150m.reset_index()"
   ]
  },
  {
   "cell_type": "code",
   "execution_count": 118,
   "id": "25bc819f-7529-4e04-8604-81d53b8bcb20",
   "metadata": {
    "ExecuteTime": {
     "end_time": "2023-10-26T07:29:37.912256800Z",
     "start_time": "2023-10-26T07:29:37.863738500Z"
    },
    "collapsed": false,
    "jupyter": {
     "outputs_hidden": false
    },
    "tags": []
   },
   "outputs": [
    {
     "data": {
      "text/html": [
       "<div>\n",
       "<style scoped>\n",
       "    .dataframe tbody tr th:only-of-type {\n",
       "        vertical-align: middle;\n",
       "    }\n",
       "\n",
       "    .dataframe tbody tr th {\n",
       "        vertical-align: top;\n",
       "    }\n",
       "\n",
       "    .dataframe thead th {\n",
       "        text-align: right;\n",
       "    }\n",
       "</style>\n",
       "<table border=\"1\" class=\"dataframe\">\n",
       "  <thead>\n",
       "    <tr style=\"text-align: right;\">\n",
       "      <th></th>\n",
       "      <th>id_left</th>\n",
       "      <th>geometry</th>\n",
       "      <th>bouwjaar</th>\n",
       "    </tr>\n",
       "  </thead>\n",
       "  <tbody>\n",
       "    <tr>\n",
       "      <th>0</th>\n",
       "      <td>58</td>\n",
       "      <td>POLYGON ((626484.839 5798425.740, 626484.839 5...</td>\n",
       "      <td>1939.0</td>\n",
       "    </tr>\n",
       "    <tr>\n",
       "      <th>1</th>\n",
       "      <td>59</td>\n",
       "      <td>POLYGON ((626784.839 5798425.740, 626634.839 5...</td>\n",
       "      <td>2010.0</td>\n",
       "    </tr>\n",
       "    <tr>\n",
       "      <th>2</th>\n",
       "      <td>60</td>\n",
       "      <td>POLYGON ((626934.839 5798575.740, 626934.839 5...</td>\n",
       "      <td>2006.0</td>\n",
       "    </tr>\n",
       "    <tr>\n",
       "      <th>3</th>\n",
       "      <td>61</td>\n",
       "      <td>POLYGON ((626934.839 5798425.740, 626934.839 5...</td>\n",
       "      <td>2006.0</td>\n",
       "    </tr>\n",
       "    <tr>\n",
       "      <th>4</th>\n",
       "      <td>77</td>\n",
       "      <td>POLYGON ((629334.839 5798575.740, 629484.839 5...</td>\n",
       "      <td>1928.0</td>\n",
       "    </tr>\n",
       "    <tr>\n",
       "      <th>...</th>\n",
       "      <td>...</td>\n",
       "      <td>...</td>\n",
       "      <td>...</td>\n",
       "    </tr>\n",
       "    <tr>\n",
       "      <th>5288</th>\n",
       "      <td>11819</td>\n",
       "      <td>POLYGON ((635784.839 5810275.740, 635784.839 5...</td>\n",
       "      <td>2006.0</td>\n",
       "    </tr>\n",
       "    <tr>\n",
       "      <th>5289</th>\n",
       "      <td>11912</td>\n",
       "      <td>POLYGON ((627084.839 5810275.740, 627084.839 5...</td>\n",
       "      <td>2009.0</td>\n",
       "    </tr>\n",
       "    <tr>\n",
       "      <th>5290</th>\n",
       "      <td>11962</td>\n",
       "      <td>POLYGON ((634584.839 5810275.740, 634584.839 5...</td>\n",
       "      <td>1990.0</td>\n",
       "    </tr>\n",
       "    <tr>\n",
       "      <th>5291</th>\n",
       "      <td>12059</td>\n",
       "      <td>POLYGON ((626784.839 5810575.740, 626784.839 5...</td>\n",
       "      <td>1982.0</td>\n",
       "    </tr>\n",
       "    <tr>\n",
       "      <th>5292</th>\n",
       "      <td>12060</td>\n",
       "      <td>POLYGON ((626784.839 5810425.740, 626784.839 5...</td>\n",
       "      <td>1982.0</td>\n",
       "    </tr>\n",
       "  </tbody>\n",
       "</table>\n",
       "<p>5293 rows × 3 columns</p>\n",
       "</div>"
      ],
      "text/plain": [
       "      id_left                                           geometry  bouwjaar\n",
       "0          58  POLYGON ((626484.839 5798425.740, 626484.839 5...    1939.0\n",
       "1          59  POLYGON ((626784.839 5798425.740, 626634.839 5...    2010.0\n",
       "2          60  POLYGON ((626934.839 5798575.740, 626934.839 5...    2006.0\n",
       "3          61  POLYGON ((626934.839 5798425.740, 626934.839 5...    2006.0\n",
       "4          77  POLYGON ((629334.839 5798575.740, 629484.839 5...    1928.0\n",
       "...       ...                                                ...       ...\n",
       "5288    11819  POLYGON ((635784.839 5810275.740, 635784.839 5...    2006.0\n",
       "5289    11912  POLYGON ((627084.839 5810275.740, 627084.839 5...    2009.0\n",
       "5290    11962  POLYGON ((634584.839 5810275.740, 634584.839 5...    1990.0\n",
       "5291    12059  POLYGON ((626784.839 5810575.740, 626784.839 5...    1982.0\n",
       "5292    12060  POLYGON ((626784.839 5810425.740, 626784.839 5...    1982.0\n",
       "\n",
       "[5293 rows x 3 columns]"
      ]
     },
     "execution_count": 118,
     "metadata": {},
     "output_type": "execute_result"
    }
   ],
   "source": [
    "accuracy_polygon_gdf = gpd.GeoDataFrame(mode_150m, geometry='geometry').set_crs(32631)\n",
    "accuracy_polygon_gdf"
   ]
  },
  {
   "cell_type": "markdown",
   "id": "78f1e0c2-5f4e-42d1-ab75-0d0ec5582c74",
   "metadata": {},
   "source": []
  },
  {
   "cell_type": "code",
   "execution_count": 119,
   "id": "43d00ed0-ca1a-44f9-a3b1-795cae164e28",
   "metadata": {
    "ExecuteTime": {
     "end_time": "2023-10-26T07:29:37.968767600Z",
     "start_time": "2023-10-26T07:29:37.892735600Z"
    },
    "collapsed": false,
    "jupyter": {
     "outputs_hidden": false
    },
    "tags": []
   },
   "outputs": [
    {
     "data": {
      "text/html": [
       "<div>\n",
       "<style scoped>\n",
       "    .dataframe tbody tr th:only-of-type {\n",
       "        vertical-align: middle;\n",
       "    }\n",
       "\n",
       "    .dataframe tbody tr th {\n",
       "        vertical-align: top;\n",
       "    }\n",
       "\n",
       "    .dataframe thead th {\n",
       "        text-align: right;\n",
       "    }\n",
       "</style>\n",
       "<table border=\"1\" class=\"dataframe\">\n",
       "  <thead>\n",
       "    <tr style=\"text-align: right;\">\n",
       "      <th></th>\n",
       "      <th>id_left</th>\n",
       "      <th>geometry</th>\n",
       "      <th>bouwjaar</th>\n",
       "    </tr>\n",
       "  </thead>\n",
       "  <tbody>\n",
       "    <tr>\n",
       "      <th>0</th>\n",
       "      <td>58</td>\n",
       "      <td>POLYGON ((626484.839 5798425.740, 626484.839 5...</td>\n",
       "      <td>1939.0</td>\n",
       "    </tr>\n",
       "    <tr>\n",
       "      <th>1</th>\n",
       "      <td>59</td>\n",
       "      <td>POLYGON ((626784.839 5798425.740, 626634.839 5...</td>\n",
       "      <td>2010.0</td>\n",
       "    </tr>\n",
       "    <tr>\n",
       "      <th>2</th>\n",
       "      <td>60</td>\n",
       "      <td>POLYGON ((626934.839 5798575.740, 626934.839 5...</td>\n",
       "      <td>2006.0</td>\n",
       "    </tr>\n",
       "    <tr>\n",
       "      <th>3</th>\n",
       "      <td>61</td>\n",
       "      <td>POLYGON ((626934.839 5798425.740, 626934.839 5...</td>\n",
       "      <td>2006.0</td>\n",
       "    </tr>\n",
       "    <tr>\n",
       "      <th>4</th>\n",
       "      <td>77</td>\n",
       "      <td>POLYGON ((629334.839 5798575.740, 629484.839 5...</td>\n",
       "      <td>1928.0</td>\n",
       "    </tr>\n",
       "    <tr>\n",
       "      <th>...</th>\n",
       "      <td>...</td>\n",
       "      <td>...</td>\n",
       "      <td>...</td>\n",
       "    </tr>\n",
       "    <tr>\n",
       "      <th>5288</th>\n",
       "      <td>11819</td>\n",
       "      <td>POLYGON ((635784.839 5810275.740, 635784.839 5...</td>\n",
       "      <td>2006.0</td>\n",
       "    </tr>\n",
       "    <tr>\n",
       "      <th>5289</th>\n",
       "      <td>11912</td>\n",
       "      <td>POLYGON ((627084.839 5810275.740, 627084.839 5...</td>\n",
       "      <td>2009.0</td>\n",
       "    </tr>\n",
       "    <tr>\n",
       "      <th>5290</th>\n",
       "      <td>11962</td>\n",
       "      <td>POLYGON ((634584.839 5810275.740, 634584.839 5...</td>\n",
       "      <td>1990.0</td>\n",
       "    </tr>\n",
       "    <tr>\n",
       "      <th>5291</th>\n",
       "      <td>12059</td>\n",
       "      <td>POLYGON ((626784.839 5810575.740, 626784.839 5...</td>\n",
       "      <td>1982.0</td>\n",
       "    </tr>\n",
       "    <tr>\n",
       "      <th>5292</th>\n",
       "      <td>12060</td>\n",
       "      <td>POLYGON ((626784.839 5810425.740, 626784.839 5...</td>\n",
       "      <td>1982.0</td>\n",
       "    </tr>\n",
       "  </tbody>\n",
       "</table>\n",
       "<p>5293 rows × 3 columns</p>\n",
       "</div>"
      ],
      "text/plain": [
       "      id_left                                           geometry  bouwjaar\n",
       "0          58  POLYGON ((626484.839 5798425.740, 626484.839 5...    1939.0\n",
       "1          59  POLYGON ((626784.839 5798425.740, 626634.839 5...    2010.0\n",
       "2          60  POLYGON ((626934.839 5798575.740, 626934.839 5...    2006.0\n",
       "3          61  POLYGON ((626934.839 5798425.740, 626934.839 5...    2006.0\n",
       "4          77  POLYGON ((629334.839 5798575.740, 629484.839 5...    1928.0\n",
       "...       ...                                                ...       ...\n",
       "5288    11819  POLYGON ((635784.839 5810275.740, 635784.839 5...    2006.0\n",
       "5289    11912  POLYGON ((627084.839 5810275.740, 627084.839 5...    2009.0\n",
       "5290    11962  POLYGON ((634584.839 5810275.740, 634584.839 5...    1990.0\n",
       "5291    12059  POLYGON ((626784.839 5810575.740, 626784.839 5...    1982.0\n",
       "5292    12060  POLYGON ((626784.839 5810425.740, 626784.839 5...    1982.0\n",
       "\n",
       "[5293 rows x 3 columns]"
      ]
     },
     "execution_count": 119,
     "metadata": {},
     "output_type": "execute_result"
    }
   ],
   "source": [
    "building_grid = accuracy_polygon_gdf.dropna(how='any')\n",
    "building_grid"
   ]
  },
  {
   "cell_type": "code",
   "execution_count": 120,
   "id": "f72be662-03b1-4a0d-b402-49d74d2d0a17",
   "metadata": {
    "ExecuteTime": {
     "end_time": "2023-10-26T07:29:38.210914300Z",
     "start_time": "2023-10-26T07:29:37.924258500Z"
    },
    "collapsed": false,
    "jupyter": {
     "outputs_hidden": false
    },
    "tags": []
   },
   "outputs": [
    {
     "data": {
      "text/html": [
       "<div>\n",
       "<style scoped>\n",
       "    .dataframe tbody tr th:only-of-type {\n",
       "        vertical-align: middle;\n",
       "    }\n",
       "\n",
       "    .dataframe tbody tr th {\n",
       "        vertical-align: top;\n",
       "    }\n",
       "\n",
       "    .dataframe thead th {\n",
       "        text-align: right;\n",
       "    }\n",
       "</style>\n",
       "<table border=\"1\" class=\"dataframe\">\n",
       "  <thead>\n",
       "    <tr style=\"text-align: right;\">\n",
       "      <th></th>\n",
       "      <th>Shape_Length</th>\n",
       "      <th>Shape_Area</th>\n",
       "      <th>geometry</th>\n",
       "    </tr>\n",
       "  </thead>\n",
       "  <tbody>\n",
       "    <tr>\n",
       "      <th>0</th>\n",
       "      <td>11845.762056</td>\n",
       "      <td>9.031238e+06</td>\n",
       "      <td>MULTIPOLYGON Z (((628055.690 5805548.435 0.000...</td>\n",
       "    </tr>\n",
       "  </tbody>\n",
       "</table>\n",
       "</div>"
      ],
      "text/plain": [
       "   Shape_Length    Shape_Area  \\\n",
       "0  11845.762056  9.031238e+06   \n",
       "\n",
       "                                            geometry  \n",
       "0  MULTIPOLYGON Z (((628055.690 5805548.435 0.000...  "
      ]
     },
     "execution_count": 120,
     "metadata": {},
     "output_type": "execute_result"
    }
   ],
   "source": [
    "# 读取市中心范围\n",
    "## 可以先绘制city_center_boundary_box看一下\n",
    "city_center_boundary_box = gpd.read_file(filename=gdb, layer='city_center_boundary_box')\n",
    "city_center_boundary_box"
   ]
  },
  {
   "cell_type": "code",
   "execution_count": 121,
   "id": "68421e61-dd12-42ec-b6e9-6395ba764104",
   "metadata": {
    "ExecuteTime": {
     "end_time": "2023-10-26T07:29:38.296558500Z",
     "start_time": "2023-10-26T07:29:38.209404600Z"
    },
    "collapsed": false,
    "jupyter": {
     "outputs_hidden": false
    },
    "tags": []
   },
   "outputs": [
    {
     "data": {
      "text/plain": [
       "5293"
      ]
     },
     "execution_count": 121,
     "metadata": {},
     "output_type": "execute_result"
    }
   ],
   "source": [
    "len(building_grid)"
   ]
  },
  {
   "cell_type": "code",
   "execution_count": 122,
   "id": "7abc478e-783d-4730-b88e-857c3674cd3d",
   "metadata": {
    "ExecuteTime": {
     "end_time": "2023-10-26T07:29:39.611718200Z",
     "start_time": "2023-10-26T07:29:38.273561100Z"
    },
    "collapsed": false,
    "jupyter": {
     "outputs_hidden": false
    },
    "tags": []
   },
   "outputs": [
    {
     "data": {
      "image/png": "[encoded data removed]",
      "text/plain": [
       "<Figure size 1000x1000 with 1 Axes>"
      ]
     },
     "metadata": {},
     "output_type": "display_data"
    }
   ],
   "source": [
    "# 绘制building_grid和边框city_center_boundary_box\n",
    "import matplotlib.pyplot as plt\n",
    "\n",
    "fig, ax = plt.subplots(figsize=(10, 10))\n",
    "building_grid.plot(ax=ax, color='red', alpha=0.5)\n",
    "city_center_boundary_box.plot(ax=ax, color='blue', alpha=0.5)\n",
    "plt.show()"
   ]
  },
  {
   "cell_type": "code",
   "execution_count": 123,
   "id": "036e77f7-8508-4f02-8b96-182458015cd1",
   "metadata": {
    "ExecuteTime": {
     "end_time": "2023-10-26T07:29:39.650263400Z",
     "start_time": "2023-10-26T07:29:39.612722800Z"
    },
    "collapsed": false,
    "jupyter": {
     "outputs_hidden": false
    },
    "tags": []
   },
   "outputs": [
    {
     "name": "stdout",
     "output_type": "stream",
     "text": [
      "338 4955\n"
     ]
    }
   ],
   "source": [
    "# 选取市中心的建筑\n",
    "df_within = gpd.sjoin(building_grid, city_center_boundary_box, how='inner', predicate='within')\n",
    "\n",
    "df_not_within = building_grid[~building_grid.index.isin(df_within.index)]\n",
    "\n",
    "print(len(df_within), len(df_not_within))"
   ]
  },
  {
   "cell_type": "code",
   "execution_count": 124,
   "id": "95caeaa8-bc27-4b72-98ca-42ac59eae641",
   "metadata": {
    "ExecuteTime": {
     "end_time": "2023-10-26T07:29:40.387475400Z",
     "start_time": "2023-10-26T07:29:39.657234700Z"
    },
    "collapsed": false,
    "jupyter": {
     "outputs_hidden": false
    },
    "tags": []
   },
   "outputs": [
    {
     "data": {
      "image/png": "[encoded data removed]",
      "text/plain": [
       "<Figure size 1000x1000 with 1 Axes>"
      ]
     },
     "metadata": {},
     "output_type": "display_data"
    }
   ],
   "source": [
    "fig, ax = plt.subplots(figsize=(10, 10))\n",
    "df_not_within.plot(ax=ax, color='red', alpha=0.5)\n",
    "plt.show()"
   ]
  },
  {
   "cell_type": "code",
   "execution_count": 125,
   "id": "7e126b73-22e9-4863-b9e4-0e4f2cb37709",
   "metadata": {
    "ExecuteTime": {
     "end_time": "2023-10-26T07:29:41.286406800Z",
     "start_time": "2023-10-26T07:29:40.384478200Z"
    },
    "collapsed": false,
    "jupyter": {
     "outputs_hidden": false
    },
    "tags": []
   },
   "outputs": [
    {
     "data": {
      "text/plain": [
       "<Axes: >"
      ]
     },
     "execution_count": 125,
     "metadata": {},
     "output_type": "execute_result"
    },
    {
     "data": {
      "image/png": "[encoded data removed]",
      "text/plain": [
       "<Figure size 640x480 with 2 Axes>"
      ]
     },
     "metadata": {},
     "output_type": "display_data"
    }
   ],
   "source": [
    "df_not_within.plot(column='bouwjaar', legend=True)"
   ]
  },
  {
   "cell_type": "code",
   "execution_count": 126,
   "id": "5622c70d-64f6-4db7-bc4c-1649e32f0489",
   "metadata": {
    "ExecuteTime": {
     "end_time": "2023-10-26T07:30:17.025066900Z",
     "start_time": "2023-10-26T07:30:16.117918600Z"
    },
    "collapsed": false,
    "jupyter": {
     "outputs_hidden": false
    },
    "tags": []
   },
   "outputs": [],
   "source": [
    "df_not_within.to_file('../../data/output/accuracy_polygon_150m.geojson', driver='GeoJSON')"
   ]
  },
  {
   "cell_type": "markdown",
   "id": "b234ff00c6c3e06f",
   "metadata": {},
   "source": [
    "## 计算郊区的范围的莫兰指数"
   ]
  },
  {
   "cell_type": "code",
   "execution_count": 127,
   "id": "869204305fdc34eb",
   "metadata": {
    "ExecuteTime": {
     "end_time": "2023-10-26T05:08:01.399641500Z",
     "start_time": "2023-10-26T05:08:01.071805Z"
    },
    "collapsed": false,
    "jupyter": {
     "outputs_hidden": false
    },
    "tags": []
   },
   "outputs": [],
   "source": [
    "## 安装和导入库\n",
    "# conda install pysal\n",
    "import pysal as ps\n",
    "import geopandas as gpd\n",
    "import numpy as np"
   ]
  },
  {
   "cell_type": "code",
   "execution_count": 101,
   "id": "bd5f233a13deaf89",
   "metadata": {
    "ExecuteTime": {
     "end_time": "2023-10-26T05:15:17.362508400Z",
     "start_time": "2023-10-26T05:15:16.840034500Z"
    },
    "collapsed": false,
    "jupyter": {
     "outputs_hidden": false
    },
    "tags": []
   },
   "outputs": [
    {
     "data": {
      "text/html": [
       "<div>\n",
       "<style scoped>\n",
       "    .dataframe tbody tr th:only-of-type {\n",
       "        vertical-align: middle;\n",
       "    }\n",
       "\n",
       "    .dataframe tbody tr th {\n",
       "        vertical-align: top;\n",
       "    }\n",
       "\n",
       "    .dataframe thead th {\n",
       "        text-align: right;\n",
       "    }\n",
       "</style>\n",
       "<table border=\"1\" class=\"dataframe\">\n",
       "  <thead>\n",
       "    <tr style=\"text-align: right;\">\n",
       "      <th></th>\n",
       "      <th>id_left</th>\n",
       "      <th>bouwjaar</th>\n",
       "      <th>geometry</th>\n",
       "    </tr>\n",
       "  </thead>\n",
       "  <tbody>\n",
       "    <tr>\n",
       "      <th>0</th>\n",
       "      <td>58</td>\n",
       "      <td>1939.0</td>\n",
       "      <td>POLYGON ((626484.839 5798425.740, 626484.839 5...</td>\n",
       "    </tr>\n",
       "    <tr>\n",
       "      <th>1</th>\n",
       "      <td>59</td>\n",
       "      <td>2010.0</td>\n",
       "      <td>POLYGON ((626784.839 5798425.740, 626634.839 5...</td>\n",
       "    </tr>\n",
       "    <tr>\n",
       "      <th>2</th>\n",
       "      <td>60</td>\n",
       "      <td>2006.0</td>\n",
       "      <td>POLYGON ((626934.839 5798575.740, 626934.839 5...</td>\n",
       "    </tr>\n",
       "    <tr>\n",
       "      <th>3</th>\n",
       "      <td>61</td>\n",
       "      <td>2006.0</td>\n",
       "      <td>POLYGON ((626934.839 5798425.740, 626934.839 5...</td>\n",
       "    </tr>\n",
       "    <tr>\n",
       "      <th>4</th>\n",
       "      <td>77</td>\n",
       "      <td>1928.0</td>\n",
       "      <td>POLYGON ((629334.839 5798575.740, 629484.839 5...</td>\n",
       "    </tr>\n",
       "  </tbody>\n",
       "</table>\n",
       "</div>"
      ],
      "text/plain": [
       "   id_left  bouwjaar                                           geometry\n",
       "0       58    1939.0  POLYGON ((626484.839 5798425.740, 626484.839 5...\n",
       "1       59    2010.0  POLYGON ((626784.839 5798425.740, 626634.839 5...\n",
       "2       60    2006.0  POLYGON ((626934.839 5798575.740, 626934.839 5...\n",
       "3       61    2006.0  POLYGON ((626934.839 5798425.740, 626934.839 5...\n",
       "4       77    1928.0  POLYGON ((629334.839 5798575.740, 629484.839 5..."
      ]
     },
     "execution_count": 101,
     "metadata": {},
     "output_type": "execute_result"
    }
   ],
   "source": []
  },
  {
   "cell_type": "code",
   "execution_count": 128,
   "id": "99c65680c705c4cc",
   "metadata": {
    "ExecuteTime": {
     "end_time": "2023-10-26T05:15:19.610377500Z",
     "start_time": "2023-10-26T05:15:19.415884800Z"
    },
    "collapsed": false,
    "jupyter": {
     "outputs_hidden": false
    },
    "tags": []
   },
   "outputs": [
    {
     "name": "stderr",
     "output_type": "stream",
     "text": [
      "C:\\Users\\hncdj\\anaconda3\\envs\\dl\\Lib\\site-packages\\pysal\\lib\\weights\\_contW_lists.py:20: ShapelyDeprecationWarning: The 'type' attribute is deprecated, and will be removed in the future. You can use the 'geom_type' attribute instead.\n",
      "  if shape.type.lower() == 'polygon':\n",
      "C:\\Users\\hncdj\\anaconda3\\envs\\dl\\Lib\\site-packages\\pysal\\lib\\weights\\_contW_lists.py:23: ShapelyDeprecationWarning: The 'type' attribute is deprecated, and will be removed in the future. You can use the 'geom_type' attribute instead.\n",
      "  elif shape.type.lower() == 'linestring':\n",
      "C:\\Users\\hncdj\\anaconda3\\envs\\dl\\Lib\\site-packages\\pysal\\lib\\weights\\weights.py:167: UserWarning: There are 14 disconnected observations \n",
      "  Island ids: 1069, 1260, 2650, 3165, 3261, 4413, 4697, 4813, 4847, 4864, 4895, 4947, 4950, 4951\n",
      "  warnings.warn(\"There are %d disconnected observations\" % ni + ' \\n '\n"
     ]
    }
   ],
   "source": [
    "# 创建一个空间权重矩阵对象\n",
    "# 例如，使用Queen的连通性标准\n",
    "w = ps.lib.weights.Queen.from_dataframe(df_not_within)\n"
   ]
  },
  {
   "cell_type": "code",
   "execution_count": 129,
   "id": "f223153d9562339f",
   "metadata": {
    "ExecuteTime": {
     "end_time": "2023-10-26T05:15:54.822039800Z",
     "start_time": "2023-10-26T05:15:54.803596600Z"
    },
    "collapsed": false,
    "jupyter": {
     "outputs_hidden": false
    },
    "tags": []
   },
   "outputs": [
    {
     "name": "stdout",
     "output_type": "stream",
     "text": [
      "('WARNING: ', 1069, ' is an island (no neighbors)')\n",
      "('WARNING: ', 1260, ' is an island (no neighbors)')\n",
      "('WARNING: ', 2650, ' is an island (no neighbors)')\n",
      "('WARNING: ', 3165, ' is an island (no neighbors)')\n",
      "('WARNING: ', 3261, ' is an island (no neighbors)')\n",
      "('WARNING: ', 4413, ' is an island (no neighbors)')\n",
      "('WARNING: ', 4697, ' is an island (no neighbors)')\n",
      "('WARNING: ', 4813, ' is an island (no neighbors)')\n",
      "('WARNING: ', 4847, ' is an island (no neighbors)')\n",
      "('WARNING: ', 4864, ' is an island (no neighbors)')\n",
      "('WARNING: ', 4895, ' is an island (no neighbors)')\n",
      "('WARNING: ', 4947, ' is an island (no neighbors)')\n",
      "('WARNING: ', 4950, ' is an island (no neighbors)')\n",
      "('WARNING: ', 4951, ' is an island (no neighbors)')\n"
     ]
    }
   ],
   "source": [
    "# 标准化权重\n",
    "w.transform = 'r'"
   ]
  },
  {
   "cell_type": "code",
   "execution_count": 130,
   "id": "3b329feb5d751842",
   "metadata": {
    "ExecuteTime": {
     "end_time": "2023-10-26T05:17:37.905708800Z",
     "start_time": "2023-10-26T05:17:37.813846300Z"
    },
    "collapsed": false,
    "jupyter": {
     "outputs_hidden": false
    },
    "tags": []
   },
   "outputs": [
    {
     "name": "stdout",
     "output_type": "stream",
     "text": [
      "Moran's I:  0.3672452417312258\n",
      "Expected Moran's I:  -0.00020185708518368994\n",
      "p-value:  0.001\n"
     ]
    }
   ],
   "source": [
    "# 您感兴趣的观测值列\n",
    "y = df_not_within['bouwjaar'].values\n",
    "\n",
    "# 计算Moran's I\n",
    "moran = ps.explore.esda.Moran(y, w)\n",
    "\n",
    "# 输出Moran's I的值和其他相关统计信息\n",
    "print(\"Moran's I: \", moran.I)\n",
    "print(\"Expected Moran's I: \", moran.EI)\n",
    "print(\"p-value: \", moran.p_sim)"
   ]
  },
  {
   "cell_type": "markdown",
   "id": "6092c2f130a58779",
   "metadata": {},
   "source": [
    "- 莫兰指数 (Moran's I): 您的数据显示为 0.3672（通常我们只取到小数点后四位）。这是一个正值，表明您的数据集中存在正的空间自相关。简单来说，具有相似特征的观测值在空间上彼此靠近。莫兰指数的值范围从 -1（完全分散）到 +1（完全集聚），而0表示随机分布。您的值接近0.37，表明相对中等程度的正向空间自相关。\n",
    "\n",
    "- 期望的莫兰指数 (Expected Moran's I): 这个值是 -0.0002，几乎是0，它是在随机情况下可以预期的莫兰指数。理论上，如果观测值是完全随机分布的（即没有空间自相关），莫兰指数应接近于此值。\n",
    "\n",
    "- p 值: 您的 p 值是 0.001，这是一个非常小的数值，表明您的结果是统计显著的。在统计学中，p 值通常用于判断假设检验的结果是否具有统计意义。一般来说，p 值小于 0.05（有时小于 0.01）被认为是统计显著的，意味着观测到的模式（在这种情况下是空间自相关）很可能不是偶然发生的。\n",
    "\n",
    "当然，我们知道论文中的郊区的建筑年代的预测的莫兰指数是0.27，我们是建筑真实年代的莫兰指数，注意差别。"
   ]
  }
 ],
 "metadata": {
  "kernelspec": {
   "display_name": "Python 3 (ipykernel)",
   "language": "python",
   "name": "python3"
  },
  "language_info": {
   "codemirror_mode": {
    "name": "ipython",
    "version": 3
   },
   "file_extension": ".py",
   "mimetype": "text/x-python",
   "name": "python",
   "nbconvert_exporter": "python",
   "pygments_lexer": "ipython3",
   "version": "3.11.5"
  }
 },
 "nbformat": 4,
 "nbformat_minor": 5
}
