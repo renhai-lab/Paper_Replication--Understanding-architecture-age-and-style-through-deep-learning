{
 "cells": [
  {
   "cell_type": "markdown",
   "metadata": {},
   "source": [
    "# 方法二：使用ArcGIS Pro寻找街景点\n",
    "[获取数据集——《通过深度学习了解建筑年代和风格》论文复现（二）](https://cdn.renhai-lab.tech/archives/Understanding_architecture_age_and_style_through_deep_learning_part2)"
   ]
  },
  {
   "cell_type": "markdown",
   "metadata": {},
   "source": [
    "## 分步骤解释："
   ]
  },
  {
   "cell_type": "markdown",
   "metadata": {},
   "source": [
    "### 1.简化建筑物\n",
    "https://pro.arcgis.com/zh-cn/pro-app/3.0/tool-reference/cartography/simplify-building.htm\n",
    "\n",
    "![示意图](https://image-1315363329.cos.ap-shanghai.myqcloud.com/lessons/202310170935112.png)\n",
    "\n",
    "代码：'arcpy.cartography.SimplifyBuilding(in_features, out_feature_class, simplification_tolerance, {minimum_area}, {conflict_option}, {in_barriers}, {collapsed_point_option})'"
   ]
  },
  {
   "cell_type": "code",
   "execution_count": 44,
   "metadata": {},
   "outputs": [
    {
     "data": {
      "text/html": [
       "<div class='gpresult'><h2>Messages</h2><div id='messages' data-messages='[\"开始时间: 2023年10月17日 23:44:09\",\"运行 成功，结束时间： 2023年10月17日 23:44:09 (历时: 0.55 秒)\"]' data-show='true'><div id = 'default' /></div></div>"
      ],
      "text/plain": [
       "<Result 'C:\\\\Users\\\\hncdj\\\\Documents\\\\Python_\\\\Python辅助城市研究\\\\建筑风格和年代机器学习\\\\5-ArcgisPro工程\\\\建筑风格和年代深度学习.gdb\\\\single_building_SimplifyBuild'>"
      ]
     },
     "execution_count": 44,
     "metadata": {},
     "output_type": "execute_result"
    }
   ],
   "source": [
    "arcpy.cartography.SimplifyBuilding(\"Amsterdam_buil_0363100012061237\", \n",
    "                                   \"single_building_SimplifyBuild\", \n",
    "                                   \"3 Meters\", None, \"NO_CHECK\", None, \"NO_KEEP\")"
   ]
  },
  {
   "cell_type": "markdown",
   "metadata": {},
   "source": [
    "### 2.获取建筑物的边上的中点"
   ]
  },
  {
   "cell_type": "code",
   "execution_count": 45,
   "metadata": {},
   "outputs": [],
   "source": [
    "import arcpy\n",
    "\n",
    "# 输入的多边形要素类\n",
    "input_polygon_feature_class = \"single_building_SimplifyBuild\" # \"single_building\" # \"Amsterdam_buildings_Project\"\n"
   ]
  },
  {
   "cell_type": "code",
   "execution_count": 46,
   "metadata": {},
   "outputs": [
    {
     "name": "stdout",
     "output_type": "stream",
     "text": [
      "626666.8219000003 5799563.76475\n",
      "626661.8779500001 5799559.9069\n",
      "626656.6625000001 5799565.5102\n",
      "626663.25 5799571.4521\n",
      "626670.24835 5799569.61565\n",
      "626668.6048000003 5799567.5316\n"
     ]
    }
   ],
   "source": [
    "# 定义SpatialReference对象，这里以WGS 1984坐标系为例\n",
    "sr = arcpy.SpatialReference(32631)\n",
    "\n",
    "# 使用SearchCursor遍历多边形\n",
    "with arcpy.da.SearchCursor(input_polygon_feature_class, [\"identificatie\", \"SHAPE@\"]) as cursor:\n",
    "    for row in cursor:\n",
    "\n",
    "        polygon_id = row[0] # 建筑的id\n",
    "        polygon = row[1]\n",
    "        \n",
    "        \n",
    "        # 创建一个Array\n",
    "        point_array = arcpy.Array()\n",
    "        \n",
    "        # 遍历多边形的每一段，计算并存储中心点\n",
    "        # 遍历poly中所有的多边形，part为每个单独的多边形\n",
    "        for part in polygon: \n",
    "            # 遍历每个边\n",
    "            for i in range(len(part) - 1):\n",
    "                start_point = part[i]\n",
    "                end_point = part[i + 1]\n",
    "                mid_x = (start_point.X + end_point.X) / 2\n",
    "                mid_y = (start_point.Y + end_point.Y) / 2\n",
    "                print(mid_x, mid_y)\n",
    "                \n",
    "                # 创建arcpy的点\n",
    "                midpoint = arcpy.Point(mid_x, mid_y)\n",
    "                \n",
    "                # 添加到Array\n",
    "                point_array.add(midpoint)\n",
    "                \n",
    "            # 使用Array创建Multipoint对象\n",
    "            multipoint = arcpy.Multipoint(point_array, sr)\n"
   ]
  },
  {
   "cell_type": "code",
   "execution_count": 47,
   "metadata": {},
   "outputs": [
    {
     "data": {
      "image/svg+xml": [
       "<svg xmlns=\"http://www.w3.org/2000/svg\" xmlns:xlink=\"http://www.w3.org/1999/xlink\" width=\"100.0\" height=\"100.0\" viewBox=\"626656.1190660001 5799559.363466 14.67271799989976 12.63206799980253\" preserveAspectRatio=\"xMinYMin meet\"><g transform=\"matrix(1,0,0,-1,0,11599131.359000001)\"><g><circle cx=\"626666.8219000003\" cy=\"5799563.76475\" r=\"0.4401815399969928\" stroke=\"#555555\" stroke-width=\"0.1467271799989976\" fill=\"#66cc99\" opacity=\"0.6\" /><circle cx=\"626661.8779500001\" cy=\"5799559.9069\" r=\"0.4401815399969928\" stroke=\"#555555\" stroke-width=\"0.1467271799989976\" fill=\"#66cc99\" opacity=\"0.6\" /><circle cx=\"626656.6625000001\" cy=\"5799565.5102\" r=\"0.4401815399969928\" stroke=\"#555555\" stroke-width=\"0.1467271799989976\" fill=\"#66cc99\" opacity=\"0.6\" /><circle cx=\"626663.25\" cy=\"5799571.4521\" r=\"0.4401815399969928\" stroke=\"#555555\" stroke-width=\"0.1467271799989976\" fill=\"#66cc99\" opacity=\"0.6\" /><circle cx=\"626670.24835\" cy=\"5799569.61565\" r=\"0.4401815399969928\" stroke=\"#555555\" stroke-width=\"0.1467271799989976\" fill=\"#66cc99\" opacity=\"0.6\" /><circle cx=\"626668.6048000003\" cy=\"5799567.5316\" r=\"0.4401815399969928\" stroke=\"#555555\" stroke-width=\"0.1467271799989976\" fill=\"#66cc99\" opacity=\"0.6\" /></g></g></svg>"
      ],
      "text/plain": [
       "<Multipoint object at 0x20ef83dd5b0[0x20ef83dd6f0]>"
      ]
     },
     "execution_count": 47,
     "metadata": {},
     "output_type": "execute_result"
    }
   ],
   "source": [
    "multipoint"
   ]
  },
  {
   "cell_type": "code",
   "execution_count": 48,
   "metadata": {},
   "outputs": [
    {
     "data": {
      "text/html": [
       "<div class='gpresult'><h2>Messages</h2><div id='messages' data-messages='[\"开始时间: 2023年10月17日 23:44:11\",\"运行 成功，结束时间： 2023年10月17日 23:44:12 (历时: 0.43 秒)\"]' data-show='true'><div id = 'default' /></div></div>"
      ],
      "text/plain": [
       "<Result 'C:\\\\Users\\\\hncdj\\\\Documents\\\\Python_\\\\Python辅助城市研究\\\\建筑风格和年代机器学习\\\\5-ArcgisPro工程\\\\建筑风格和年代深度学习.gdb\\\\multipoint'>"
      ]
     },
     "execution_count": 48,
     "metadata": {},
     "output_type": "execute_result"
    }
   ],
   "source": [
    "# 保存Multipoint对象\n",
    "arcpy.CopyFeatures_management(multipoint, \"multipoint\")"
   ]
  },
  {
   "cell_type": "markdown",
   "metadata": {},
   "source": [
    "### 3.从每个点找到距离周围道路最近的点Point C，以及Point S，heading值"
   ]
  },
  {
   "cell_type": "code",
   "execution_count": 49,
   "metadata": {},
   "outputs": [
    {
     "data": {
      "text/plain": [
       "(626668.6048000003, 5799567.5316)"
      ]
     },
     "execution_count": 49,
     "metadata": {},
     "output_type": "execute_result"
    }
   ],
   "source": [
    "mid_x, mid_y"
   ]
  },
  {
   "cell_type": "code",
   "execution_count": null,
   "metadata": {},
   "outputs": [],
   "source": []
  },
  {
   "cell_type": "code",
   "execution_count": 50,
   "metadata": {},
   "outputs": [
    {
     "data": {
      "text/html": [
       "<div class='gpresult'><h2>Messages</h2><div id='messages' data-messages='[\"开始时间: 2023年10月17日 23:44:15\",\"正在确定数据处理范围...\",\"正在将 NEAR_FID 添加到 multipoint...\",\"正在将 NEAR_DIST 添加到 multipoint...\",\"正在将 NEAR_X 添加到 multipoint...\",\"正在将 NEAR_Y 添加到 multipoint...\",\"正在将 NEAR_ANGLE 添加到 multipoint...\",\"正在从邻近要素构建邻域索引...\",\"正在生成邻近表...\",\"找到 1 要素(在 25 内)\",\"运行 成功，结束时间： 2023年10月17日 23:44:15 (历时: 0.23 秒)\"]' data-show='true'><div id = 'default' /></div></div>"
      ],
      "text/plain": [
       "<Result 'multipoint'>"
      ]
     },
     "execution_count": 50,
     "metadata": {},
     "output_type": "execute_result"
    }
   ],
   "source": [
    "# 邻近分析 (分析)\n",
    "in_features = \"multipoint\"\n",
    "near_features = \"main.edges\"\n",
    "search_radius = \"25 Meters\"\n",
    "arcpy.analysis.Near(in_features, \n",
    "                    near_features, \n",
    "                    \"25 Meters\", \"LOCATION\", \"ANGLE\", \"PLANAR\", \"NEAR_FID NEAR_FID;NEAR_DIST NEAR_DIST;NEAR_X NEAR_X;NEAR_Y NEAR_Y;NEAR_ANGLE NEAR_ANGLE\")"
   ]
  },
  {
   "cell_type": "code",
   "execution_count": 51,
   "metadata": {},
   "outputs": [
    {
     "data": {
      "text/plain": [
       "'multipoint'"
      ]
     },
     "execution_count": 51,
     "metadata": {},
     "output_type": "execute_result"
    }
   ],
   "source": [
    "in_features"
   ]
  },
  {
   "cell_type": "code",
   "execution_count": 52,
   "metadata": {},
   "outputs": [
    {
     "name": "stdout",
     "output_type": "stream",
     "text": [
      "OBJECTID\n",
      "Shape\n",
      "NEAR_FID\n",
      "NEAR_DIST\n",
      "NEAR_X\n",
      "NEAR_Y\n",
      "NEAR_ANGLE\n"
     ]
    }
   ],
   "source": [
    "fields = arcpy.ListFields(in_features)\n",
    "for field in fields:\n",
    "    print(field.name)"
   ]
  },
  {
   "cell_type": "markdown",
   "metadata": {},
   "source": [
    "### 4.将angle转为heading的角度\n",
    "生成的角度是输入要素（建筑物上的点）对于邻近要素（街道上的点）的角度，并且转换前的角度的表示方式是：在方法参数中使用平面方法时，角度在 -180° 到 180° 的范围内，0°代表东，90°代表北，180°（或 -180°）代表西，-90° 代表南。\n",
    "转换后，因为要获取街道街景，要以（街道上的点）为原点，对于建筑物上的点的角度，并且角度表示为：角度范围在0-360度，0°代表北，90°代表东，180°代表南，270° 代表西。"
   ]
  },
  {
   "cell_type": "code",
   "execution_count": 53,
   "metadata": {},
   "outputs": [],
   "source": [
    "# def transform_angle(xs, ys, xc, yc):\n",
    "#     \"\"\"\n",
    "#     方式一：计算向量转换角度的表示方式，从输入要素（建筑物上的点）对于邻近要素（街道上的点）的角度，\n",
    "#     到以邻近要素（街道上的点）为原点，对于输入要素（建筑物上的点）的角度。\n",
    "#     并确保角度在0-360度之间。\n",
    "#     \"\"\"\n",
    "#     # 计算向量\n",
    "#     Vsc = np.array([xc - xs, yc - ys])\n",
    "#     \n",
    "#     # 计算与正东方向的角度（由于数学上的约定，这里的0°是指向东的）\n",
    "#     angle_rad = np.arctan2(Vsc[1], Vsc[0])  # 这里得到的结果范围是 -π 到 π (-180° 到 180°)\n",
    "# \n",
    "#     # 将弧度转换为角度\n",
    "#     angle_deg = np.degrees(angle_rad)\n",
    "#     \n",
    "#     # 转换为罗盘式角度（北0°，东90°...）\n",
    "#     # 由于原始0°指向东，我们需要将角度逆时针旋转90°来让0°指向北\n",
    "#     compass_angle = (90 - angle_deg) % 360  # 通过取余数确保结果在0° - 360°范围内\n",
    "# \n",
    "#     return compass_angle\n",
    "# \n",
    "# print( transform_angle(xs, ys, xc, yc))"
   ]
  },
  {
   "cell_type": "code",
   "execution_count": 59,
   "metadata": {},
   "outputs": [
    {
     "name": "stdout",
     "output_type": "stream",
     "text": [
      "91.07723693248431\n"
     ]
    }
   ],
   "source": [
    "def transform_angle(original_angle):\n",
    "    \"\"\"\n",
    "    将角度从一个坐标系转换为另一个，并更改方向表示。\n",
    "\n",
    "    :param original_angle: 初始的角度（基于东为0°的系统）\n",
    "    :return: 转换后的角度（基于北为0°的系统）\n",
    "    \"\"\"\n",
    "    # 从建筑物到街道的角度需要将角度旋转180度以“反转”方向\n",
    "    reversed_angle = original_angle + 180\n",
    "\n",
    "    # 规范化角度在0到360之间\n",
    "    if reversed_angle >= 360:\n",
    "        reversed_angle -= 360\n",
    "    elif reversed_angle < 0:\n",
    "        reversed_angle += 360\n",
    "\n",
    "    # 现在，我们需要将“东为0度”转变为“北为0度”，这需要一个90度的逆时针旋转\n",
    "    north_based_angle = reversed_angle + 90\n",
    "\n",
    "    if north_based_angle >= 360:\n",
    "        north_based_angle -= 360\n",
    "\n",
    "    return north_based_angle\n",
    "\n",
    "print(transform_angle(-178.9227630675157))"
   ]
  },
  {
   "cell_type": "code",
   "execution_count": 60,
   "metadata": {},
   "outputs": [
    {
     "name": "stdout",
     "output_type": "stream",
     "text": [
      "[15.729911607404052, 626640.935368494, 5799565.214474143, -178.9227630675157]\n",
      "转换后的角度 91.07723693248431\n",
      "当前建筑的id 0363100012061237\n"
     ]
    }
   ],
   "source": [
    "# 定义要查询的字段\n",
    "field_name_list = [\"NEAR_DIST\",\"NEAR_X\",\"NEAR_Y\", \"NEAR_ANGLE\"]\n",
    "\n",
    "\n",
    "# 使用SearchCursor迭代访问每个记录\n",
    "with arcpy.da.SearchCursor(in_features, field_name_list) as cursor:\n",
    "    for row in cursor:\n",
    "        # 获取NEAR_ANGLE字段的值并添加到列表中\n",
    "        print([i for i in row])\n",
    "        angle = row[3]\n",
    "        angle2 = transform_angle(angle)\n",
    "        print(\"转换后的角度\",angle2)\n",
    "\n",
    "# 打印所有的NEAR_ANGLE值\n",
    "print(\"当前建筑的id\", polygon_id)"
   ]
  },
  {
   "cell_type": "code",
   "execution_count": 61,
   "metadata": {},
   "outputs": [],
   "source": [
    "# 追加保存到json文件，然后通过streetview进行构建url的操作\n",
    "import pandas as pd\n",
    "\n",
    "# 从字典创建 DataFrame\n",
    "df = pd.DataFrame({\n",
    "    \"polygon_id\": [polygon_id],  \n",
    "    \"NEAR_DIST\": [row[0]],      \n",
    "    \"lat\": [row[2]],            \n",
    "    \"lng\": [row[1]],\n",
    "    \"heading\": [angle]\n",
    "})\n",
    "\n",
    "\n",
    "# 追加数据到 CSV\n",
    "df.to_csv(\"./temp.csv\", mode='a', header=False, index=False)\n"
   ]
  },
  {
   "cell_type": "code",
   "execution_count": null,
   "metadata": {},
   "outputs": [],
   "source": [
    "# # 将heading（NEAR_ANGLE）,经纬度，保存到input_polygon_feature_class：single_building\n",
    "# with arcpy.da.UpdateCursor(input_polygon_feature_class, [\"identificatie\",\"SHAPE@\",]) as cursor:\n",
    "#     for row in cursor:\n",
    "#         # 对每一行进行某种操作...\n",
    "        \n",
    "#         # 示例：修改 'identificatie' 字段的值\n",
    "#         row[1] = \"新的值\"  # 更新 'identificatie' 到新的值\n",
    "        \n",
    "#         # 保存更改\n",
    "#         cursor.updateRow(row)\n"
   ]
  },
  {
   "cell_type": "markdown",
   "metadata": {},
   "source": [
    "## 整合上述代码：遍历building然后查询临近点"
   ]
  },
  {
   "cell_type": "code",
   "execution_count": 65,
   "metadata": {
    "scrolled": true
   },
   "outputs": [
    {
     "ename": "IndentationError",
     "evalue": "unindent does not match any outer indentation level (<tokenize>, line 17)",
     "output_type": "error",
     "traceback": [
      "\u001B[0;31m---------------------------------------------------------------------------\u001B[0m\n\u001B[0;31mIndentationError\u001B[0m                          Traceback (most recent call last)",
      "File \u001B[0;34mC:\\Program Files\\ArcGIS\\Pro\\bin\\Python\\envs\\arcgispro-py3-dl\\lib\\site-packages\\IPython\\core\\interactiveshell.py\u001B[0m, in \u001B[0;32mtransform_cell\u001B[0m:\nLine \u001B[0;34m3198\u001B[0m:  cell = \u001B[36mself\u001B[39;49;00m.input_transformer_manager.transform_cell(raw_cell)\n",
      "File \u001B[0;34mC:\\Program Files\\ArcGIS\\Pro\\bin\\Python\\envs\\arcgispro-py3-dl\\lib\\site-packages\\IPython\\core\\inputtransformer2.py\u001B[0m, in \u001B[0;32mtransform_cell\u001B[0m:\nLine \u001B[0;34m593\u001B[0m:   lines = \u001B[36mself\u001B[39;49;00m.do_token_transforms(lines)\n",
      "File \u001B[0;34mC:\\Program Files\\ArcGIS\\Pro\\bin\\Python\\envs\\arcgispro-py3-dl\\lib\\site-packages\\IPython\\core\\inputtransformer2.py\u001B[0m, in \u001B[0;32mdo_token_transforms\u001B[0m:\nLine \u001B[0;34m578\u001B[0m:   changed, lines = \u001B[36mself\u001B[39;49;00m.do_one_token_transform(lines)\n",
      "File \u001B[0;34mC:\\Program Files\\ArcGIS\\Pro\\bin\\Python\\envs\\arcgispro-py3-dl\\lib\\site-packages\\IPython\\core\\inputtransformer2.py\u001B[0m, in \u001B[0;32mdo_one_token_transform\u001B[0m:\nLine \u001B[0;34m558\u001B[0m:   tokens_by_line = make_tokens_by_line(lines)\n",
      "File \u001B[0;34mC:\\Program Files\\ArcGIS\\Pro\\bin\\Python\\envs\\arcgispro-py3-dl\\lib\\site-packages\\IPython\\core\\inputtransformer2.py\u001B[0m, in \u001B[0;32mmake_tokens_by_line\u001B[0m:\nLine \u001B[0;34m487\u001B[0m:   \u001B[34mfor\u001B[39;49;00m token \u001B[35min\u001B[39;49;00m tokenize.generate_tokens(\u001B[36miter\u001B[39;49;00m(lines).\u001B[32m__next__\u001B[39;49;00m):\n",
      "File \u001B[0;34mC:\\Program Files\\ArcGIS\\Pro\\bin\\Python\\envs\\arcgispro-py3-dl\\lib\\tokenize.py\u001B[0m, in \u001B[0;32m_tokenize\u001B[0m:\nLine \u001B[0;34m512\u001B[0m:   \u001B[34mraise\u001B[39;49;00m \u001B[36mIndentationError\u001B[39;49;00m(\n",
      "\u001B[0;31mIndentationError\u001B[0m: unindent does not match any outer indentation level (<tokenize>, line 17)\n\u001B[0;31m---------------------------------------------------------------------------\u001B[0m"
     ]
    }
   ],
   "source": [
    "import arcpy\n",
    "import pandas as pd\n",
    "# 输入的多边形要素类\n",
    "input_polygon_feature_class = \"Amsterdam_buil_ExportFeature1_98\" # \"single_building\" # \"Amsterdam_buildings_Project\"\n",
    "\n",
    "\n",
    "# 整合代码\n",
    "# 定义SpatialReference对象，这里以WGS 1984坐标系为例\n",
    "sr = arcpy.SpatialReference(32631)\n",
    "\n",
    "\n",
    "def field_exists(feature_class, field_name):\n",
    "    \"\"\"检查给定的字段是否存在于指定的要素类中\"\"\"\n",
    "    fields = [f.name for f in arcpy.ListFields(feature_class)]\n",
    "    return field_name in fields\n",
    "\n",
    " def transform_angle(original_angle):\n",
    "    \"\"\"\n",
    "    将角度从一个坐标系转换为另一个，并更改方向表示。\n",
    "\n",
    "    :param original_angle: 初始的角度（基于东为0°的系统）\n",
    "    :return: 转换后的角度（基于北为0°的系统）\n",
    "    \"\"\"\n",
    "    # 从建筑物到街道的角度需要将角度旋转180度以“反转”方向\n",
    "    reversed_angle = original_angle + 180\n",
    "\n",
    "    # 规范化角度在0到360之间\n",
    "    if reversed_angle >= 360:\n",
    "        reversed_angle -= 360\n",
    "    elif reversed_angle < 0:\n",
    "        reversed_angle += 360\n",
    "\n",
    "    # 现在，我们需要将“东为0度”转变为“北为0度”，这需要一个90度的逆时针旋转\n",
    "    north_based_angle = reversed_angle + 90\n",
    "\n",
    "    if north_based_angle >= 360:\n",
    "        north_based_angle -= 360\n",
    "\n",
    "    return north_based_angle\n",
    "\n",
    "# 定义要查询的字段\n",
    "field_name_list =  [\"NEAR_DIST\",\"NEAR_X\",\"NEAR_Y\", \"NEAR_ANGLE\"]\n",
    "\n",
    "# 用于检查邻域分析是否成功\n",
    "field_to_check = field_name_list[0]\n",
    "\n",
    "# 使用SearchCursor遍历多边形\n",
    "with arcpy.da.SearchCursor(input_polygon_feature_class, [\"identificatie\", \"SHAPE@\"]) as cursor:\n",
    "    for row in cursor:\n",
    "        polygon_id = row[0] # 建筑的id\n",
    "        polygon = row[1]\n",
    "        \n",
    "        # 创建一个Array\n",
    "        point_array = arcpy.Array()\n",
    "        \n",
    "        # 遍历多边形的每一段，计算并存储中心点\n",
    "        # 遍历poly中所有的多边形，part为每个单独的多边形\n",
    "        for part in polygon: \n",
    "            # 遍历每个边\n",
    "            for i in range(len(part) - 1):\n",
    "                start_point = part[i]\n",
    "                end_point = part[i + 1]\n",
    "                mid_x = (start_point.X + end_point.X) / 2\n",
    "                mid_y = (start_point.Y + end_point.Y) / 2\n",
    "                # print(mid_x, mid_y)\n",
    "                \n",
    "                # 创建arcpy的点\n",
    "                midpoint = arcpy.Point(mid_x, mid_y)\n",
    "                \n",
    "                # 添加到Array\n",
    "                point_array.add(midpoint)\n",
    "                \n",
    "            # 使用Array创建Multipoint对象\n",
    "            multipoint = arcpy.Multipoint(point_array, sr)\n",
    "\n",
    "            arcpy.CopyFeatures_management(multipoint, \"multipoint\")\n",
    "            \n",
    "            # 邻近分析 (分析)\n",
    "            in_features = \"multipoint\"\n",
    "            near_features = \"main.edges\"\n",
    "            arcpy.analysis.Near(in_features, \n",
    "                                near_features, \n",
    "                                \"25 Meters\", \"LOCATION\", \"ANGLE\", \"GEODESIC\", \"NEAR_FID NEAR_FID;NEAR_DIST NEAR_DIST;NEAR_X NEAR_X;NEAR_Y NEAR_Y;NEAR_ANGLE NEAR_ANGLE\")\n",
    "            \n",
    "            \n",
    "            if field_exists(in_features, field_to_check):\n",
    "                # 使用SearchCursor迭代访问每个记录\n",
    "                with arcpy.da.SearchCursor(in_features, field_name_list) as cursor:\n",
    "                    for row in cursor:\n",
    "                        # 删除NEAR_DIST=-1的数据\n",
    "                        NEAR_DIST = row[0]\n",
    "\n",
    "                        \n",
    "                        angle = transform_angle(row[3])\n",
    "\n",
    "                        # 打印所有的NEAR_ANGLE值\n",
    "                        print(\"当前建筑的id\", polygon_id)\n",
    "\n",
    "\n",
    "                # 保存\n",
    "                if NEAR_DIST !=-1:\n",
    "                \n",
    "                    # 从字典创建 DataFrame\n",
    "                    df = pd.DataFrame({\n",
    "                        \"polygon_id\": [polygon_id],  \n",
    "                        \"NEAR_DIST\": [row[0]],      \n",
    "                        \"lat\": [row[2]],            \n",
    "                        \"lng\": [row[1]],\n",
    "                        \"heading\": [angle]\n",
    "                    })\n",
    "\n",
    "\n",
    "                    # 追加数据到 CSV\n",
    "                    df.to_csv(\"./temp.csv\", mode='a', header=False, index=False)\n",
    "\n",
    "\n",
    "            else:\n",
    "                print(f\"Field '{field_to_check}' does not exist in {in_features}.\")\n",
    "\n"
   ]
  },
  {
   "cell_type": "markdown",
   "metadata": {},
   "source": [
    "## 优化代码逻辑(从这开始时正式执行代码)\n",
    "为了提高上述代码的执行速度，我们可以考虑以下策略：\n",
    "减少I/O操作: 代码中有多次磁盘I/O操作，特别是与arcpy和pandas相关的部分。I/O操作通常是时间消耗的关键所在。\n",
    "使用多线程/多进程: 但需要注意的是**arcpy不是线程安全的，所以多线程可能并不总是有效。**另外，你的代码涉及到GIS数据的写入，这也可能导致多线程中出现资源争用的问题。\n",
    "我们可以创建一个列表来存储数据，而不是每次都将其追加到CSV。在整个循环完成后，我们再保存这个列表到CSV。"
   ]
  },
  {
   "cell_type": "code",
   "execution_count": null,
   "metadata": {},
   "outputs": [],
   "source": []
  }
 ],
 "metadata": {
  "kernelspec": {
   "display_name": "ArcGISPro",
   "language": "Python",
   "name": "python3"
  },
  "language_info": {
   "file_extension": ".py",
   "name": "python",
   "version": "3"
  }
 },
 "nbformat": 4,
 "nbformat_minor": 2
}
