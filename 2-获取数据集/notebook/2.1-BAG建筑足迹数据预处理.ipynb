{
 "cells": [
  {
   "cell_type": "markdown",
   "source": [
    "# BAG 建筑足迹数据预处理"
   ],
   "metadata": {
    "collapsed": false
   }
  },
  {
   "cell_type": "markdown",
   "source": [
    "## 安装高版本的geopandas和shapely"
   ],
   "metadata": {
    "collapsed": false
   }
  },
  {
   "cell_type": "code",
   "execution_count": 2,
   "outputs": [
    {
     "name": "stdout",
     "output_type": "stream",
     "text": [
      "Looking in indexes: https://pypi.tuna.tsinghua.edu.cn/simple\r\n",
      "Requirement already satisfied: geopandas~=0.12.0 in /Users/jiangzhewen/anaconda3/envs/dl/lib/python3.11/site-packages (0.12.2)\r\n",
      "Requirement already satisfied: shapely~=2.0.1 in /Users/jiangzhewen/anaconda3/envs/dl/lib/python3.11/site-packages (2.0.1)\r\n",
      "Requirement already satisfied: pandas>=1.0.0 in /Users/jiangzhewen/anaconda3/envs/dl/lib/python3.11/site-packages (from geopandas~=0.12.0) (2.1.0)\r\n",
      "Requirement already satisfied: fiona>=1.8 in /Users/jiangzhewen/anaconda3/envs/dl/lib/python3.11/site-packages (from geopandas~=0.12.0) (1.9.4.post1)\r\n",
      "Requirement already satisfied: pyproj>=2.6.1.post1 in /Users/jiangzhewen/anaconda3/envs/dl/lib/python3.11/site-packages (from geopandas~=0.12.0) (3.6.0)\r\n",
      "Requirement already satisfied: packaging in /Users/jiangzhewen/anaconda3/envs/dl/lib/python3.11/site-packages (from geopandas~=0.12.0) (23.1)\r\n",
      "Requirement already satisfied: numpy>=1.14 in /Users/jiangzhewen/anaconda3/envs/dl/lib/python3.11/site-packages (from shapely~=2.0.1) (1.25.2)\r\n",
      "Requirement already satisfied: attrs>=19.2.0 in /Users/jiangzhewen/anaconda3/envs/dl/lib/python3.11/site-packages (from fiona>=1.8->geopandas~=0.12.0) (22.1.0)\r\n",
      "Requirement already satisfied: certifi in /Users/jiangzhewen/anaconda3/envs/dl/lib/python3.11/site-packages (from fiona>=1.8->geopandas~=0.12.0) (2023.7.22)\r\n",
      "Requirement already satisfied: click~=8.0 in /Users/jiangzhewen/anaconda3/envs/dl/lib/python3.11/site-packages (from fiona>=1.8->geopandas~=0.12.0) (8.1.7)\r\n",
      "Requirement already satisfied: click-plugins>=1.0 in /Users/jiangzhewen/anaconda3/envs/dl/lib/python3.11/site-packages (from fiona>=1.8->geopandas~=0.12.0) (1.1.1)\r\n",
      "Requirement already satisfied: cligj>=0.5 in /Users/jiangzhewen/anaconda3/envs/dl/lib/python3.11/site-packages (from fiona>=1.8->geopandas~=0.12.0) (0.7.2)\r\n",
      "Requirement already satisfied: six in /Users/jiangzhewen/anaconda3/envs/dl/lib/python3.11/site-packages (from fiona>=1.8->geopandas~=0.12.0) (1.16.0)\r\n",
      "Requirement already satisfied: python-dateutil>=2.8.2 in /Users/jiangzhewen/anaconda3/envs/dl/lib/python3.11/site-packages (from pandas>=1.0.0->geopandas~=0.12.0) (2.8.2)\r\n",
      "Requirement already satisfied: pytz>=2020.1 in /Users/jiangzhewen/anaconda3/envs/dl/lib/python3.11/site-packages (from pandas>=1.0.0->geopandas~=0.12.0) (2022.7)\r\n",
      "Requirement already satisfied: tzdata>=2022.1 in /Users/jiangzhewen/anaconda3/envs/dl/lib/python3.11/site-packages (from pandas>=1.0.0->geopandas~=0.12.0) (2023.3)\r\n",
      "Note: you may need to restart the kernel to use updated packages.\n"
     ]
    }
   ],
   "source": [
    "%pip install geopandas~=0.12.0 shapely~=2.0.1"
   ],
   "metadata": {
    "collapsed": false,
    "ExecuteTime": {
     "end_time": "2023-10-21T05:47:33.559462Z",
     "start_time": "2023-10-21T05:47:29.578821Z"
    }
   }
  },
  {
   "cell_type": "code",
   "execution_count": 2,
   "outputs": [
    {
     "data": {
      "text/plain": "'0.12.2'"
     },
     "execution_count": 2,
     "metadata": {},
     "output_type": "execute_result"
    }
   ],
   "source": [
    "import geopandas as gpd\n",
    "gpd.__version__"
   ],
   "metadata": {
    "collapsed": false,
    "ExecuteTime": {
     "end_time": "2023-10-18T02:39:47.978273900Z",
     "start_time": "2023-10-18T02:39:47.306170100Z"
    }
   }
  },
  {
   "cell_type": "code",
   "execution_count": 3,
   "outputs": [
    {
     "data": {
      "text/plain": "                                         rdf_seealso     identificatie  \\\n0  http://bag.basisregistraties.overheid.nl/bag/i...  0003100000117485   \n1  http://bag.basisregistraties.overheid.nl/bag/i...  0003100000117486   \n2  http://bag.basisregistraties.overheid.nl/bag/i...  0003100000117487   \n3  http://bag.basisregistraties.overheid.nl/bag/i...  0003100000117489   \n4  http://bag.basisregistraties.overheid.nl/bag/i...  0003100000117490   \n5  http://bag.basisregistraties.overheid.nl/bag/i...  0003100000117491   \n6  http://bag.basisregistraties.overheid.nl/bag/i...  0003100000117492   \n7  http://bag.basisregistraties.overheid.nl/bag/i...  0003100000117493   \n8  http://bag.basisregistraties.overheid.nl/bag/i...  0003100000117494   \n9  http://bag.basisregistraties.overheid.nl/bag/i...  0003100000117495   \n\n   bouwjaar                    status                gebruiksdoel  \\\n0      1991           Pand in gebruik                 woonfunctie   \n1      1970  Sloopvergunning verleend                 woonfunctie   \n2      1994           Pand in gebruik                         NaN   \n3      1989           Pand in gebruik     overige gebruiksfunctie   \n4      1925           Pand in gebruik                 woonfunctie   \n5      1930           Pand in gebruik            industriefunctie   \n6      1970           Pand in gebruik  kantoorfunctie,woonfunctie   \n7      1997           Pand in gebruik  sportfunctie,winkelfunctie   \n8      1970           Pand in gebruik                 woonfunctie   \n9      2002           Pand in gebruik                 woonfunctie   \n\n   oppervlakte_min  oppervlakte_max  aantal_verblijfsobjecten  \\\n0             77.0             79.0                        14   \n1            107.0            107.0                        21   \n2              NaN              NaN                         0   \n3              8.0              8.0                         1   \n4            109.0            109.0                         1   \n5            306.0            306.0                         1   \n6             53.0             89.0                        29   \n7            465.0           4000.0                         8   \n8             89.0             89.0                        28   \n9             90.0            145.0                        19   \n\n                                            geometry  \n0  POLYGON ((254059.737 593504.637, 254059.227 59...  \n1  POLYGON ((253822.701 593455.662, 253826.352 59...  \n2  POLYGON ((249943.307 593511.272, 249948.555 59...  \n3  POLYGON ((252002.100 593526.230, 252000.730 59...  \n4  POLYGON ((253227.559 593526.493, 253231.617 59...  \n5  POLYGON ((253311.271 593541.787, 253310.818 59...  \n6  POLYGON ((253909.583 593544.124, 253985.736 59...  \n7  POLYGON ((254339.978 593500.000, 254338.865 59...  \n8  POLYGON ((253822.613 593551.143, 253898.852 59...  \n9  POLYGON ((252834.990 593531.368, 252834.924 59...  ",
      "text/html": "<div>\n<style scoped>\n    .dataframe tbody tr th:only-of-type {\n        vertical-align: middle;\n    }\n\n    .dataframe tbody tr th {\n        vertical-align: top;\n    }\n\n    .dataframe thead th {\n        text-align: right;\n    }\n</style>\n<table border=\"1\" class=\"dataframe\">\n  <thead>\n    <tr style=\"text-align: right;\">\n      <th></th>\n      <th>rdf_seealso</th>\n      <th>identificatie</th>\n      <th>bouwjaar</th>\n      <th>status</th>\n      <th>gebruiksdoel</th>\n      <th>oppervlakte_min</th>\n      <th>oppervlakte_max</th>\n      <th>aantal_verblijfsobjecten</th>\n      <th>geometry</th>\n    </tr>\n  </thead>\n  <tbody>\n    <tr>\n      <th>0</th>\n      <td>http://bag.basisregistraties.overheid.nl/bag/i...</td>\n      <td>0003100000117485</td>\n      <td>1991</td>\n      <td>Pand in gebruik</td>\n      <td>woonfunctie</td>\n      <td>77.0</td>\n      <td>79.0</td>\n      <td>14</td>\n      <td>POLYGON ((254059.737 593504.637, 254059.227 59...</td>\n    </tr>\n    <tr>\n      <th>1</th>\n      <td>http://bag.basisregistraties.overheid.nl/bag/i...</td>\n      <td>0003100000117486</td>\n      <td>1970</td>\n      <td>Sloopvergunning verleend</td>\n      <td>woonfunctie</td>\n      <td>107.0</td>\n      <td>107.0</td>\n      <td>21</td>\n      <td>POLYGON ((253822.701 593455.662, 253826.352 59...</td>\n    </tr>\n    <tr>\n      <th>2</th>\n      <td>http://bag.basisregistraties.overheid.nl/bag/i...</td>\n      <td>0003100000117487</td>\n      <td>1994</td>\n      <td>Pand in gebruik</td>\n      <td>NaN</td>\n      <td>NaN</td>\n      <td>NaN</td>\n      <td>0</td>\n      <td>POLYGON ((249943.307 593511.272, 249948.555 59...</td>\n    </tr>\n    <tr>\n      <th>3</th>\n      <td>http://bag.basisregistraties.overheid.nl/bag/i...</td>\n      <td>0003100000117489</td>\n      <td>1989</td>\n      <td>Pand in gebruik</td>\n      <td>overige gebruiksfunctie</td>\n      <td>8.0</td>\n      <td>8.0</td>\n      <td>1</td>\n      <td>POLYGON ((252002.100 593526.230, 252000.730 59...</td>\n    </tr>\n    <tr>\n      <th>4</th>\n      <td>http://bag.basisregistraties.overheid.nl/bag/i...</td>\n      <td>0003100000117490</td>\n      <td>1925</td>\n      <td>Pand in gebruik</td>\n      <td>woonfunctie</td>\n      <td>109.0</td>\n      <td>109.0</td>\n      <td>1</td>\n      <td>POLYGON ((253227.559 593526.493, 253231.617 59...</td>\n    </tr>\n    <tr>\n      <th>5</th>\n      <td>http://bag.basisregistraties.overheid.nl/bag/i...</td>\n      <td>0003100000117491</td>\n      <td>1930</td>\n      <td>Pand in gebruik</td>\n      <td>industriefunctie</td>\n      <td>306.0</td>\n      <td>306.0</td>\n      <td>1</td>\n      <td>POLYGON ((253311.271 593541.787, 253310.818 59...</td>\n    </tr>\n    <tr>\n      <th>6</th>\n      <td>http://bag.basisregistraties.overheid.nl/bag/i...</td>\n      <td>0003100000117492</td>\n      <td>1970</td>\n      <td>Pand in gebruik</td>\n      <td>kantoorfunctie,woonfunctie</td>\n      <td>53.0</td>\n      <td>89.0</td>\n      <td>29</td>\n      <td>POLYGON ((253909.583 593544.124, 253985.736 59...</td>\n    </tr>\n    <tr>\n      <th>7</th>\n      <td>http://bag.basisregistraties.overheid.nl/bag/i...</td>\n      <td>0003100000117493</td>\n      <td>1997</td>\n      <td>Pand in gebruik</td>\n      <td>sportfunctie,winkelfunctie</td>\n      <td>465.0</td>\n      <td>4000.0</td>\n      <td>8</td>\n      <td>POLYGON ((254339.978 593500.000, 254338.865 59...</td>\n    </tr>\n    <tr>\n      <th>8</th>\n      <td>http://bag.basisregistraties.overheid.nl/bag/i...</td>\n      <td>0003100000117494</td>\n      <td>1970</td>\n      <td>Pand in gebruik</td>\n      <td>woonfunctie</td>\n      <td>89.0</td>\n      <td>89.0</td>\n      <td>28</td>\n      <td>POLYGON ((253822.613 593551.143, 253898.852 59...</td>\n    </tr>\n    <tr>\n      <th>9</th>\n      <td>http://bag.basisregistraties.overheid.nl/bag/i...</td>\n      <td>0003100000117495</td>\n      <td>2002</td>\n      <td>Pand in gebruik</td>\n      <td>woonfunctie</td>\n      <td>90.0</td>\n      <td>145.0</td>\n      <td>19</td>\n      <td>POLYGON ((252834.990 593531.368, 252834.924 59...</td>\n    </tr>\n  </tbody>\n</table>\n</div>"
     },
     "execution_count": 3,
     "metadata": {},
     "output_type": "execute_result"
    }
   ],
   "source": [
    "# 查看数据\n",
    "gpkg_file = \"../data/ZIP/bag-light.gpkg\"\n",
    "gdf_BAG = gpd.read_file(gpkg_file, rows=10) # rows指代读取前row行\n",
    "gdf_BAG"
   ],
   "metadata": {
    "collapsed": false,
    "ExecuteTime": {
     "end_time": "2023-10-18T02:39:53.779940900Z",
     "start_time": "2023-10-18T02:39:47.807318500Z"
    }
   }
  },
  {
   "cell_type": "code",
   "execution_count": 4,
   "outputs": [
    {
     "data": {
      "text/plain": "Index(['rdf_seealso', 'identificatie', 'bouwjaar', 'status', 'gebruiksdoel',\n       'oppervlakte_min', 'oppervlakte_max', 'aantal_verblijfsobjecten',\n       'geometry'],\n      dtype='object')"
     },
     "execution_count": 4,
     "metadata": {},
     "output_type": "execute_result"
    }
   ],
   "source": [
    "# 查看列名\n",
    "gdf_BAG.columns"
   ],
   "metadata": {
    "collapsed": false,
    "ExecuteTime": {
     "end_time": "2023-10-18T02:39:53.786345400Z",
     "start_time": "2023-10-18T02:39:53.776515100Z"
    }
   }
  },
  {
   "cell_type": "markdown",
   "source": [
    "翻译为：\n",
    "rdf_seealso：rdf参考（这可能是一个关于RDF的参考链接或相关信息）\n",
    "identificatie：标识\n",
    "bouwjaar：建造年份\n",
    "status：状态\n",
    "gebruiksdoel：使用目的\n",
    "oppervlakte_min：最小面积\n",
    "oppervlakte_max：最大面积\n",
    "aantal_verblijfsobjecten：住宅对象数量\n",
    "geometry：几何"
   ],
   "metadata": {
    "collapsed": false,
    "ExecuteTime": {
     "end_time": "2023-10-12T12:35:14.777419900Z",
     "start_time": "2023-10-12T12:35:14.773394400Z"
    }
   }
  },
  {
   "cell_type": "code",
   "execution_count": 5,
   "outputs": [],
   "source": [
    "# TODO 将列名翻译为英文"
   ],
   "metadata": {
    "collapsed": false,
    "ExecuteTime": {
     "end_time": "2023-10-18T02:39:53.799435300Z",
     "start_time": "2023-10-18T02:39:53.780940600Z"
    }
   }
  },
  {
   "cell_type": "code",
   "execution_count": 6,
   "outputs": [
    {
     "data": {
      "text/plain": "<Projected CRS: EPSG:28992>\nName: Amersfoort / RD New\nAxis Info [cartesian]:\n- X[east]: Easting (metre)\n- Y[north]: Northing (metre)\nArea of Use:\n- name: Netherlands - onshore, including Waddenzee, Dutch Wadden Islands and 12-mile offshore coastal zone.\n- bounds: (3.2, 50.75, 7.22, 53.7)\nCoordinate Operation:\n- name: RD New\n- method: Oblique Stereographic\nDatum: Amersfoort\n- Ellipsoid: Bessel 1841\n- Prime Meridian: Greenwich"
     },
     "execution_count": 6,
     "metadata": {},
     "output_type": "execute_result"
    }
   ],
   "source": [
    "# 查看数据的空间参考信息\n",
    "gdf_BAG.crs"
   ],
   "metadata": {
    "collapsed": false,
    "ExecuteTime": {
     "end_time": "2023-10-18T02:39:53.813441Z",
     "start_time": "2023-10-18T02:39:53.786345400Z"
    }
   }
  },
  {
   "cell_type": "code",
   "execution_count": 7,
   "outputs": [
    {
     "data": {
      "text/plain": "<Axes: >"
     },
     "execution_count": 7,
     "metadata": {},
     "output_type": "execute_result"
    },
    {
     "data": {
      "text/plain": "<Figure size 640x480 with 1 Axes>",
      "image/png": "[encoded data removed]"
     },
     "metadata": {},
     "output_type": "display_data"
    }
   ],
   "source": [
    "# 绘制数据\n",
    "gdf_BAG.iloc[2:3, :].plot()"
   ],
   "metadata": {
    "collapsed": false,
    "ExecuteTime": {
     "end_time": "2023-10-18T02:39:54.380854600Z",
     "start_time": "2023-10-18T02:39:53.792433800Z"
    }
   }
  },
  {
   "cell_type": "markdown",
   "source": [
    "## 2.仅导出阿姆斯特丹的建筑足迹，数据太大，我们用arcgispro来处理"
   ],
   "metadata": {
    "collapsed": false
   }
  },
  {
   "cell_type": "markdown",
   "source": [
    "## 3.我们重新读取阿姆斯特丹的建筑足迹"
   ],
   "metadata": {
    "collapsed": false
   }
  },
  {
   "cell_type": "code",
   "execution_count": 8,
   "outputs": [
    {
     "name": "stdout",
     "output_type": "stream",
     "text": [
      "5000\n"
     ]
    },
    {
     "data": {
      "text/plain": "                                         rdf_seealso     identificatie  \\\n0  http://bag.basisregistraties.overheid.nl/bag/i...  0363100012061709   \n1  http://bag.basisregistraties.overheid.nl/bag/i...  0363100012061225   \n2  http://bag.basisregistraties.overheid.nl/bag/i...  0363100012061228   \n3  http://bag.basisregistraties.overheid.nl/bag/i...  0363100012062224   \n4  http://bag.basisregistraties.overheid.nl/bag/i...  0363100012063200   \n\n   bouwjaar           status             gebruiksdoel  oppervlakte_min  \\\n0      2007  Pand in gebruik              woonfunctie            331.0   \n1      1923  Pand in gebruik              woonfunctie             84.0   \n2      2004  Pand in gebruik              woonfunctie             93.0   \n3      1916  Pand in gebruik              woonfunctie             50.0   \n4      1965  Pand in gebruik  overige gebruiksfunctie              1.0   \n\n   oppervlakte_max  aantal_verblijfsobjecten  geom_Length   geom_Area  \\\n0            331.0                         1    60.067413  173.201627   \n1             84.0                         1    28.671057   48.016138   \n2            128.0                         2    38.826189   80.168377   \n3             80.0                         4    36.203712   61.107085   \n4              1.0                         1    18.999679   19.500827   \n\n                                            geometry  \n0  MULTIPOLYGON (((635512.808 5802343.021, 635518...  \n1  MULTIPOLYGON (((628083.847 5808893.547, 628087...  \n2  MULTIPOLYGON (((635718.103 5802400.059, 635709...  \n3  MULTIPOLYGON (((632084.702 5803319.551, 632084...  \n4  MULTIPOLYGON (((628012.652 5798762.544, 628013...  ",
      "text/html": "<div>\n<style scoped>\n    .dataframe tbody tr th:only-of-type {\n        vertical-align: middle;\n    }\n\n    .dataframe tbody tr th {\n        vertical-align: top;\n    }\n\n    .dataframe thead th {\n        text-align: right;\n    }\n</style>\n<table border=\"1\" class=\"dataframe\">\n  <thead>\n    <tr style=\"text-align: right;\">\n      <th></th>\n      <th>rdf_seealso</th>\n      <th>identificatie</th>\n      <th>bouwjaar</th>\n      <th>status</th>\n      <th>gebruiksdoel</th>\n      <th>oppervlakte_min</th>\n      <th>oppervlakte_max</th>\n      <th>aantal_verblijfsobjecten</th>\n      <th>geom_Length</th>\n      <th>geom_Area</th>\n      <th>geometry</th>\n    </tr>\n  </thead>\n  <tbody>\n    <tr>\n      <th>0</th>\n      <td>http://bag.basisregistraties.overheid.nl/bag/i...</td>\n      <td>0363100012061709</td>\n      <td>2007</td>\n      <td>Pand in gebruik</td>\n      <td>woonfunctie</td>\n      <td>331.0</td>\n      <td>331.0</td>\n      <td>1</td>\n      <td>60.067413</td>\n      <td>173.201627</td>\n      <td>MULTIPOLYGON (((635512.808 5802343.021, 635518...</td>\n    </tr>\n    <tr>\n      <th>1</th>\n      <td>http://bag.basisregistraties.overheid.nl/bag/i...</td>\n      <td>0363100012061225</td>\n      <td>1923</td>\n      <td>Pand in gebruik</td>\n      <td>woonfunctie</td>\n      <td>84.0</td>\n      <td>84.0</td>\n      <td>1</td>\n      <td>28.671057</td>\n      <td>48.016138</td>\n      <td>MULTIPOLYGON (((628083.847 5808893.547, 628087...</td>\n    </tr>\n    <tr>\n      <th>2</th>\n      <td>http://bag.basisregistraties.overheid.nl/bag/i...</td>\n      <td>0363100012061228</td>\n      <td>2004</td>\n      <td>Pand in gebruik</td>\n      <td>woonfunctie</td>\n      <td>93.0</td>\n      <td>128.0</td>\n      <td>2</td>\n      <td>38.826189</td>\n      <td>80.168377</td>\n      <td>MULTIPOLYGON (((635718.103 5802400.059, 635709...</td>\n    </tr>\n    <tr>\n      <th>3</th>\n      <td>http://bag.basisregistraties.overheid.nl/bag/i...</td>\n      <td>0363100012062224</td>\n      <td>1916</td>\n      <td>Pand in gebruik</td>\n      <td>woonfunctie</td>\n      <td>50.0</td>\n      <td>80.0</td>\n      <td>4</td>\n      <td>36.203712</td>\n      <td>61.107085</td>\n      <td>MULTIPOLYGON (((632084.702 5803319.551, 632084...</td>\n    </tr>\n    <tr>\n      <th>4</th>\n      <td>http://bag.basisregistraties.overheid.nl/bag/i...</td>\n      <td>0363100012063200</td>\n      <td>1965</td>\n      <td>Pand in gebruik</td>\n      <td>overige gebruiksfunctie</td>\n      <td>1.0</td>\n      <td>1.0</td>\n      <td>1</td>\n      <td>18.999679</td>\n      <td>19.500827</td>\n      <td>MULTIPOLYGON (((628012.652 5798762.544, 628013...</td>\n    </tr>\n  </tbody>\n</table>\n</div>"
     },
     "execution_count": 8,
     "metadata": {},
     "output_type": "execute_result"
    }
   ],
   "source": [
    "gdb = \"..\\\\5-ArcgisPro工程\\\\建筑风格和年代深度学习.gdb\"\n",
    "gdf = gpd.read_file(gdb, layer='Amsterdam_buildings_Project', rows=5000) \n",
    "print(len(gdf))\n",
    "gdf.head()"
   ],
   "metadata": {
    "collapsed": false,
    "ExecuteTime": {
     "end_time": "2023-10-18T02:39:56.127475400Z",
     "start_time": "2023-10-18T02:39:54.378855400Z"
    }
   }
  },
  {
   "cell_type": "markdown",
   "source": [
    "## ！！！注意：以下的处理分文两种方法，一种是用geopandas，一种是用ArcgisPro"
   ],
   "metadata": {
    "collapsed": false
   }
  },
  {
   "cell_type": "markdown",
   "source": [
    "## 4.用geopandas处理建筑并获取中心点"
   ],
   "metadata": {
    "collapsed": false
   }
  },
  {
   "cell_type": "markdown",
   "source": [
    "### 4.1 简化多边形的方法\n",
    "简化多边形的方法是为了防止多边形的顶点过多，导致计算量过大，从而影响计算效率。简化多边形的方法有很多，这里我们使用simplify。\n",
    "\n",
    "object.simplify(tolerance, preserve_topology=True) 是一个常用于地理信息系统 (GIS) 中的方法，用于简化形状对象（如多边形或折线）。这个方法的目的是减少构成形状的点的数量，同时尽可能保留其原始形状。这在几种情况下特别有用，例如减少存储需求、提高绘图性能或进行一般化处理以进行高层次的分析。\n",
    "\n",
    "让我们详细了解这个方法的参数和它们是如何影响简化过程的：\n",
    "\n",
    "- tolerance:\n",
    "\n",
    "这是一个数值参数，指定了简化操作的容差。容差是指形状可以被简化的最大距离，即任何点都不会被移动超过这个距离。这个值越小，结果形状就越接近原始形状；这个值越大，简化就更激进，可能导致形状的显著变化。\n",
    "容差通常以地图单位为单位（例如，米、英尺等），这取决于您的地图或空间数据的坐标系统。\n",
    "\n",
    "- preserve_topology:\n",
    "\n",
    "False 使用更快的算法，但可能会产生自相交或其他无效的几何图形。"
   ],
   "metadata": {
    "collapsed": false
   }
  },
  {
   "cell_type": "code",
   "execution_count": 9,
   "outputs": [],
   "source": [
    "# 简化前,输出多个多边形\n",
    "import random\n",
    "# s = random.randint(0, len(gdf))\n",
    "sample = 3255"
   ],
   "metadata": {
    "collapsed": false,
    "ExecuteTime": {
     "end_time": "2023-10-18T02:39:56.131473100Z",
     "start_time": "2023-10-18T02:39:56.124964100Z"
    }
   }
  },
  {
   "cell_type": "code",
   "execution_count": 10,
   "outputs": [
    {
     "data": {
      "text/plain": "<MULTIPOLYGON (((632140.168 5803521.278, 632140.566 5803509.002, 632125.778 ...>",
      "image/svg+xml": "<svg xmlns=\"http://www.w3.org/2000/svg\" xmlns:xlink=\"http://www.w3.org/1999/xlink\" width=\"100.0\" height=\"100.0\" viewBox=\"632124.7406239999 5803507.913324 16.434252000413835 14.13565200008452\" preserveAspectRatio=\"xMinYMin meet\"><g transform=\"matrix(1,0,0,-1,0,11607029.9623)\"><g><path fill-rule=\"evenodd\" fill=\"#66cc99\" stroke=\"#555555\" stroke-width=\"0.3286850400082767\" opacity=\"0.6\" d=\"M 632140.1681000004,5803521.2783 L 632140.5662000002,5803509.002 L 632125.7775999997,5803508.522 L 632125.7176000001,5803510.2498 L 632125.3492999999,5803520.7722 L 632130.1490000002,5803520.9355999995 L 632130.1385000004,5803521.2554 L 632135.5597000001,5803521.440300001 L 632135.5713,5803521.1216 L 632140.1681000004,5803521.2783 z\" /></g></g></svg>"
     },
     "execution_count": 10,
     "metadata": {},
     "output_type": "execute_result"
    }
   ],
   "source": [
    "gdf.loc[sample, \"geometry\"]"
   ],
   "metadata": {
    "collapsed": false,
    "ExecuteTime": {
     "end_time": "2023-10-18T02:39:56.243082600Z",
     "start_time": "2023-10-18T02:39:56.127475400Z"
    }
   }
  },
  {
   "cell_type": "code",
   "execution_count": 11,
   "outputs": [
    {
     "data": {
      "text/plain": "('MultiPolygon', shapely.geometry.multipolygon.MultiPolygon)"
     },
     "execution_count": 11,
     "metadata": {},
     "output_type": "execute_result"
    }
   ],
   "source": [
    "gdf.loc[sample, \"geometry\"].geom_type, type(gdf.loc[sample, \"geometry\"])"
   ],
   "metadata": {
    "collapsed": false,
    "ExecuteTime": {
     "end_time": "2023-10-18T02:39:56.243082600Z",
     "start_time": "2023-10-18T02:39:56.158800800Z"
    }
   }
  },
  {
   "cell_type": "code",
   "execution_count": 12,
   "outputs": [
    {
     "data": {
      "text/plain": "<POLYGON ((632140.168 5803521.278, 632140.566 5803509.002, 632125.778 580350...>",
      "image/svg+xml": "<svg xmlns=\"http://www.w3.org/2000/svg\" xmlns:xlink=\"http://www.w3.org/1999/xlink\" width=\"100.0\" height=\"100.0\" viewBox=\"632124.7406239999 5803507.913324 16.434252000413835 13.973651999607682\" preserveAspectRatio=\"xMinYMin meet\"><g transform=\"matrix(1,0,0,-1,0,11607029.8003)\"><path fill-rule=\"evenodd\" fill=\"#66cc99\" stroke=\"#555555\" stroke-width=\"0.3286850400082767\" opacity=\"0.6\" d=\"M 632140.1681000004,5803521.2783 L 632140.5662000002,5803509.002 L 632125.7775999997,5803508.522 L 632125.3492999999,5803520.7722 L 632140.1681000004,5803521.2783 z\" /></g></svg>"
     },
     "execution_count": 12,
     "metadata": {},
     "output_type": "execute_result"
    }
   ],
   "source": [
    "# 简化后\n",
    "tolerance_m = 1\n",
    "gdf.loc[sample, \"geometry\"].simplify(tolerance=tolerance_m, preserve_topology=True) # gdf.geometry[s]"
   ],
   "metadata": {
    "collapsed": false,
    "ExecuteTime": {
     "end_time": "2023-10-18T02:39:56.244112500Z",
     "start_time": "2023-10-18T02:39:56.171368200Z"
    }
   }
  },
  {
   "cell_type": "code",
   "execution_count": 13,
   "outputs": [
    {
     "data": {
      "text/plain": "geopandas.geoseries.GeoSeries"
     },
     "execution_count": 13,
     "metadata": {},
     "output_type": "execute_result"
    }
   ],
   "source": [
    "type(gdf.geometry)"
   ],
   "metadata": {
    "collapsed": false,
    "ExecuteTime": {
     "end_time": "2023-10-18T02:39:58.592508700Z",
     "start_time": "2023-10-18T02:39:58.546717300Z"
    }
   }
  },
  {
   "cell_type": "code",
   "execution_count": 12,
   "outputs": [
    {
     "data": {
      "text/plain": "0       POLYGON ((635512.808 5802343.021, 635518.461 5...\n1       POLYGON ((628083.847 5808893.547, 628089.158 5...\n2       POLYGON ((635718.103 5802400.059, 635709.565 5...\n3       POLYGON ((632084.702 5803319.551, 632084.825 5...\n4       POLYGON ((628012.652 5798762.544, 628013.017 5...\n                              ...                        \n4995    POLYGON ((627557.513 5802131.532, 627564.453 5...\n4996    POLYGON ((627352.994 5801265.341, 627354.145 5...\n4997    POLYGON ((628052.681 5798807.828, 628053.600 5...\n4998    POLYGON ((627541.906 5802832.051, 627537.717 5...\n4999    POLYGON ((631845.468 5803210.904, 631845.794 5...\nLength: 5000, dtype: geometry"
     },
     "execution_count": 12,
     "metadata": {},
     "output_type": "execute_result"
    }
   ],
   "source": [
    "# 可以直接对gdf进行简化\n",
    "s = gdf.geometry.simplify(tolerance=tolerance_m, preserve_topology=False)\n",
    "s"
   ],
   "metadata": {
    "collapsed": false,
    "ExecuteTime": {
     "end_time": "2023-10-17T07:55:39.732001500Z",
     "start_time": "2023-10-17T07:55:39.492911500Z"
    }
   }
  },
  {
   "cell_type": "code",
   "execution_count": 13,
   "outputs": [
    {
     "data": {
      "text/plain": "                                            rdf_seealso     identificatie  \\\n0     http://bag.basisregistraties.overheid.nl/bag/i...  0363100012061709   \n1     http://bag.basisregistraties.overheid.nl/bag/i...  0363100012061225   \n2     http://bag.basisregistraties.overheid.nl/bag/i...  0363100012061228   \n3     http://bag.basisregistraties.overheid.nl/bag/i...  0363100012062224   \n4     http://bag.basisregistraties.overheid.nl/bag/i...  0363100012063200   \n...                                                 ...               ...   \n4995  http://bag.basisregistraties.overheid.nl/bag/i...  0363100012152755   \n4996  http://bag.basisregistraties.overheid.nl/bag/i...  0363100012150365   \n4997  http://bag.basisregistraties.overheid.nl/bag/i...  0363100012151853   \n4998  http://bag.basisregistraties.overheid.nl/bag/i...  0363100012152298   \n4999  http://bag.basisregistraties.overheid.nl/bag/i...  0363100012146610   \n\n      bouwjaar           status             gebruiksdoel  oppervlakte_min  \\\n0         2007  Pand in gebruik              woonfunctie            331.0   \n1         1923  Pand in gebruik              woonfunctie             84.0   \n2         2004  Pand in gebruik              woonfunctie             93.0   \n3         1916  Pand in gebruik              woonfunctie             50.0   \n4         1965  Pand in gebruik  overige gebruiksfunctie              1.0   \n...        ...              ...                      ...              ...   \n4995      1901  Pand in gebruik              woonfunctie            126.0   \n4996      1931  Pand in gebruik              woonfunctie            112.0   \n4997      1962  Pand in gebruik              woonfunctie            158.0   \n4998      1877  Pand in gebruik              woonfunctie            518.0   \n4999      1912  Pand in gebruik              woonfunctie             64.0   \n\n      oppervlakte_max  aantal_verblijfsobjecten  geom_Length   geom_Area  \\\n0               331.0                         1    60.067413  173.201627   \n1                84.0                         1    28.671057   48.016138   \n2               128.0                         2    38.826189   80.168377   \n3                80.0                         4    36.203712   61.107085   \n4                 1.0                         1    18.999679   19.500827   \n...               ...                       ...          ...         ...   \n4995            348.0                         2    47.194270  118.141837   \n4996            160.0                         4    56.233363  180.862245   \n4997            158.0                         1    39.725985   77.562960   \n4998            518.0                         1    65.113810  187.508971   \n4999            110.0                         2    32.883748   50.828747   \n\n                                               geometry  \n0     POLYGON ((635512.808 5802343.021, 635518.461 5...  \n1     POLYGON ((628083.847 5808893.547, 628089.158 5...  \n2     POLYGON ((635718.103 5802400.059, 635709.565 5...  \n3     POLYGON ((632084.702 5803319.551, 632084.825 5...  \n4     POLYGON ((628012.652 5798762.544, 628013.017 5...  \n...                                                 ...  \n4995  POLYGON ((627557.513 5802131.532, 627564.453 5...  \n4996  POLYGON ((627352.994 5801265.341, 627354.145 5...  \n4997  POLYGON ((628052.681 5798807.828, 628053.600 5...  \n4998  POLYGON ((627541.906 5802832.051, 627537.717 5...  \n4999  POLYGON ((631845.468 5803210.904, 631845.794 5...  \n\n[5000 rows x 11 columns]",
      "text/html": "<div>\n<style scoped>\n    .dataframe tbody tr th:only-of-type {\n        vertical-align: middle;\n    }\n\n    .dataframe tbody tr th {\n        vertical-align: top;\n    }\n\n    .dataframe thead th {\n        text-align: right;\n    }\n</style>\n<table border=\"1\" class=\"dataframe\">\n  <thead>\n    <tr style=\"text-align: right;\">\n      <th></th>\n      <th>rdf_seealso</th>\n      <th>identificatie</th>\n      <th>bouwjaar</th>\n      <th>status</th>\n      <th>gebruiksdoel</th>\n      <th>oppervlakte_min</th>\n      <th>oppervlakte_max</th>\n      <th>aantal_verblijfsobjecten</th>\n      <th>geom_Length</th>\n      <th>geom_Area</th>\n      <th>geometry</th>\n    </tr>\n  </thead>\n  <tbody>\n    <tr>\n      <th>0</th>\n      <td>http://bag.basisregistraties.overheid.nl/bag/i...</td>\n      <td>0363100012061709</td>\n      <td>2007</td>\n      <td>Pand in gebruik</td>\n      <td>woonfunctie</td>\n      <td>331.0</td>\n      <td>331.0</td>\n      <td>1</td>\n      <td>60.067413</td>\n      <td>173.201627</td>\n      <td>POLYGON ((635512.808 5802343.021, 635518.461 5...</td>\n    </tr>\n    <tr>\n      <th>1</th>\n      <td>http://bag.basisregistraties.overheid.nl/bag/i...</td>\n      <td>0363100012061225</td>\n      <td>1923</td>\n      <td>Pand in gebruik</td>\n      <td>woonfunctie</td>\n      <td>84.0</td>\n      <td>84.0</td>\n      <td>1</td>\n      <td>28.671057</td>\n      <td>48.016138</td>\n      <td>POLYGON ((628083.847 5808893.547, 628089.158 5...</td>\n    </tr>\n    <tr>\n      <th>2</th>\n      <td>http://bag.basisregistraties.overheid.nl/bag/i...</td>\n      <td>0363100012061228</td>\n      <td>2004</td>\n      <td>Pand in gebruik</td>\n      <td>woonfunctie</td>\n      <td>93.0</td>\n      <td>128.0</td>\n      <td>2</td>\n      <td>38.826189</td>\n      <td>80.168377</td>\n      <td>POLYGON ((635718.103 5802400.059, 635709.565 5...</td>\n    </tr>\n    <tr>\n      <th>3</th>\n      <td>http://bag.basisregistraties.overheid.nl/bag/i...</td>\n      <td>0363100012062224</td>\n      <td>1916</td>\n      <td>Pand in gebruik</td>\n      <td>woonfunctie</td>\n      <td>50.0</td>\n      <td>80.0</td>\n      <td>4</td>\n      <td>36.203712</td>\n      <td>61.107085</td>\n      <td>POLYGON ((632084.702 5803319.551, 632084.825 5...</td>\n    </tr>\n    <tr>\n      <th>4</th>\n      <td>http://bag.basisregistraties.overheid.nl/bag/i...</td>\n      <td>0363100012063200</td>\n      <td>1965</td>\n      <td>Pand in gebruik</td>\n      <td>overige gebruiksfunctie</td>\n      <td>1.0</td>\n      <td>1.0</td>\n      <td>1</td>\n      <td>18.999679</td>\n      <td>19.500827</td>\n      <td>POLYGON ((628012.652 5798762.544, 628013.017 5...</td>\n    </tr>\n    <tr>\n      <th>...</th>\n      <td>...</td>\n      <td>...</td>\n      <td>...</td>\n      <td>...</td>\n      <td>...</td>\n      <td>...</td>\n      <td>...</td>\n      <td>...</td>\n      <td>...</td>\n      <td>...</td>\n      <td>...</td>\n    </tr>\n    <tr>\n      <th>4995</th>\n      <td>http://bag.basisregistraties.overheid.nl/bag/i...</td>\n      <td>0363100012152755</td>\n      <td>1901</td>\n      <td>Pand in gebruik</td>\n      <td>woonfunctie</td>\n      <td>126.0</td>\n      <td>348.0</td>\n      <td>2</td>\n      <td>47.194270</td>\n      <td>118.141837</td>\n      <td>POLYGON ((627557.513 5802131.532, 627564.453 5...</td>\n    </tr>\n    <tr>\n      <th>4996</th>\n      <td>http://bag.basisregistraties.overheid.nl/bag/i...</td>\n      <td>0363100012150365</td>\n      <td>1931</td>\n      <td>Pand in gebruik</td>\n      <td>woonfunctie</td>\n      <td>112.0</td>\n      <td>160.0</td>\n      <td>4</td>\n      <td>56.233363</td>\n      <td>180.862245</td>\n      <td>POLYGON ((627352.994 5801265.341, 627354.145 5...</td>\n    </tr>\n    <tr>\n      <th>4997</th>\n      <td>http://bag.basisregistraties.overheid.nl/bag/i...</td>\n      <td>0363100012151853</td>\n      <td>1962</td>\n      <td>Pand in gebruik</td>\n      <td>woonfunctie</td>\n      <td>158.0</td>\n      <td>158.0</td>\n      <td>1</td>\n      <td>39.725985</td>\n      <td>77.562960</td>\n      <td>POLYGON ((628052.681 5798807.828, 628053.600 5...</td>\n    </tr>\n    <tr>\n      <th>4998</th>\n      <td>http://bag.basisregistraties.overheid.nl/bag/i...</td>\n      <td>0363100012152298</td>\n      <td>1877</td>\n      <td>Pand in gebruik</td>\n      <td>woonfunctie</td>\n      <td>518.0</td>\n      <td>518.0</td>\n      <td>1</td>\n      <td>65.113810</td>\n      <td>187.508971</td>\n      <td>POLYGON ((627541.906 5802832.051, 627537.717 5...</td>\n    </tr>\n    <tr>\n      <th>4999</th>\n      <td>http://bag.basisregistraties.overheid.nl/bag/i...</td>\n      <td>0363100012146610</td>\n      <td>1912</td>\n      <td>Pand in gebruik</td>\n      <td>woonfunctie</td>\n      <td>64.0</td>\n      <td>110.0</td>\n      <td>2</td>\n      <td>32.883748</td>\n      <td>50.828747</td>\n      <td>POLYGON ((631845.468 5803210.904, 631845.794 5...</td>\n    </tr>\n  </tbody>\n</table>\n<p>5000 rows × 11 columns</p>\n</div>"
     },
     "execution_count": 13,
     "metadata": {},
     "output_type": "execute_result"
    }
   ],
   "source": [
    "gdf_simplify = gdf.copy()\n",
    "gdf_simplify['geometry'] = s\n",
    "gdf_simplify"
   ],
   "metadata": {
    "collapsed": false,
    "ExecuteTime": {
     "end_time": "2023-10-17T07:55:39.760003100Z",
     "start_time": "2023-10-17T07:55:39.548207500Z"
    }
   }
  },
  {
   "cell_type": "code",
   "execution_count": 14,
   "outputs": [
    {
     "data": {
      "text/plain": "<POLYGON ((632140.168 5803521.278, 632140.566 5803509.002, 632125.778 580350...>",
      "image/svg+xml": "<svg xmlns=\"http://www.w3.org/2000/svg\" xmlns:xlink=\"http://www.w3.org/1999/xlink\" width=\"100.0\" height=\"100.0\" viewBox=\"632124.7406239999 5803507.913324 16.434252000413835 13.973651999607682\" preserveAspectRatio=\"xMinYMin meet\"><g transform=\"matrix(1,0,0,-1,0,11607029.8003)\"><path fill-rule=\"evenodd\" fill=\"#66cc99\" stroke=\"#555555\" stroke-width=\"0.3286850400082767\" opacity=\"0.6\" d=\"M 632140.1681000004,5803521.2783 L 632140.5662000002,5803509.002 L 632125.7775999997,5803508.522 L 632125.3492999999,5803520.7722 L 632140.1681000004,5803521.2783 z\" /></g></svg>"
     },
     "execution_count": 14,
     "metadata": {},
     "output_type": "execute_result"
    }
   ],
   "source": [
    "gdf_simplify.loc[sample, \"geometry\"]"
   ],
   "metadata": {
    "collapsed": false,
    "ExecuteTime": {
     "end_time": "2023-10-17T07:55:39.770790400Z",
     "start_time": "2023-10-17T07:55:39.579221500Z"
    }
   }
  },
  {
   "cell_type": "markdown",
   "source": [
    "### 4.2 获取中心点\n"
   ],
   "metadata": {
    "collapsed": false
   }
  },
  {
   "cell_type": "markdown",
   "source": [
    "#### 获取中心点的原理\n",
    "\n",
    "'coords = polygon.exterior.coords'\n",
    "\n",
    "您可以使用len(polygon.exterior.coords)找到该对象的长度并可以像列表一样索引对象。 例如，要获取第一个顶点，请使用polygon.interiors[0].coords。请注意，第一个点和最后一个点是相同的。 如果要包含没有重复点的顶点的列表，请使用polygon.interiors[0].coords[:-1]。"
   ],
   "metadata": {
    "collapsed": false
   }
  },
  {
   "cell_type": "code",
   "execution_count": 15,
   "outputs": [
    {
     "name": "stdout",
     "output_type": "stream",
     "text": [
      "5 [(632140.1681000004, 5803521.2783), (632140.5662000002, 5803509.002), (632125.7775999997, 5803508.522), (632125.3492999999, 5803520.7722), (632140.1681000004, 5803521.2783)]\n"
     ]
    }
   ],
   "source": [
    "# 转换多边形的边界为线性环\n",
    "linear_ring = gdf_simplify.loc[sample, \"geometry\"].exterior\n",
    "\n",
    "# 将坐标转换为一个列表，每个元素都是一个坐标对 (x, y)\n",
    "coords_list = list(linear_ring.coords)\n",
    "print(len(coords_list), coords_list)"
   ],
   "metadata": {
    "collapsed": false,
    "ExecuteTime": {
     "end_time": "2023-10-17T07:55:39.771796300Z",
     "start_time": "2023-10-17T07:55:39.598908400Z"
    }
   }
  },
  {
   "cell_type": "markdown",
   "source": [
    "可以看到第一个点和最后一个点是相同的"
   ],
   "metadata": {
    "collapsed": false
   }
  },
  {
   "cell_type": "code",
   "execution_count": 16,
   "outputs": [
    {
     "name": "stdout",
     "output_type": "stream",
     "text": [
      "4 [<POINT (632140.367 5803515.14)>, <POINT (632133.172 5803508.762)>, <POINT (632125.563 5803514.647)>, <POINT (632132.759 5803521.025)>]\n"
     ]
    }
   ],
   "source": [
    "from shapely.geometry import Point\n",
    "# 初始化列表，用于存储每条边的端点\n",
    "mid_points = []\n",
    "\n",
    "# 遍历坐标列表中的点，每两个点组成线段的两个端点\n",
    "for i in range(len(coords_list) - 1):  # 减1，因为我们回到了起始点，所以最后一个点不需要形成新的线段\n",
    "    # 获取线段的端点\n",
    "    point1 = coords_list[i]\n",
    "    point2 = coords_list[i + 1]\n",
    "\n",
    "    # 计算中点的坐标\n",
    "    mid_x = (point1[0] + point2[0]) / 2.0\n",
    "    mid_y = (point1[1] + point2[1]) / 2.0\n",
    "\n",
    "    # 返回中点\n",
    "    mid_point = Point(mid_x, mid_y)\n",
    "\n",
    "    mid_points.append(mid_point)\n",
    "\n",
    "\n",
    "print(len(mid_points), mid_points)"
   ],
   "metadata": {
    "collapsed": false,
    "ExecuteTime": {
     "end_time": "2023-10-17T07:55:39.809864800Z",
     "start_time": "2023-10-17T07:55:39.619555600Z"
    }
   }
  },
  {
   "cell_type": "markdown",
   "source": [
    "#### 将中心点构造成dataframe"
   ],
   "metadata": {
    "collapsed": false
   }
  },
  {
   "cell_type": "code",
   "execution_count": 17,
   "outputs": [],
   "source": [
    "# 将中心点构造成dataframe\n",
    "points = gpd.GeoDataFrame(geometry=mid_points)\n",
    "\n",
    "# 为 GeoDataFrame 设置坐标参考系统（CRS）如果您知道它的话\n",
    "points.crs =  gdf_simplify.crs"
   ],
   "metadata": {
    "collapsed": false,
    "ExecuteTime": {
     "end_time": "2023-10-17T07:55:39.809864800Z",
     "start_time": "2023-10-17T07:55:39.640507600Z"
    }
   }
  },
  {
   "cell_type": "code",
   "execution_count": 18,
   "outputs": [
    {
     "data": {
      "text/plain": "                         geometry\n0  POINT (632140.367 5803515.140)\n1  POINT (632133.172 5803508.762)\n2  POINT (632125.563 5803514.647)\n3  POINT (632132.759 5803521.025)",
      "text/html": "<div>\n<style scoped>\n    .dataframe tbody tr th:only-of-type {\n        vertical-align: middle;\n    }\n\n    .dataframe tbody tr th {\n        vertical-align: top;\n    }\n\n    .dataframe thead th {\n        text-align: right;\n    }\n</style>\n<table border=\"1\" class=\"dataframe\">\n  <thead>\n    <tr style=\"text-align: right;\">\n      <th></th>\n      <th>geometry</th>\n    </tr>\n  </thead>\n  <tbody>\n    <tr>\n      <th>0</th>\n      <td>POINT (632140.367 5803515.140)</td>\n    </tr>\n    <tr>\n      <th>1</th>\n      <td>POINT (632133.172 5803508.762)</td>\n    </tr>\n    <tr>\n      <th>2</th>\n      <td>POINT (632125.563 5803514.647)</td>\n    </tr>\n    <tr>\n      <th>3</th>\n      <td>POINT (632132.759 5803521.025)</td>\n    </tr>\n  </tbody>\n</table>\n</div>"
     },
     "execution_count": 18,
     "metadata": {},
     "output_type": "execute_result"
    }
   ],
   "source": [
    "points"
   ],
   "metadata": {
    "collapsed": false,
    "ExecuteTime": {
     "end_time": "2023-10-17T07:55:39.999312900Z",
     "start_time": "2023-10-17T07:55:39.659235800Z"
    }
   }
  },
  {
   "cell_type": "code",
   "execution_count": 19,
   "outputs": [
    {
     "data": {
      "text/plain": "<Axes: >"
     },
     "execution_count": 19,
     "metadata": {},
     "output_type": "execute_result"
    },
    {
     "data": {
      "text/plain": "<Figure size 700x700 with 1 Axes>",
      "image/png": "[encoded data removed]"
     },
     "metadata": {},
     "output_type": "display_data"
    }
   ],
   "source": [
    "# 绘制原始多边形和简化后的多边形\n",
    "import matplotlib.pyplot as plt\n",
    "fig, ax = plt.subplots(figsize=(7, 7))\n",
    "\n",
    "# 绘制原始多边形。我们通过将 'loc' 结果转换为一个新的 GeoDataFrame 来确保 'plot' 方法的可用性。\n",
    "# 'loc' 通常返回一个 Series 或单个值，但我们需要一个 GeoDataFrame 来使用 'plot' 方法。\n",
    "gdf_simplify.loc[[sample]].plot(ax=ax, facecolor='gray') #注意，这里用双括号来确保返回一个 DataFrame\n",
    "\n",
    "# 绘制中点\n",
    "points.plot(ax=ax, color='red', markersize=100)"
   ],
   "metadata": {
    "collapsed": false,
    "ExecuteTime": {
     "end_time": "2023-10-17T07:55:40.165126800Z",
     "start_time": "2023-10-17T07:55:39.832874400Z"
    }
   }
  },
  {
   "cell_type": "markdown",
   "source": [
    "### 优化代码\n",
    "- 1.使用函数\n",
    "- 2.使用geopandas的apply函数\n",
    "- 3.处理MultiPolygon\n"
   ],
   "metadata": {
    "collapsed": false
   }
  },
  {
   "cell_type": "code",
   "execution_count": 20,
   "outputs": [],
   "source": [
    "import geopandas as gpd\n",
    "from shapely.geometry import Point, MultiPoint, Polygon, MultiPolygon\n",
    "\n",
    "def calculate_midpoints(geometry):\n",
    "    \"\"\"\n",
    "    计算Polygon的每条边的中点或MultiPolygon中每个Polygon的中点。\n",
    "    \"\"\"\n",
    "    midpoints = []\n",
    "\n",
    "    def midpoint_for_polygon(polygon):\n",
    "        # 为单个多边形计算中点\n",
    "        coords = polygon.exterior.coords\n",
    "        for i in range(len(coords)-1):\n",
    "            mid_x = (coords[i][0] + coords[i + 1][0]) / 2.0\n",
    "            mid_y = (coords[i][1] + coords[i + 1][1]) / 2.0\n",
    "            midpoints.append(Point(mid_x, mid_y))\n",
    "\n",
    "    if isinstance(geometry, Polygon):\n",
    "        midpoint_for_polygon(geometry)\n",
    "    elif isinstance(geometry, MultiPolygon):\n",
    "        # 对于MultiPolygons，我们需要遍历每个多边形。\n",
    "        for poly in geometry.geoms:  # 在这里，我们使用.geoms属性进行迭代。geoms属性返回它包含的Polygon实例。\n",
    "            midpoint_for_polygon(poly)\n",
    "\n",
    "    return MultiPoint(midpoints)\n",
    "\n",
    "# 应用函数并创建一个包含中点的新GeoDataFrame\n",
    "gdf_simplify['midpoints'] = gdf_simplify.geometry.apply(calculate_midpoints)\n",
    "\n"
   ],
   "metadata": {
    "collapsed": false,
    "ExecuteTime": {
     "end_time": "2023-10-17T07:55:41.174641700Z",
     "start_time": "2023-10-17T07:55:40.041843600Z"
    }
   }
  },
  {
   "cell_type": "code",
   "execution_count": 21,
   "outputs": [
    {
     "data": {
      "text/plain": "                                         rdf_seealso     identificatie  \\\n0  http://bag.basisregistraties.overheid.nl/bag/i...  0363100012061709   \n1  http://bag.basisregistraties.overheid.nl/bag/i...  0363100012061225   \n2  http://bag.basisregistraties.overheid.nl/bag/i...  0363100012061228   \n3  http://bag.basisregistraties.overheid.nl/bag/i...  0363100012062224   \n4  http://bag.basisregistraties.overheid.nl/bag/i...  0363100012063200   \n\n   bouwjaar           status             gebruiksdoel  oppervlakte_min  \\\n0      2007  Pand in gebruik              woonfunctie            331.0   \n1      1923  Pand in gebruik              woonfunctie             84.0   \n2      2004  Pand in gebruik              woonfunctie             93.0   \n3      1916  Pand in gebruik              woonfunctie             50.0   \n4      1965  Pand in gebruik  overige gebruiksfunctie              1.0   \n\n   oppervlakte_max  aantal_verblijfsobjecten  geom_Length   geom_Area  \\\n0            331.0                         1    60.067413  173.201627   \n1             84.0                         1    28.671057   48.016138   \n2            128.0                         2    38.826189   80.168377   \n3             80.0                         4    36.203712   61.107085   \n4              1.0                         1    18.999679   19.500827   \n\n                                            geometry  \\\n0  POLYGON ((635512.808 5802343.021, 635518.461 5...   \n1  POLYGON ((628083.847 5808893.547, 628089.158 5...   \n2  POLYGON ((635718.103 5802400.059, 635709.565 5...   \n3  POLYGON ((632084.702 5803319.551, 632084.825 5...   \n4  POLYGON ((628012.652 5798762.544, 628013.017 5...   \n\n                                           midpoints  \n0  MULTIPOINT (635515.634 5802340.714, 635515.929...  \n1  MULTIPOINT (628086.502 5808897.184, 628091.310...  \n2  MULTIPOINT (635713.834 5802394.859, 635707.263...  \n3  MULTIPOINT (632084.764 5803318.113, 632078.555...  \n4  MULTIPOINT (628012.834 5798759.299, 628011.519...  ",
      "text/html": "<div>\n<style scoped>\n    .dataframe tbody tr th:only-of-type {\n        vertical-align: middle;\n    }\n\n    .dataframe tbody tr th {\n        vertical-align: top;\n    }\n\n    .dataframe thead th {\n        text-align: right;\n    }\n</style>\n<table border=\"1\" class=\"dataframe\">\n  <thead>\n    <tr style=\"text-align: right;\">\n      <th></th>\n      <th>rdf_seealso</th>\n      <th>identificatie</th>\n      <th>bouwjaar</th>\n      <th>status</th>\n      <th>gebruiksdoel</th>\n      <th>oppervlakte_min</th>\n      <th>oppervlakte_max</th>\n      <th>aantal_verblijfsobjecten</th>\n      <th>geom_Length</th>\n      <th>geom_Area</th>\n      <th>geometry</th>\n      <th>midpoints</th>\n    </tr>\n  </thead>\n  <tbody>\n    <tr>\n      <th>0</th>\n      <td>http://bag.basisregistraties.overheid.nl/bag/i...</td>\n      <td>0363100012061709</td>\n      <td>2007</td>\n      <td>Pand in gebruik</td>\n      <td>woonfunctie</td>\n      <td>331.0</td>\n      <td>331.0</td>\n      <td>1</td>\n      <td>60.067413</td>\n      <td>173.201627</td>\n      <td>POLYGON ((635512.808 5802343.021, 635518.461 5...</td>\n      <td>MULTIPOINT (635515.634 5802340.714, 635515.929...</td>\n    </tr>\n    <tr>\n      <th>1</th>\n      <td>http://bag.basisregistraties.overheid.nl/bag/i...</td>\n      <td>0363100012061225</td>\n      <td>1923</td>\n      <td>Pand in gebruik</td>\n      <td>woonfunctie</td>\n      <td>84.0</td>\n      <td>84.0</td>\n      <td>1</td>\n      <td>28.671057</td>\n      <td>48.016138</td>\n      <td>POLYGON ((628083.847 5808893.547, 628089.158 5...</td>\n      <td>MULTIPOINT (628086.502 5808897.184, 628091.310...</td>\n    </tr>\n    <tr>\n      <th>2</th>\n      <td>http://bag.basisregistraties.overheid.nl/bag/i...</td>\n      <td>0363100012061228</td>\n      <td>2004</td>\n      <td>Pand in gebruik</td>\n      <td>woonfunctie</td>\n      <td>93.0</td>\n      <td>128.0</td>\n      <td>2</td>\n      <td>38.826189</td>\n      <td>80.168377</td>\n      <td>POLYGON ((635718.103 5802400.059, 635709.565 5...</td>\n      <td>MULTIPOINT (635713.834 5802394.859, 635707.263...</td>\n    </tr>\n    <tr>\n      <th>3</th>\n      <td>http://bag.basisregistraties.overheid.nl/bag/i...</td>\n      <td>0363100012062224</td>\n      <td>1916</td>\n      <td>Pand in gebruik</td>\n      <td>woonfunctie</td>\n      <td>50.0</td>\n      <td>80.0</td>\n      <td>4</td>\n      <td>36.203712</td>\n      <td>61.107085</td>\n      <td>POLYGON ((632084.702 5803319.551, 632084.825 5...</td>\n      <td>MULTIPOINT (632084.764 5803318.113, 632078.555...</td>\n    </tr>\n    <tr>\n      <th>4</th>\n      <td>http://bag.basisregistraties.overheid.nl/bag/i...</td>\n      <td>0363100012063200</td>\n      <td>1965</td>\n      <td>Pand in gebruik</td>\n      <td>overige gebruiksfunctie</td>\n      <td>1.0</td>\n      <td>1.0</td>\n      <td>1</td>\n      <td>18.999679</td>\n      <td>19.500827</td>\n      <td>POLYGON ((628012.652 5798762.544, 628013.017 5...</td>\n      <td>MULTIPOINT (628012.834 5798759.299, 628011.519...</td>\n    </tr>\n  </tbody>\n</table>\n</div>"
     },
     "execution_count": 21,
     "metadata": {},
     "output_type": "execute_result"
    }
   ],
   "source": [
    "gdf_points = gdf_simplify.copy()\n",
    "# gdf_points = gdf_points.explode()  # 将 MultiPoint 转换为单个点\n",
    "gdf_points.head()\n",
    "# gdf_points = gdf_points.set_geometry('midpoints')"
   ],
   "metadata": {
    "collapsed": false,
    "ExecuteTime": {
     "end_time": "2023-10-17T07:55:41.191695100Z",
     "start_time": "2023-10-17T07:55:41.172645500Z"
    }
   }
  },
  {
   "cell_type": "code",
   "execution_count": 22,
   "outputs": [
    {
     "data": {
      "text/plain": "                                            rdf_seealso     identificatie  \\\n0     http://bag.basisregistraties.overheid.nl/bag/i...  0363100012061709   \n1     http://bag.basisregistraties.overheid.nl/bag/i...  0363100012061225   \n2     http://bag.basisregistraties.overheid.nl/bag/i...  0363100012061228   \n3     http://bag.basisregistraties.overheid.nl/bag/i...  0363100012062224   \n4     http://bag.basisregistraties.overheid.nl/bag/i...  0363100012063200   \n...                                                 ...               ...   \n4995  http://bag.basisregistraties.overheid.nl/bag/i...  0363100012152755   \n4996  http://bag.basisregistraties.overheid.nl/bag/i...  0363100012150365   \n4997  http://bag.basisregistraties.overheid.nl/bag/i...  0363100012151853   \n4998  http://bag.basisregistraties.overheid.nl/bag/i...  0363100012152298   \n4999  http://bag.basisregistraties.overheid.nl/bag/i...  0363100012146610   \n\n      bouwjaar           status             gebruiksdoel  oppervlakte_min  \\\n0         2007  Pand in gebruik              woonfunctie            331.0   \n1         1923  Pand in gebruik              woonfunctie             84.0   \n2         2004  Pand in gebruik              woonfunctie             93.0   \n3         1916  Pand in gebruik              woonfunctie             50.0   \n4         1965  Pand in gebruik  overige gebruiksfunctie              1.0   \n...        ...              ...                      ...              ...   \n4995      1901  Pand in gebruik              woonfunctie            126.0   \n4996      1931  Pand in gebruik              woonfunctie            112.0   \n4997      1962  Pand in gebruik              woonfunctie            158.0   \n4998      1877  Pand in gebruik              woonfunctie            518.0   \n4999      1912  Pand in gebruik              woonfunctie             64.0   \n\n      oppervlakte_max  aantal_verblijfsobjecten  geom_Length   geom_Area  \\\n0               331.0                         1    60.067413  173.201627   \n1                84.0                         1    28.671057   48.016138   \n2               128.0                         2    38.826189   80.168377   \n3                80.0                         4    36.203712   61.107085   \n4                 1.0                         1    18.999679   19.500827   \n...               ...                       ...          ...         ...   \n4995            348.0                         2    47.194270  118.141837   \n4996            160.0                         4    56.233363  180.862245   \n4997            158.0                         1    39.725985   77.562960   \n4998            518.0                         1    65.113810  187.508971   \n4999            110.0                         2    32.883748   50.828747   \n\n                                               geometry  \\\n0     POLYGON ((635512.808 5802343.021, 635518.461 5...   \n1     POLYGON ((628083.847 5808893.547, 628089.158 5...   \n2     POLYGON ((635718.103 5802400.059, 635709.565 5...   \n3     POLYGON ((632084.702 5803319.551, 632084.825 5...   \n4     POLYGON ((628012.652 5798762.544, 628013.017 5...   \n...                                                 ...   \n4995  POLYGON ((627557.513 5802131.532, 627564.453 5...   \n4996  POLYGON ((627352.994 5801265.341, 627354.145 5...   \n4997  POLYGON ((628052.681 5798807.828, 628053.600 5...   \n4998  POLYGON ((627541.906 5802832.051, 627537.717 5...   \n4999  POLYGON ((631845.468 5803210.904, 631845.794 5...   \n\n                                              midpoints  \n0     MULTIPOINT (635515.634 5802340.714, 635515.929...  \n1     MULTIPOINT (628086.502 5808897.184, 628091.310...  \n2     MULTIPOINT (635713.834 5802394.859, 635707.263...  \n3     MULTIPOINT (632084.764 5803318.113, 632078.555...  \n4     MULTIPOINT (628012.834 5798759.299, 628011.519...  \n...                                                 ...  \n4995  MULTIPOINT (627560.983 5802124.109, 627561.142...  \n4996  MULTIPOINT (627353.569 5801258.764, 627348.687...  \n4997  MULTIPOINT (628053.141 5798801.204, 628050.855...  \n4998  MULTIPOINT (627539.812 5802830.984, 627539.062...  \n4999  MULTIPOINT (631845.631 5803207.247, 631843.157...  \n\n[5000 rows x 12 columns]",
      "text/html": "<div>\n<style scoped>\n    .dataframe tbody tr th:only-of-type {\n        vertical-align: middle;\n    }\n\n    .dataframe tbody tr th {\n        vertical-align: top;\n    }\n\n    .dataframe thead th {\n        text-align: right;\n    }\n</style>\n<table border=\"1\" class=\"dataframe\">\n  <thead>\n    <tr style=\"text-align: right;\">\n      <th></th>\n      <th>rdf_seealso</th>\n      <th>identificatie</th>\n      <th>bouwjaar</th>\n      <th>status</th>\n      <th>gebruiksdoel</th>\n      <th>oppervlakte_min</th>\n      <th>oppervlakte_max</th>\n      <th>aantal_verblijfsobjecten</th>\n      <th>geom_Length</th>\n      <th>geom_Area</th>\n      <th>geometry</th>\n      <th>midpoints</th>\n    </tr>\n  </thead>\n  <tbody>\n    <tr>\n      <th>0</th>\n      <td>http://bag.basisregistraties.overheid.nl/bag/i...</td>\n      <td>0363100012061709</td>\n      <td>2007</td>\n      <td>Pand in gebruik</td>\n      <td>woonfunctie</td>\n      <td>331.0</td>\n      <td>331.0</td>\n      <td>1</td>\n      <td>60.067413</td>\n      <td>173.201627</td>\n      <td>POLYGON ((635512.808 5802343.021, 635518.461 5...</td>\n      <td>MULTIPOINT (635515.634 5802340.714, 635515.929...</td>\n    </tr>\n    <tr>\n      <th>1</th>\n      <td>http://bag.basisregistraties.overheid.nl/bag/i...</td>\n      <td>0363100012061225</td>\n      <td>1923</td>\n      <td>Pand in gebruik</td>\n      <td>woonfunctie</td>\n      <td>84.0</td>\n      <td>84.0</td>\n      <td>1</td>\n      <td>28.671057</td>\n      <td>48.016138</td>\n      <td>POLYGON ((628083.847 5808893.547, 628089.158 5...</td>\n      <td>MULTIPOINT (628086.502 5808897.184, 628091.310...</td>\n    </tr>\n    <tr>\n      <th>2</th>\n      <td>http://bag.basisregistraties.overheid.nl/bag/i...</td>\n      <td>0363100012061228</td>\n      <td>2004</td>\n      <td>Pand in gebruik</td>\n      <td>woonfunctie</td>\n      <td>93.0</td>\n      <td>128.0</td>\n      <td>2</td>\n      <td>38.826189</td>\n      <td>80.168377</td>\n      <td>POLYGON ((635718.103 5802400.059, 635709.565 5...</td>\n      <td>MULTIPOINT (635713.834 5802394.859, 635707.263...</td>\n    </tr>\n    <tr>\n      <th>3</th>\n      <td>http://bag.basisregistraties.overheid.nl/bag/i...</td>\n      <td>0363100012062224</td>\n      <td>1916</td>\n      <td>Pand in gebruik</td>\n      <td>woonfunctie</td>\n      <td>50.0</td>\n      <td>80.0</td>\n      <td>4</td>\n      <td>36.203712</td>\n      <td>61.107085</td>\n      <td>POLYGON ((632084.702 5803319.551, 632084.825 5...</td>\n      <td>MULTIPOINT (632084.764 5803318.113, 632078.555...</td>\n    </tr>\n    <tr>\n      <th>4</th>\n      <td>http://bag.basisregistraties.overheid.nl/bag/i...</td>\n      <td>0363100012063200</td>\n      <td>1965</td>\n      <td>Pand in gebruik</td>\n      <td>overige gebruiksfunctie</td>\n      <td>1.0</td>\n      <td>1.0</td>\n      <td>1</td>\n      <td>18.999679</td>\n      <td>19.500827</td>\n      <td>POLYGON ((628012.652 5798762.544, 628013.017 5...</td>\n      <td>MULTIPOINT (628012.834 5798759.299, 628011.519...</td>\n    </tr>\n    <tr>\n      <th>...</th>\n      <td>...</td>\n      <td>...</td>\n      <td>...</td>\n      <td>...</td>\n      <td>...</td>\n      <td>...</td>\n      <td>...</td>\n      <td>...</td>\n      <td>...</td>\n      <td>...</td>\n      <td>...</td>\n      <td>...</td>\n    </tr>\n    <tr>\n      <th>4995</th>\n      <td>http://bag.basisregistraties.overheid.nl/bag/i...</td>\n      <td>0363100012152755</td>\n      <td>1901</td>\n      <td>Pand in gebruik</td>\n      <td>woonfunctie</td>\n      <td>126.0</td>\n      <td>348.0</td>\n      <td>2</td>\n      <td>47.194270</td>\n      <td>118.141837</td>\n      <td>POLYGON ((627557.513 5802131.532, 627564.453 5...</td>\n      <td>MULTIPOINT (627560.983 5802124.109, 627561.142...</td>\n    </tr>\n    <tr>\n      <th>4996</th>\n      <td>http://bag.basisregistraties.overheid.nl/bag/i...</td>\n      <td>0363100012150365</td>\n      <td>1931</td>\n      <td>Pand in gebruik</td>\n      <td>woonfunctie</td>\n      <td>112.0</td>\n      <td>160.0</td>\n      <td>4</td>\n      <td>56.233363</td>\n      <td>180.862245</td>\n      <td>POLYGON ((627352.994 5801265.341, 627354.145 5...</td>\n      <td>MULTIPOINT (627353.569 5801258.764, 627348.687...</td>\n    </tr>\n    <tr>\n      <th>4997</th>\n      <td>http://bag.basisregistraties.overheid.nl/bag/i...</td>\n      <td>0363100012151853</td>\n      <td>1962</td>\n      <td>Pand in gebruik</td>\n      <td>woonfunctie</td>\n      <td>158.0</td>\n      <td>158.0</td>\n      <td>1</td>\n      <td>39.725985</td>\n      <td>77.562960</td>\n      <td>POLYGON ((628052.681 5798807.828, 628053.600 5...</td>\n      <td>MULTIPOINT (628053.141 5798801.204, 628050.855...</td>\n    </tr>\n    <tr>\n      <th>4998</th>\n      <td>http://bag.basisregistraties.overheid.nl/bag/i...</td>\n      <td>0363100012152298</td>\n      <td>1877</td>\n      <td>Pand in gebruik</td>\n      <td>woonfunctie</td>\n      <td>518.0</td>\n      <td>518.0</td>\n      <td>1</td>\n      <td>65.113810</td>\n      <td>187.508971</td>\n      <td>POLYGON ((627541.906 5802832.051, 627537.717 5...</td>\n      <td>MULTIPOINT (627539.812 5802830.984, 627539.062...</td>\n    </tr>\n    <tr>\n      <th>4999</th>\n      <td>http://bag.basisregistraties.overheid.nl/bag/i...</td>\n      <td>0363100012146610</td>\n      <td>1912</td>\n      <td>Pand in gebruik</td>\n      <td>woonfunctie</td>\n      <td>64.0</td>\n      <td>110.0</td>\n      <td>2</td>\n      <td>32.883748</td>\n      <td>50.828747</td>\n      <td>POLYGON ((631845.468 5803210.904, 631845.794 5...</td>\n      <td>MULTIPOINT (631845.631 5803207.247, 631843.157...</td>\n    </tr>\n  </tbody>\n</table>\n<p>5000 rows × 12 columns</p>\n</div>"
     },
     "execution_count": 22,
     "metadata": {},
     "output_type": "execute_result"
    }
   ],
   "source": [
    "gdf_points = gdf_points.set_geometry('midpoints')\n",
    "gdf_points"
   ],
   "metadata": {
    "collapsed": false,
    "ExecuteTime": {
     "end_time": "2023-10-17T07:55:41.252880300Z",
     "start_time": "2023-10-17T07:55:41.190695200Z"
    }
   }
  },
  {
   "cell_type": "code",
   "execution_count": 23,
   "outputs": [
    {
     "data": {
      "text/plain": "0       MULTIPOINT (635515.634 5802340.714, 635515.929...\n1       MULTIPOINT (628086.502 5808897.184, 628091.310...\n2       MULTIPOINT (635713.834 5802394.859, 635707.263...\n3       MULTIPOINT (632084.764 5803318.113, 632078.555...\n4       MULTIPOINT (628012.834 5798759.299, 628011.519...\n                              ...                        \n4995    MULTIPOINT (627560.983 5802124.109, 627561.142...\n4996    MULTIPOINT (627353.569 5801258.764, 627348.687...\n4997    MULTIPOINT (628053.141 5798801.204, 628050.855...\n4998    MULTIPOINT (627539.812 5802830.984, 627539.062...\n4999    MULTIPOINT (631845.631 5803207.247, 631843.157...\nName: midpoints, Length: 5000, dtype: geometry"
     },
     "execution_count": 23,
     "metadata": {},
     "output_type": "execute_result"
    }
   ],
   "source": [
    "gdf_points.geometry"
   ],
   "metadata": {
    "collapsed": false,
    "ExecuteTime": {
     "end_time": "2023-10-17T07:55:41.253879200Z",
     "start_time": "2023-10-17T07:55:41.223161400Z"
    }
   }
  },
  {
   "cell_type": "code",
   "execution_count": 24,
   "outputs": [
    {
     "data": {
      "text/plain": "         identificatie  bouwjaar  \\\n0     0363100012061709      2007   \n1     0363100012061225      1923   \n2     0363100012061228      2004   \n3     0363100012062224      1916   \n4     0363100012063200      1965   \n...                ...       ...   \n4995  0363100012152755      1901   \n4996  0363100012150365      1931   \n4997  0363100012151853      1962   \n4998  0363100012152298      1877   \n4999  0363100012146610      1912   \n\n                                              midpoints  \\\n0     MULTIPOINT (635515.634 5802340.714, 635515.929...   \n1     MULTIPOINT (628086.502 5808897.184, 628091.310...   \n2     MULTIPOINT (635713.834 5802394.859, 635707.263...   \n3     MULTIPOINT (632084.764 5803318.113, 632078.555...   \n4     MULTIPOINT (628012.834 5798759.299, 628011.519...   \n...                                                 ...   \n4995  MULTIPOINT (627560.983 5802124.109, 627561.142...   \n4996  MULTIPOINT (627353.569 5801258.764, 627348.687...   \n4997  MULTIPOINT (628053.141 5798801.204, 628050.855...   \n4998  MULTIPOINT (627539.812 5802830.984, 627539.062...   \n4999  MULTIPOINT (631845.631 5803207.247, 631843.157...   \n\n                                               geometry  \n0     POLYGON ((635512.808 5802343.021, 635518.461 5...  \n1     POLYGON ((628083.847 5808893.547, 628089.158 5...  \n2     POLYGON ((635718.103 5802400.059, 635709.565 5...  \n3     POLYGON ((632084.702 5803319.551, 632084.825 5...  \n4     POLYGON ((628012.652 5798762.544, 628013.017 5...  \n...                                                 ...  \n4995  POLYGON ((627557.513 5802131.532, 627564.453 5...  \n4996  POLYGON ((627352.994 5801265.341, 627354.145 5...  \n4997  POLYGON ((628052.681 5798807.828, 628053.600 5...  \n4998  POLYGON ((627541.906 5802832.051, 627537.717 5...  \n4999  POLYGON ((631845.468 5803210.904, 631845.794 5...  \n\n[5000 rows x 4 columns]",
      "text/html": "<div>\n<style scoped>\n    .dataframe tbody tr th:only-of-type {\n        vertical-align: middle;\n    }\n\n    .dataframe tbody tr th {\n        vertical-align: top;\n    }\n\n    .dataframe thead th {\n        text-align: right;\n    }\n</style>\n<table border=\"1\" class=\"dataframe\">\n  <thead>\n    <tr style=\"text-align: right;\">\n      <th></th>\n      <th>identificatie</th>\n      <th>bouwjaar</th>\n      <th>midpoints</th>\n      <th>geometry</th>\n    </tr>\n  </thead>\n  <tbody>\n    <tr>\n      <th>0</th>\n      <td>0363100012061709</td>\n      <td>2007</td>\n      <td>MULTIPOINT (635515.634 5802340.714, 635515.929...</td>\n      <td>POLYGON ((635512.808 5802343.021, 635518.461 5...</td>\n    </tr>\n    <tr>\n      <th>1</th>\n      <td>0363100012061225</td>\n      <td>1923</td>\n      <td>MULTIPOINT (628086.502 5808897.184, 628091.310...</td>\n      <td>POLYGON ((628083.847 5808893.547, 628089.158 5...</td>\n    </tr>\n    <tr>\n      <th>2</th>\n      <td>0363100012061228</td>\n      <td>2004</td>\n      <td>MULTIPOINT (635713.834 5802394.859, 635707.263...</td>\n      <td>POLYGON ((635718.103 5802400.059, 635709.565 5...</td>\n    </tr>\n    <tr>\n      <th>3</th>\n      <td>0363100012062224</td>\n      <td>1916</td>\n      <td>MULTIPOINT (632084.764 5803318.113, 632078.555...</td>\n      <td>POLYGON ((632084.702 5803319.551, 632084.825 5...</td>\n    </tr>\n    <tr>\n      <th>4</th>\n      <td>0363100012063200</td>\n      <td>1965</td>\n      <td>MULTIPOINT (628012.834 5798759.299, 628011.519...</td>\n      <td>POLYGON ((628012.652 5798762.544, 628013.017 5...</td>\n    </tr>\n    <tr>\n      <th>...</th>\n      <td>...</td>\n      <td>...</td>\n      <td>...</td>\n      <td>...</td>\n    </tr>\n    <tr>\n      <th>4995</th>\n      <td>0363100012152755</td>\n      <td>1901</td>\n      <td>MULTIPOINT (627560.983 5802124.109, 627561.142...</td>\n      <td>POLYGON ((627557.513 5802131.532, 627564.453 5...</td>\n    </tr>\n    <tr>\n      <th>4996</th>\n      <td>0363100012150365</td>\n      <td>1931</td>\n      <td>MULTIPOINT (627353.569 5801258.764, 627348.687...</td>\n      <td>POLYGON ((627352.994 5801265.341, 627354.145 5...</td>\n    </tr>\n    <tr>\n      <th>4997</th>\n      <td>0363100012151853</td>\n      <td>1962</td>\n      <td>MULTIPOINT (628053.141 5798801.204, 628050.855...</td>\n      <td>POLYGON ((628052.681 5798807.828, 628053.600 5...</td>\n    </tr>\n    <tr>\n      <th>4998</th>\n      <td>0363100012152298</td>\n      <td>1877</td>\n      <td>MULTIPOINT (627539.812 5802830.984, 627539.062...</td>\n      <td>POLYGON ((627541.906 5802832.051, 627537.717 5...</td>\n    </tr>\n    <tr>\n      <th>4999</th>\n      <td>0363100012146610</td>\n      <td>1912</td>\n      <td>MULTIPOINT (631845.631 5803207.247, 631843.157...</td>\n      <td>POLYGON ((631845.468 5803210.904, 631845.794 5...</td>\n    </tr>\n  </tbody>\n</table>\n<p>5000 rows × 4 columns</p>\n</div>"
     },
     "execution_count": 24,
     "metadata": {},
     "output_type": "execute_result"
    }
   ],
   "source": [
    "gdf_points = gdf_points[[\"identificatie\", \"bouwjaar\", \"midpoints\", \"geometry\"]]\n",
    "gdf_points"
   ],
   "metadata": {
    "collapsed": false,
    "ExecuteTime": {
     "end_time": "2023-10-17T07:55:41.357025500Z",
     "start_time": "2023-10-17T07:55:41.228883Z"
    }
   }
  },
  {
   "cell_type": "code",
   "execution_count": 25,
   "outputs": [],
   "source": [
    "gdf2 = gdf_points.copy()"
   ],
   "metadata": {
    "collapsed": false,
    "ExecuteTime": {
     "end_time": "2023-10-17T07:55:49.678672400Z",
     "start_time": "2023-10-17T07:55:49.655011200Z"
    }
   }
  },
  {
   "cell_type": "code",
   "execution_count": 27,
   "outputs": [],
   "source": [
    "gdf_points = gdf_points[[\"identificatie\", \"bouwjaar\", \"midpoints\"]].rename(columns={'midpoints': 'geometry'})"
   ],
   "metadata": {
    "collapsed": false,
    "ExecuteTime": {
     "end_time": "2023-10-17T07:56:12.254622200Z",
     "start_time": "2023-10-17T07:56:12.220342100Z"
    }
   }
  },
  {
   "cell_type": "code",
   "execution_count": 28,
   "outputs": [
    {
     "data": {
      "text/plain": "      identificatie  bouwjaar  \\\n0  0363100012061709      2007   \n1  0363100012061225      1923   \n2  0363100012061228      2004   \n3  0363100012062224      1916   \n4  0363100012063200      1965   \n\n                                            geometry  \n0  MULTIPOINT (635515.634 5802340.714, 635515.929...  \n1  MULTIPOINT (628086.502 5808897.184, 628091.310...  \n2  MULTIPOINT (635713.834 5802394.859, 635707.263...  \n3  MULTIPOINT (632084.764 5803318.113, 632078.555...  \n4  MULTIPOINT (628012.834 5798759.299, 628011.519...  ",
      "text/html": "<div>\n<style scoped>\n    .dataframe tbody tr th:only-of-type {\n        vertical-align: middle;\n    }\n\n    .dataframe tbody tr th {\n        vertical-align: top;\n    }\n\n    .dataframe thead th {\n        text-align: right;\n    }\n</style>\n<table border=\"1\" class=\"dataframe\">\n  <thead>\n    <tr style=\"text-align: right;\">\n      <th></th>\n      <th>identificatie</th>\n      <th>bouwjaar</th>\n      <th>geometry</th>\n    </tr>\n  </thead>\n  <tbody>\n    <tr>\n      <th>0</th>\n      <td>0363100012061709</td>\n      <td>2007</td>\n      <td>MULTIPOINT (635515.634 5802340.714, 635515.929...</td>\n    </tr>\n    <tr>\n      <th>1</th>\n      <td>0363100012061225</td>\n      <td>1923</td>\n      <td>MULTIPOINT (628086.502 5808897.184, 628091.310...</td>\n    </tr>\n    <tr>\n      <th>2</th>\n      <td>0363100012061228</td>\n      <td>2004</td>\n      <td>MULTIPOINT (635713.834 5802394.859, 635707.263...</td>\n    </tr>\n    <tr>\n      <th>3</th>\n      <td>0363100012062224</td>\n      <td>1916</td>\n      <td>MULTIPOINT (632084.764 5803318.113, 632078.555...</td>\n    </tr>\n    <tr>\n      <th>4</th>\n      <td>0363100012063200</td>\n      <td>1965</td>\n      <td>MULTIPOINT (628012.834 5798759.299, 628011.519...</td>\n    </tr>\n  </tbody>\n</table>\n</div>"
     },
     "execution_count": 28,
     "metadata": {},
     "output_type": "execute_result"
    }
   ],
   "source": [
    "gdf_points.head()"
   ],
   "metadata": {
    "collapsed": false,
    "ExecuteTime": {
     "end_time": "2023-10-17T07:56:20.094972400Z",
     "start_time": "2023-10-17T07:56:20.020661900Z"
    }
   }
  },
  {
   "cell_type": "code",
   "execution_count": 29,
   "outputs": [
    {
     "name": "stderr",
     "output_type": "stream",
     "text": [
      "C:\\Users\\hncdj\\AppData\\Local\\Temp\\ipykernel_28244\\1247664513.py:2: UserWarning: Column names longer than 10 characters will be truncated when saved to ESRI Shapefile.\n",
      "  gdf_points.to_file(\"../data/output/Ame_gdf_points.shp\", engine='pyogrio', driver='ESRI Shapefile')\n",
      "C:\\Users\\hncdj\\anaconda3\\envs\\dl\\Lib\\site-packages\\pyogrio\\raw.py:456: RuntimeWarning: Normalized/laundered field name: 'identificatie' to 'identifica'\n",
      "  ogr_write(\n"
     ]
    }
   ],
   "source": [
    "# 导出为GeoJSON\n",
    "gdf_points.to_file(\"../data/output/Ame_gdf_points.shp\", engine='pyogrio', driver='ESRI Shapefile')"
   ],
   "metadata": {
    "collapsed": false,
    "ExecuteTime": {
     "end_time": "2023-10-17T07:56:26.876962200Z",
     "start_time": "2023-10-17T07:56:26.744272600Z"
    }
   }
  },
  {
   "cell_type": "markdown",
   "source": [
    "### 4.3 找到距离道路最近的点\n"
   ],
   "metadata": {
    "collapsed": false
   }
  },
  {
   "cell_type": "markdown",
   "source": [
    "我们要利用shapely计算距离，但是我们的road要素是整个地区的线要素，我们需要裁剪到到我们的建筑物的外围。方便计算。\n",
    "\n"
   ],
   "metadata": {
    "collapsed": false
   }
  },
  {
   "cell_type": "code",
   "execution_count": 128,
   "outputs": [
    {
     "data": {
      "text/plain": "   u     v  key                          osmid       highway  oneway reversed  \\\n0  0     1    0  [38297120, 7372610, 38297119]  unclassified   False     True   \n1  0     2    0                        7372614   residential    True    False   \n2  0  3319    0                      562720340   residential    True    False   \n3  1  3321    0                        7372587  unclassified    True    False   \n4  1  3318    0                        7372721   residential    True    False   \n\n    length bridge                                            name  ...  from  \\\n0   42.497    yes  ['Joes Kloppenburgbrug', 'Oude Spiegelstraat']  ...     1   \n1  225.577                                                 Singel  ...     0   \n2  156.694                                                 Singel  ...  3319   \n3   45.001                                     Oude Spiegelstraat  ...     1   \n4  164.154                                                 Singel  ...     1   \n\n     to  lanes  width  ref tunnel access junction est_width  \\\n0     0                                                       \n1     2                                                       \n2     0                                                       \n3  3321                                                       \n4  3318                                                       \n\n                                            geometry  \n0  LINESTRING (628519.029 5803892.976, 628528.888...  \n1  LINESTRING (628561.488 5803889.299, 628579.347...  \n2  LINESTRING (628546.332 5803733.252, 628548.060...  \n3  LINESTRING (628519.029 5803892.976, 628474.052...  \n4  LINESTRING (628519.029 5803892.976, 628510.468...  \n\n[5 rows x 23 columns]",
      "text/html": "<div>\n<style scoped>\n    .dataframe tbody tr th:only-of-type {\n        vertical-align: middle;\n    }\n\n    .dataframe tbody tr th {\n        vertical-align: top;\n    }\n\n    .dataframe thead th {\n        text-align: right;\n    }\n</style>\n<table border=\"1\" class=\"dataframe\">\n  <thead>\n    <tr style=\"text-align: right;\">\n      <th></th>\n      <th>u</th>\n      <th>v</th>\n      <th>key</th>\n      <th>osmid</th>\n      <th>highway</th>\n      <th>oneway</th>\n      <th>reversed</th>\n      <th>length</th>\n      <th>bridge</th>\n      <th>name</th>\n      <th>...</th>\n      <th>from</th>\n      <th>to</th>\n      <th>lanes</th>\n      <th>width</th>\n      <th>ref</th>\n      <th>tunnel</th>\n      <th>access</th>\n      <th>junction</th>\n      <th>est_width</th>\n      <th>geometry</th>\n    </tr>\n  </thead>\n  <tbody>\n    <tr>\n      <th>0</th>\n      <td>0</td>\n      <td>1</td>\n      <td>0</td>\n      <td>[38297120, 7372610, 38297119]</td>\n      <td>unclassified</td>\n      <td>False</td>\n      <td>True</td>\n      <td>42.497</td>\n      <td>yes</td>\n      <td>['Joes Kloppenburgbrug', 'Oude Spiegelstraat']</td>\n      <td>...</td>\n      <td>1</td>\n      <td>0</td>\n      <td></td>\n      <td></td>\n      <td></td>\n      <td></td>\n      <td></td>\n      <td></td>\n      <td></td>\n      <td>LINESTRING (628519.029 5803892.976, 628528.888...</td>\n    </tr>\n    <tr>\n      <th>1</th>\n      <td>0</td>\n      <td>2</td>\n      <td>0</td>\n      <td>7372614</td>\n      <td>residential</td>\n      <td>True</td>\n      <td>False</td>\n      <td>225.577</td>\n      <td></td>\n      <td>Singel</td>\n      <td>...</td>\n      <td>0</td>\n      <td>2</td>\n      <td></td>\n      <td></td>\n      <td></td>\n      <td></td>\n      <td></td>\n      <td></td>\n      <td></td>\n      <td>LINESTRING (628561.488 5803889.299, 628579.347...</td>\n    </tr>\n    <tr>\n      <th>2</th>\n      <td>0</td>\n      <td>3319</td>\n      <td>0</td>\n      <td>562720340</td>\n      <td>residential</td>\n      <td>True</td>\n      <td>False</td>\n      <td>156.694</td>\n      <td></td>\n      <td>Singel</td>\n      <td>...</td>\n      <td>3319</td>\n      <td>0</td>\n      <td></td>\n      <td></td>\n      <td></td>\n      <td></td>\n      <td></td>\n      <td></td>\n      <td></td>\n      <td>LINESTRING (628546.332 5803733.252, 628548.060...</td>\n    </tr>\n    <tr>\n      <th>3</th>\n      <td>1</td>\n      <td>3321</td>\n      <td>0</td>\n      <td>7372587</td>\n      <td>unclassified</td>\n      <td>True</td>\n      <td>False</td>\n      <td>45.001</td>\n      <td></td>\n      <td>Oude Spiegelstraat</td>\n      <td>...</td>\n      <td>1</td>\n      <td>3321</td>\n      <td></td>\n      <td></td>\n      <td></td>\n      <td></td>\n      <td></td>\n      <td></td>\n      <td></td>\n      <td>LINESTRING (628519.029 5803892.976, 628474.052...</td>\n    </tr>\n    <tr>\n      <th>4</th>\n      <td>1</td>\n      <td>3318</td>\n      <td>0</td>\n      <td>7372721</td>\n      <td>residential</td>\n      <td>True</td>\n      <td>False</td>\n      <td>164.154</td>\n      <td></td>\n      <td>Singel</td>\n      <td>...</td>\n      <td>1</td>\n      <td>3318</td>\n      <td></td>\n      <td></td>\n      <td></td>\n      <td></td>\n      <td></td>\n      <td></td>\n      <td></td>\n      <td>LINESTRING (628519.029 5803892.976, 628510.468...</td>\n    </tr>\n  </tbody>\n</table>\n<p>5 rows × 23 columns</p>\n</div>"
     },
     "execution_count": 128,
     "metadata": {},
     "output_type": "execute_result"
    }
   ],
   "source": [
    "# 读取道路\n",
    "road = gpd.read_file(r\"..\\5-ArcgisPro工程\\Amsterdam_road.gpkg\", layer=\"edges\")\n",
    "road.head()"
   ],
   "metadata": {
    "collapsed": false,
    "ExecuteTime": {
     "end_time": "2023-10-17T08:15:22.406682800Z",
     "start_time": "2023-10-17T08:15:16.883207Z"
    }
   }
  },
  {
   "cell_type": "code",
   "execution_count": 129,
   "outputs": [],
   "source": [
    "road = road.to_crs(gdf2.crs)[[\"geometry\"]].dropna()"
   ],
   "metadata": {
    "collapsed": false,
    "ExecuteTime": {
     "end_time": "2023-10-17T08:15:22.478036100Z",
     "start_time": "2023-10-17T08:15:22.405682200Z"
    }
   }
  },
  {
   "cell_type": "code",
   "execution_count": 130,
   "outputs": [
    {
     "data": {
      "text/plain": "                                                geometry\n0      LINESTRING (628519.029 5803892.976, 628528.888...\n1      LINESTRING (628561.488 5803889.299, 628579.347...\n2      LINESTRING (628546.332 5803733.252, 628548.060...\n3      LINESTRING (628519.029 5803892.976, 628474.052...\n4      LINESTRING (628519.029 5803892.976, 628510.468...\n...                                                  ...\n12458  LINESTRING (637324.721 5802798.724, 637323.930...\n12459  LINESTRING (626262.130 5806922.087, 626264.124...\n12460  LINESTRING (626408.706 5806823.259, 626385.637...\n12461  LINESTRING (626262.130 5806922.087, 626264.654...\n12462  LINESTRING (630381.031 5802106.662, 630384.984...\n\n[12463 rows x 1 columns]",
      "text/html": "<div>\n<style scoped>\n    .dataframe tbody tr th:only-of-type {\n        vertical-align: middle;\n    }\n\n    .dataframe tbody tr th {\n        vertical-align: top;\n    }\n\n    .dataframe thead th {\n        text-align: right;\n    }\n</style>\n<table border=\"1\" class=\"dataframe\">\n  <thead>\n    <tr style=\"text-align: right;\">\n      <th></th>\n      <th>geometry</th>\n    </tr>\n  </thead>\n  <tbody>\n    <tr>\n      <th>0</th>\n      <td>LINESTRING (628519.029 5803892.976, 628528.888...</td>\n    </tr>\n    <tr>\n      <th>1</th>\n      <td>LINESTRING (628561.488 5803889.299, 628579.347...</td>\n    </tr>\n    <tr>\n      <th>2</th>\n      <td>LINESTRING (628546.332 5803733.252, 628548.060...</td>\n    </tr>\n    <tr>\n      <th>3</th>\n      <td>LINESTRING (628519.029 5803892.976, 628474.052...</td>\n    </tr>\n    <tr>\n      <th>4</th>\n      <td>LINESTRING (628519.029 5803892.976, 628510.468...</td>\n    </tr>\n    <tr>\n      <th>...</th>\n      <td>...</td>\n    </tr>\n    <tr>\n      <th>12458</th>\n      <td>LINESTRING (637324.721 5802798.724, 637323.930...</td>\n    </tr>\n    <tr>\n      <th>12459</th>\n      <td>LINESTRING (626262.130 5806922.087, 626264.124...</td>\n    </tr>\n    <tr>\n      <th>12460</th>\n      <td>LINESTRING (626408.706 5806823.259, 626385.637...</td>\n    </tr>\n    <tr>\n      <th>12461</th>\n      <td>LINESTRING (626262.130 5806922.087, 626264.654...</td>\n    </tr>\n    <tr>\n      <th>12462</th>\n      <td>LINESTRING (630381.031 5802106.662, 630384.984...</td>\n    </tr>\n  </tbody>\n</table>\n<p>12463 rows × 1 columns</p>\n</div>"
     },
     "execution_count": 130,
     "metadata": {},
     "output_type": "execute_result"
    }
   ],
   "source": [
    "road"
   ],
   "metadata": {
    "collapsed": false,
    "ExecuteTime": {
     "end_time": "2023-10-17T08:15:22.562769400Z",
     "start_time": "2023-10-17T08:15:22.445572900Z"
    }
   }
  },
  {
   "cell_type": "code",
   "execution_count": 216,
   "outputs": [
    {
     "data": {
      "text/plain": "<Axes: >"
     },
     "execution_count": 216,
     "metadata": {},
     "output_type": "execute_result"
    },
    {
     "data": {
      "text/plain": "<Figure size 700x700 with 1 Axes>",
      "image/png": "[encoded data removed]"
     },
     "metadata": {},
     "output_type": "display_data"
    }
   ],
   "source": [
    "# 绘制原始多边形和简化后的多边形\n",
    "import matplotlib.pyplot as plt\n",
    "fig, ax = plt.subplots(figsize=(7, 7))\n",
    "\n",
    "# 绘制原始多边形。我们通过将 'loc' 结果转换为一个新的 GeoDataFrame 来确保 'plot' 方法的可用性。\n",
    "# 'loc' 通常返回一个 Series 或单个值，但我们需要一个 GeoDataFrame 来使用 'plot' 方法。\n",
    "gdf2.loc[[sample]].plot(ax=ax, facecolor='gray') #注意，这里用双括号来确保返回一个 DataFrame\n",
    "# \n",
    "# # 绘制中点\n",
    "# road.plot(ax=ax, color='red', markersize=100)"
   ],
   "metadata": {
    "collapsed": false,
    "ExecuteTime": {
     "end_time": "2023-10-17T10:13:35.727838300Z",
     "start_time": "2023-10-17T10:13:35.536391500Z"
    }
   }
  },
  {
   "cell_type": "code",
   "execution_count": 141,
   "outputs": [
    {
     "data": {
      "text/plain": "<POLYGON ((632171.652 5806205.679, 632179.185 5806199.826, 632172.832 580619...>",
      "image/svg+xml": "<svg xmlns=\"http://www.w3.org/2000/svg\" xmlns:xlink=\"http://www.w3.org/1999/xlink\" width=\"100.0\" height=\"100.0\" viewBox=\"632165.3172319995 5806191.823032 14.400936000514776 14.389636000618339\" preserveAspectRatio=\"xMinYMin meet\"><g transform=\"matrix(1,0,0,-1,0,11612398.0357)\"><path fill-rule=\"evenodd\" fill=\"#66cc99\" stroke=\"#555555\" stroke-width=\"0.2880187200102955\" opacity=\"0.6\" d=\"M 632171.6524,5806205.679300001 L 632179.1847999999,5806199.826300001 L 632172.8324999996,5806192.3564 L 632165.8505999995,5806197.7784 L 632171.6524,5806205.679300001 z\" /></g></svg>"
     },
     "execution_count": 141,
     "metadata": {},
     "output_type": "execute_result"
    }
   ],
   "source": [
    "sample = random.randint(0, len(gdf2))\n",
    "gdf2.loc[sample, \"geometry\"]"
   ],
   "metadata": {
    "collapsed": false,
    "ExecuteTime": {
     "end_time": "2023-10-17T08:17:43.346463700Z",
     "start_time": "2023-10-17T08:17:43.318820300Z"
    }
   }
  },
  {
   "cell_type": "code",
   "execution_count": 156,
   "outputs": [
    {
     "data": {
      "text/plain": "<POLYGON ((632131.351 5806235.273, 632134.503 5806239.144, 632138.025 580624...>",
      "image/svg+xml": "<svg xmlns=\"http://www.w3.org/2000/svg\" xmlns:xlink=\"http://www.w3.org/1999/xlink\" width=\"122.35308694222476\" height=\"122.34756797924638\" viewBox=\"632111.3632266673 5806137.826207664 122.35308694222476 122.34756797924638\" preserveAspectRatio=\"xMinYMin meet\"><g transform=\"matrix(1,0,0,-1,0,11612397.999983307)\"><path fill-rule=\"evenodd\" fill=\"#66cc99\" stroke=\"#555555\" stroke-width=\"2.0\" opacity=\"0.6\" d=\"M 632131.3511481065,5806235.273371972 L 632134.5027606429,5806239.144271174 L 632138.0246291048,5806242.681638097 L 632141.8816524068,5806245.850217189 L 632146.0353891063,5806248.61842846 L 632150.4444405341,5806250.958682233 L 632155.0648633993,5806252.847654112 L 632159.8506077541,5806254.266517454 L 632164.7539759564,5806255.201131002 L 632169.7260980529,5806255.64217983 L 632174.7174188476,5806255.585268175 L 632179.6781917983,5806255.030963256 L 632184.558974821,5806253.98478961 L 632189.3111230605,5806252.457174042 L 632193.887273714,5806250.4633417 L 632198.2418180774,5806248.02316433 L 632202.3313561103,5806245.160962225 L 632209.8637561102,5806239.307962225 L 632213.6858610144,5806236.015756875 L 632217.1567851115,5806232.3551848065 L 632220.241198418,5806228.363506397 L 632222.9077051817,5806224.081352308 L 632225.129163455,5806219.552309904 L 632226.8829613676,5806214.822479585 L 632228.1512472901,5806209.940005543 L 632228.9211115417,5806204.954585701 L 632229.1847177969,5806199.916965856 L 632228.9393828496,5806194.878423138 L 632228.1876039252,5806189.8902440695 L 632226.9370332616,5806185.003202533 L 632225.2004002186,5806180.267042946 L 632222.9953817072,5806175.7299739225 L 632220.3444222601,5806171.438177565 L 632217.2745055713,5806167.435339387 L 632210.922205571,5806159.965439386 L 632207.6636521277,5806156.484533009 L 632204.0883458628,5806153.329843665 L 632200.2288004389,5806150.530059947 L 632196.1201143767,5806148.110642954 L 632191.7996518695,5806146.093594747 L 632187.3067029956,5806144.497258265 L 632182.6821264158,5806143.336150516 L 632177.9679778072,5806142.620830558 L 632173.2071274103,5806142.357803477 L 632168.4428701699,5806142.549461227 L 632163.718532012,5806143.194060883 L 632159.0770758406,5806144.2857404845 L 632154.5607108348,5806145.814572353 L 632150.2105086008,5806147.766653363 L 632146.0660296683,5806150.124231384 L 632142.1649637298,5806152.865866715 L 632135.1830637298,5806158.287866715 L 632131.5210671362,5806161.42618998 L 632128.1784627939,5806164.90272391 L 632125.1863493468,5806168.685123821 L 632122.572564571,5806172.738199333 L 632120.3614263799,5806177.024241781 L 632118.5735065769,5806181.5033750385 L 632117.2254394615,5806186.133926519 L 632116.3297670685,5806190.872814883 L 632115.8948224799,5806195.675950855 L 632115.9246522972,5806200.498647419 L 632116.418978992,5806205.29603557 L 632117.373203489,5806210.02348177 L 632118.7784479535,5806214.637003197 L 632120.6216383892,5806219.0936769545 L 632122.885626274,5806223.352039412 L 632125.549348106,5806227.372471971 L 632131.3511481065,5806235.273371972 z\" /></g></svg>"
     },
     "execution_count": 156,
     "metadata": {},
     "output_type": "execute_result"
    }
   ],
   "source": [
    "# 获取建筑物外轮廓并扩展一定距离\n",
    "gdf2.loc[sample, \"geometry\"].buffer(50)"
   ],
   "metadata": {
    "collapsed": false,
    "ExecuteTime": {
     "end_time": "2023-10-17T08:19:52.238516Z",
     "start_time": "2023-10-17T08:19:52.208881300Z"
    }
   }
  },
  {
   "cell_type": "code",
   "execution_count": 157,
   "outputs": [
    {
     "data": {
      "text/plain": "<Projected CRS: EPSG:32631>\nName: WGS 84 / UTM zone 31N\nAxis Info [cartesian]:\n- E[east]: Easting (metre)\n- N[north]: Northing (metre)\nArea of Use:\n- name: Between 0°E and 6°E, northern hemisphere between equator and 84°N, onshore and offshore. Algeria. Andorra. Belgium. Benin. Burkina Faso. Denmark - North Sea. France. Germany - North Sea. Ghana. Luxembourg. Mali. Netherlands. Niger. Nigeria. Norway. Spain. Togo. United Kingdom (UK) - North Sea.\n- bounds: (0.0, 0.0, 6.0, 84.0)\nCoordinate Operation:\n- name: UTM zone 31N\n- method: Transverse Mercator\nDatum: World Geodetic System 1984 ensemble\n- Ellipsoid: WGS 84\n- Prime Meridian: Greenwich"
     },
     "execution_count": 157,
     "metadata": {},
     "output_type": "execute_result"
    }
   ],
   "source": [
    "gdf2.crs"
   ],
   "metadata": {
    "collapsed": false,
    "ExecuteTime": {
     "end_time": "2023-10-17T08:19:57.854014700Z",
     "start_time": "2023-10-17T08:19:57.809668300Z"
    }
   }
  },
  {
   "cell_type": "code",
   "execution_count": 158,
   "outputs": [
    {
     "name": "stderr",
     "output_type": "stream",
     "text": [
      "C:\\Users\\hncdj\\anaconda3\\envs\\dl\\Lib\\site-packages\\shapely\\set_operations.py:133: RuntimeWarning: invalid value encountered in intersection\n",
      "  return lib.intersection(a, b, **kwargs)\n"
     ]
    }
   ],
   "source": [
    "## 裁剪道路\n",
    "road_clip = road.geometry.intersection(gdf2.loc[sample, \"geometry\"].buffer(50))"
   ],
   "metadata": {
    "collapsed": false,
    "ExecuteTime": {
     "end_time": "2023-10-17T08:19:58.592688100Z",
     "start_time": "2023-10-17T08:19:58.290368100Z"
    }
   }
  },
  {
   "cell_type": "code",
   "execution_count": 159,
   "outputs": [
    {
     "data": {
      "text/plain": "0        LINESTRING Z EMPTY\n1        LINESTRING Z EMPTY\n2        LINESTRING Z EMPTY\n3        LINESTRING Z EMPTY\n4        LINESTRING Z EMPTY\n                ...        \n12458    LINESTRING Z EMPTY\n12459    LINESTRING Z EMPTY\n12460    LINESTRING Z EMPTY\n12461    LINESTRING Z EMPTY\n12462    LINESTRING Z EMPTY\nLength: 12463, dtype: geometry"
     },
     "execution_count": 159,
     "metadata": {},
     "output_type": "execute_result"
    }
   ],
   "source": [
    "road_clip.dropna()"
   ],
   "metadata": {
    "collapsed": false,
    "ExecuteTime": {
     "end_time": "2023-10-17T08:19:58.960227Z",
     "start_time": "2023-10-17T08:19:58.878459800Z"
    }
   }
  },
  {
   "cell_type": "code",
   "execution_count": 160,
   "outputs": [],
   "source": [
    "from shapely.geometry import LineString, GeometryCollection\n",
    "# 准备一个列表来保存非空的几何体\n",
    "non_empty_geoms = []\n",
    "\n",
    "# 遍历原始几何体集合\n",
    "for geom in road_clip.dropna():\n",
    "    # 排除空的LineString\n",
    "    if geom.is_empty and isinstance(geom, LineString):\n",
    "        continue  # 如果是空的LineString，则跳过\n",
    "    else:\n",
    "        non_empty_geoms.append(geom)  # 否则，添加到列表中"
   ],
   "metadata": {
    "collapsed": false,
    "ExecuteTime": {
     "end_time": "2023-10-17T08:19:59.695963900Z",
     "start_time": "2023-10-17T08:19:59.442122800Z"
    }
   }
  },
  {
   "cell_type": "code",
   "execution_count": 161,
   "outputs": [],
   "source": [
    "# 合并几何体\n",
    "road_line = GeometryCollection(non_empty_geoms)"
   ],
   "metadata": {
    "collapsed": false,
    "ExecuteTime": {
     "end_time": "2023-10-17T08:20:00.323849900Z",
     "start_time": "2023-10-17T08:20:00.260898900Z"
    }
   }
  },
  {
   "cell_type": "code",
   "execution_count": 162,
   "outputs": [
    {
     "data": {
      "text/plain": "<GEOMETRYCOLLECTION (LINESTRING (632226.973 5806185.145, 632194.03 5806208.5...>",
      "image/svg+xml": "<svg xmlns=\"http://www.w3.org/2000/svg\" xmlns:xlink=\"http://www.w3.org/1999/xlink\" width=\"100.0\" height=\"100.0\" viewBox=\"632149.4289510564 5806182.162261026 80.52677251060959 72.58305803127587\" preserveAspectRatio=\"xMinYMin meet\"><g transform=\"matrix(1,0,0,-1,0,11612436.907580083)\"><g><polyline fill=\"none\" stroke=\"#66cc99\" stroke-width=\"1.6105354502121918\" points=\"632226.9732505111,5806185.144734082 632194.0297518962,5806208.513003429 632189.816749886,5806211.738631282 632184.9900678364,5806216.517023285 632174.1182652253,5806229.101677921 632168.982670074,5806234.2279267805 632156.8573210422,5806246.333763302 632152.4114241124,5806251.762846001\" opacity=\"0.8\" /></g></g></svg>"
     },
     "execution_count": 162,
     "metadata": {},
     "output_type": "execute_result"
    }
   ],
   "source": [
    "road_line"
   ],
   "metadata": {
    "collapsed": false,
    "ExecuteTime": {
     "end_time": "2023-10-17T08:20:00.694893100Z",
     "start_time": "2023-10-17T08:20:00.623562800Z"
    }
   }
  },
  {
   "cell_type": "code",
   "execution_count": 163,
   "outputs": [
    {
     "data": {
      "text/plain": "<MULTIPOINT (632175.419 5806202.753, 632176.009 5806196.091, 632169.342 5806...>",
      "image/svg+xml": "<svg xmlns=\"http://www.w3.org/2000/svg\" xmlns:xlink=\"http://www.w3.org/1999/xlink\" width=\"100.0\" height=\"100.0\" viewBox=\"632168.4440839997 5806194.759984 7.871982000069693 8.300232001580298\" preserveAspectRatio=\"xMinYMin meet\"><g transform=\"matrix(1,0,0,-1,0,11612397.8202)\"><g><circle cx=\"632175.4186\" cy=\"5806202.752800001\" r=\"0.2490069600474089\" stroke=\"#555555\" stroke-width=\"0.08300232001580297\" fill=\"#66cc99\" opacity=\"0.6\" /><circle cx=\"632176.0086499997\" cy=\"5806196.09135\" r=\"0.2490069600474089\" stroke=\"#555555\" stroke-width=\"0.08300232001580297\" fill=\"#66cc99\" opacity=\"0.6\" /><circle cx=\"632169.3415499995\" cy=\"5806195.0674\" r=\"0.2490069600474089\" stroke=\"#555555\" stroke-width=\"0.08300232001580297\" fill=\"#66cc99\" opacity=\"0.6\" /><circle cx=\"632168.7514999998\" cy=\"5806201.728850001\" r=\"0.2490069600474089\" stroke=\"#555555\" stroke-width=\"0.08300232001580297\" fill=\"#66cc99\" opacity=\"0.6\" /></g></g></svg>"
     },
     "execution_count": 163,
     "metadata": {},
     "output_type": "execute_result"
    }
   ],
   "source": [
    "gdf2.loc[sample, \"midpoints\"]"
   ],
   "metadata": {
    "collapsed": false,
    "ExecuteTime": {
     "end_time": "2023-10-17T08:20:01.253870200Z",
     "start_time": "2023-10-17T08:20:01.176090300Z"
    }
   }
  },
  {
   "cell_type": "code",
   "execution_count": 173,
   "outputs": [
    {
     "name": "stdout",
     "output_type": "stream",
     "text": [
      "最近的中心点是: POINT (632175.4186 5806202.752800001)\n",
      "最短距离是: 16.51552203497222\n",
      "最近的道路点是: POINT (632184.9900678364 5806216.517023285)\n"
     ]
    }
   ],
   "source": [
    "from shapely.geometry import Point\n",
    "from shapely.ops import nearest_points\n",
    "\n",
    "# 初始化变量\n",
    "shortest_distance = float('inf')  # 初始化为无穷大\n",
    "nearest_center_point = None  # 最近的点将存储在这里\n",
    "\n",
    "center_points = gdf2.loc[sample, \"midpoints\"].geoms # 从MultiPoint中获取所有的点\n",
    "\n",
    "for point in center_points:\n",
    "    # 求当前点到道路的最近点（道路上的点）\n",
    "    nearest_road_point = nearest_points(point, road_line)[1]\n",
    "\n",
    "    # 计算距离\n",
    "    distance = point.distance(nearest_road_point)\n",
    "\n",
    "    # 如果当前距离比记录的距离更短，则更新最短距离和最近的中心点\n",
    "    if distance < shortest_distance:\n",
    "        shortest_distance = distance\n",
    "        nearest_center_point = point\n",
    "\n",
    "# 输出结果\n",
    "print(f\"最近的中心点是: {nearest_center_point}\")\n",
    "print(f\"最短距离是: {shortest_distance}\")\n",
    "print(f'最近的道路点是: {nearest_road_point}')\n"
   ],
   "metadata": {
    "collapsed": false,
    "ExecuteTime": {
     "end_time": "2023-10-17T08:34:26.289746600Z",
     "start_time": "2023-10-17T08:34:26.264369500Z"
    }
   }
  },
  {
   "cell_type": "code",
   "execution_count": 174,
   "outputs": [],
   "source": [
    "points = nearest_road_point\n",
    "pointc = nearest_center_point"
   ],
   "metadata": {
    "collapsed": false,
    "ExecuteTime": {
     "end_time": "2023-10-17T08:52:28.156232300Z",
     "start_time": "2023-10-17T08:52:28.105715500Z"
    }
   }
  },
  {
   "cell_type": "markdown",
   "source": [
    "可视化向量相乘"
   ],
   "metadata": {
    "collapsed": false
   }
  },
  {
   "cell_type": "code",
   "execution_count": 214,
   "outputs": [
    {
     "data": {
      "text/plain": "<Figure size 800x800 with 1 Axes>",
      "image/png": "[encoded data removed]"
     },
     "metadata": {},
     "output_type": "display_data"
    }
   ],
   "source": [
    "import numpy as np\n",
    "import matplotlib.pyplot as plt\n",
    "\n",
    "\n",
    "# Define two vectors\n",
    "A = np.array([2, 3])\n",
    "B = np.array([4, 1])\n",
    "\n",
    "# Plot the vectors\n",
    "plt.figure(figsize=(8, 8))\n",
    "plt.quiver(0, 0, A[0], A[1], angles='xy', scale_units='xy', scale=1, color='r', label='Vector A')\n",
    "plt.quiver(0, 0, B[0], B[1], angles='xy', scale_units='xy', scale=1, color='b', label='Vector B')\n",
    "plt.xlim(-1, 5)\n",
    "plt.ylim(-1, 5)\n",
    "plt.axvline(x=0, color='grey', lw=1)\n",
    "plt.axhline(y=0, color='grey', lw=1)\n",
    "plt.grid(True)\n",
    "plt.legend()\n",
    "plt.title('Vector Visualization')\n",
    "plt.show()"
   ],
   "metadata": {
    "collapsed": false,
    "ExecuteTime": {
     "end_time": "2023-10-17T07:33:31.208778300Z",
     "start_time": "2023-10-17T07:33:31.017051700Z"
    }
   }
  },
  {
   "cell_type": "markdown",
   "source": [
    "构建计算角度函数"
   ],
   "metadata": {
    "collapsed": false
   }
  },
  {
   "cell_type": "code",
   "execution_count": 178,
   "outputs": [
    {
     "name": "stdout",
     "output_type": "stream",
     "text": [
      "632184.9900678364 5806216.517023285 632175.4186 5806202.752800001\n"
     ]
    }
   ],
   "source": [
    "import numpy as np\n",
    "\n",
    "\n",
    "def calculate_angle(xs, ys, xc, yc):\n",
    "    # 定义北向量Vn\n",
    "    Vn = np.array([xs, ys + 1])\n",
    "\n",
    "    # 定义从点S到点C的向量Vsc\n",
    "    Vsc = np.array([xc - xs, yc - ys])\n",
    "\n",
    "    # 计算Vn和Vsc的点积\n",
    "    dot_product = np.dot(Vn, Vsc)\n",
    "\n",
    "    # 计算Vn和Vsc的大小（范数）\n",
    "    norm_Vn = np.linalg.norm(Vn)\n",
    "    norm_Vsc = np.linalg.norm(Vsc)\n",
    "\n",
    "    # 计算角度的余弦\n",
    "    cos_theta = dot_product / (norm_Vn * norm_Vsc)\n",
    "\n",
    "    # 以度为单位计算角theta的角度\n",
    "    if (xc - xs) > 0:\n",
    "        theta = np.degrees(np.arccos(cos_theta))  # 如果角在x轴的正半轴\n",
    "    else:\n",
    "        theta = 360 - np.degrees(np.arccos(cos_theta))  # 如果角在x轴的负半轴\n",
    "\n",
    "    return theta\n",
    "\n"
   ],
   "metadata": {
    "collapsed": false,
    "ExecuteTime": {
     "end_time": "2023-10-17T08:54:05.362825200Z",
     "start_time": "2023-10-17T08:54:05.320988400Z"
    }
   }
  },
  {
   "cell_type": "code",
   "execution_count": 179,
   "outputs": [
    {
     "name": "stdout",
     "output_type": "stream",
     "text": [
      "632184.9900678364 5806216.517023285 632175.4186 5806202.752800001\n"
     ]
    }
   ],
   "source": [
    "# 测试一下\n",
    "xs, ys = points.x, points.y \n",
    "xc, yc =  pointc.x, pointc.y  \n",
    "print(xs, ys, xc, yc)"
   ],
   "metadata": {
    "collapsed": false,
    "ExecuteTime": {
     "end_time": "2023-10-17T08:54:17.161732500Z",
     "start_time": "2023-10-17T08:54:17.126748900Z"
    }
   }
  },
  {
   "cell_type": "code",
   "execution_count": 180,
   "outputs": [
    {
     "data": {
      "text/plain": "208.60033988006262"
     },
     "execution_count": 180,
     "metadata": {},
     "output_type": "execute_result"
    }
   ],
   "source": [
    "calculate_angle(xs, ys, xc, yc)"
   ],
   "metadata": {
    "collapsed": false,
    "ExecuteTime": {
     "end_time": "2023-10-17T08:54:19.529311600Z",
     "start_time": "2023-10-17T08:54:19.504697600Z"
    }
   }
  },
  {
   "cell_type": "code",
   "execution_count": 211,
   "outputs": [
    {
     "data": {
      "text/plain": "<Figure size 640x480 with 1 Axes>",
      "image/png": "[encoded data removed]"
     },
     "metadata": {},
     "output_type": "display_data"
    }
   ],
   "source": [
    "# 和实际结果验证一下绘制结果\n",
    "import matplotlib.pyplot as plt\n",
    "\n",
    "# 创建一个图来绘制\n",
    "fig, ax = plt.subplots()\n",
    "\n",
    "# 绘制四个中心点\n",
    "gdf2.loc[[sample], \"midpoints\"].plot(ax=ax)\n",
    "\n",
    "# 绘制建筑物\n",
    "gdf2.loc[[sample], \"geometry\"].plot(ax=ax, facecolor='gray', alpha=0.5)\n",
    "\n",
    "# 绘制箭头\n",
    "ax.quiver(xs, ys, xc - xs, yc - ys, angles='xy', scale_units='xy', scale=1, color='red')\n",
    "# 绘制中心点\n",
    "ax.plot(pointc.x, pointc.y, marker='o', color='red', markersize=5)\n",
    "# 绘制道路上的点\n",
    "ax.plot(points.x, points.y, marker='o', color='green', markersize=5)\n",
    "\n",
    "\n",
    "# 设置额外的图形属性，如标题和标签（如果需要）\n",
    "ax.set_title(f'id:{gdf2.loc[sample, \"identificatie\"]}  Location')\n",
    "ax.set_xlabel('Longitude')\n",
    "ax.set_ylabel('Latitude')\n",
    "\n",
    "# 显示图形\n",
    "plt.show()"
   ],
   "metadata": {
    "collapsed": false,
    "ExecuteTime": {
     "end_time": "2023-10-17T10:09:35.883340700Z",
     "start_time": "2023-10-17T10:09:35.696264300Z"
    }
   }
  },
  {
   "cell_type": "code",
   "execution_count": 203,
   "outputs": [
    {
     "data": {
      "text/plain": "shapely.geometry.polygon.Polygon"
     },
     "execution_count": 203,
     "metadata": {},
     "output_type": "execute_result"
    }
   ],
   "source": [
    "type(gdf2.loc[sample, \"geometry\"])"
   ],
   "metadata": {
    "collapsed": false,
    "ExecuteTime": {
     "end_time": "2023-10-17T09:15:27.494983100Z",
     "start_time": "2023-10-17T09:15:27.462241300Z"
    }
   }
  },
  {
   "cell_type": "code",
   "execution_count": 198,
   "outputs": [
    {
     "data": {
      "text/plain": "'0363100012153207'"
     },
     "execution_count": 198,
     "metadata": {},
     "output_type": "execute_result"
    }
   ],
   "source": [
    "gdf2.loc[sample, \"identificatie\"]"
   ],
   "metadata": {
    "collapsed": false,
    "ExecuteTime": {
     "end_time": "2023-10-17T09:11:45.319241900Z",
     "start_time": "2023-10-17T09:11:45.296800100Z"
    }
   }
  },
  {
   "cell_type": "markdown",
   "source": [
    "### 整合上述代码"
   ],
   "metadata": {
    "collapsed": false
   }
  },
  {
   "cell_type": "code",
   "execution_count": 92,
   "outputs": [
    {
     "name": "stderr",
     "output_type": "stream",
     "text": [
      "C:\\Users\\hncdj\\anaconda3\\envs\\dl\\Lib\\site-packages\\shapely\\set_operations.py:133: RuntimeWarning: invalid value encountered in intersection\n",
      "  return lib.intersection(a, b, **kwargs)\n",
      "C:\\Users\\hncdj\\anaconda3\\envs\\dl\\Lib\\site-packages\\shapely\\set_operations.py:133: RuntimeWarning: invalid value encountered in intersection\n",
      "  return lib.intersection(a, b, **kwargs)\n",
      "C:\\Users\\hncdj\\anaconda3\\envs\\dl\\Lib\\site-packages\\shapely\\set_operations.py:133: RuntimeWarning: invalid value encountered in intersection\n",
      "  return lib.intersection(a, b, **kwargs)\n",
      "C:\\Users\\hncdj\\anaconda3\\envs\\dl\\Lib\\site-packages\\shapely\\set_operations.py:133: RuntimeWarning: invalid value encountered in intersection\n",
      "  return lib.intersection(a, b, **kwargs)\n",
      "C:\\Users\\hncdj\\anaconda3\\envs\\dl\\Lib\\site-packages\\shapely\\set_operations.py:133: RuntimeWarning: invalid value encountered in intersection\n",
      "  return lib.intersection(a, b, **kwargs)\n",
      "C:\\Users\\hncdj\\anaconda3\\envs\\dl\\Lib\\site-packages\\shapely\\set_operations.py:133: RuntimeWarning: invalid value encountered in intersection\n",
      "  return lib.intersection(a, b, **kwargs)\n",
      "C:\\Users\\hncdj\\anaconda3\\envs\\dl\\Lib\\site-packages\\shapely\\set_operations.py:133: RuntimeWarning: invalid value encountered in intersection\n",
      "  return lib.intersection(a, b, **kwargs)\n",
      "C:\\Users\\hncdj\\anaconda3\\envs\\dl\\Lib\\site-packages\\shapely\\set_operations.py:133: RuntimeWarning: invalid value encountered in intersection\n",
      "  return lib.intersection(a, b, **kwargs)\n",
      "C:\\Users\\hncdj\\anaconda3\\envs\\dl\\Lib\\site-packages\\shapely\\set_operations.py:133: RuntimeWarning: invalid value encountered in intersection\n",
      "  return lib.intersection(a, b, **kwargs)\n",
      "C:\\Users\\hncdj\\anaconda3\\envs\\dl\\Lib\\site-packages\\shapely\\set_operations.py:133: RuntimeWarning: invalid value encountered in intersection\n",
      "  return lib.intersection(a, b, **kwargs)\n"
     ]
    },
    {
     "name": "stdout",
     "output_type": "stream",
     "text": [
      "总共耗时：7.028773546218872s\n"
     ]
    }
   ],
   "source": [
    "import geopandas as gpd\n",
    "import time\n",
    "import numpy as np\n",
    "from shapely.geometry import Point, MultiPoint, Polygon, MultiPolygon, LineString, GeometryCollection\n",
    "from shapely.ops import nearest_points\n",
    "import pandas as pd\n",
    "# 定义计算多边形每条边中点的函数\n",
    "def calculate_midpoints(geometry):\n",
    "    \"\"\"根据输入的几何形状（Polygon或MultiPolygon），计算所有边的中点。\"\"\"\n",
    "    midpoints = []\n",
    "\n",
    "    if isinstance(geometry, Polygon):\n",
    "        polygons = [geometry]\n",
    "    elif isinstance(geometry, MultiPolygon):\n",
    "        polygons = list(geometry.geoms)\n",
    "\n",
    "    for polygon in polygons:\n",
    "        coords = list(polygon.exterior.coords)\n",
    "        midpoints.extend(Point((coords[i][0] + coords[i+1][0])/2, (coords[i][1] + coords[i+1][1])/2) for i in range(len(coords)-1))\n",
    "\n",
    "    return MultiPoint(midpoints)\n",
    "\n",
    "# 从文件中读取和处理道路数据\n",
    "def read_road(road_gdf, building_polygon, buffer):\n",
    "    \"\"\"读取道路数据，只保留距离指定建筑物一定距离范围内的部分。\"\"\"\n",
    "    buffered_poly = building_polygon.buffer(buffer)\n",
    "    road_clip = road_gdf.geometry.intersection(buffered_poly)\n",
    "\n",
    "    # 过滤掉空的几何形状\n",
    "    road_nearby = GeometryCollection([geom for geom in road_clip if not geom.is_empty])\n",
    "    \n",
    "    return road_nearby if not road_nearby.is_empty else None\n",
    "\n",
    "# 查找最近点和计算角度\n",
    "def process_geometry_and_calculate_angle(row, road_gdf, buffer_distance):\n",
    "    building_polygon = row['geometry']\n",
    "    midpoints = row['midpoints']  # 这里假设你已经有了一个 'midpoints' 列\n",
    "\n",
    "    road_nearby = read_road(road_gdf, building_polygon, buffer_distance)\n",
    "\n",
    "    if road_nearby is None:\n",
    "        return None  # 或者其他适当的处理\n",
    "\n",
    "    nearest_center_point, nearest_road_point, shortest_distance = None, None, float('inf')\n",
    "\n",
    "    for point in midpoints.geoms:\n",
    "        current_nearest_road_point = nearest_points(point, road_nearby)[1]\n",
    "        distance = point.distance(current_nearest_road_point)\n",
    "\n",
    "        if distance < shortest_distance:\n",
    "            shortest_distance, nearest_center_point, nearest_road_point = distance, point, current_nearest_road_point\n",
    "\n",
    "    # if shortest_distance > 20:\n",
    "    #     print(\"距离太远，不予考虑\")\n",
    "    #     return None  # 或者其他适当的处理\n",
    "\n",
    "    # 计算角度\n",
    "    angle = calculate_angle(nearest_road_point.x, nearest_road_point.y, nearest_center_point.x, nearest_center_point.y)\n",
    "    return {'nearest_point': nearest_center_point, 'angle': angle}  # 根据需要返回相关信息\n",
    "\n",
    "def calculate_angle(xs, ys, xc, yc):\n",
    "    \"\"\"计算两点之间的角度，相对于正北方向。\"\"\"\n",
    "    Vn = np.array([0, 1])  # 北向量\n",
    "    Vsc = np.array([xc - xs, yc - ys])\n",
    "    cos_theta = np.dot(Vn, Vsc) / (np.linalg.norm(Vn) * np.linalg.norm(Vsc))\n",
    "    angle = np.degrees(np.arccos(cos_theta))\n",
    "\n",
    "    # 调整角度为顺时针方向\n",
    "    return angle if (xc - xs) >= 0 else 360 - angle\n",
    "\n",
    "# 使用示例\n",
    "time1=time.time()\n",
    "path = r\"..\\5-ArcgisPro工程\\Amsterdam_road.gpkg\"\n",
    "crs = \"EPSG:32631\"\n",
    "buffer_distance = 20\n",
    "\n",
    "# 读取建筑\n",
    "gdb = \"..\\\\5-ArcgisPro工程\\\\建筑风格和年代深度学习.gdb\"\n",
    "gdf = gpd.read_file(gdb, layer='Amsterdam_buildings_Project', rows=10) \n",
    "gdf['midpoints'] = gdf.geometry.apply(calculate_midpoints)\n",
    "\n",
    "# 读取道路\n",
    "road_gdf = gpd.read_file(path, layer=\"edges\").to_crs(crs)[[\"geometry\"]].dropna()\n",
    "\n",
    "# 修复无效的几何形状\n",
    "gdf['geometry'] = gdf['geometry'].apply(lambda geom: geom if geom.is_valid else geom.buffer(0))\n",
    "road_gdf['geometry'] = road_gdf['geometry'].apply(lambda geom: geom if geom.is_valid else geom.buffer(0))\n",
    "\n",
    "\n",
    "# 为了对每个建筑进行处理，我们将 apply 用于 GeoDataFrame 的每一行。\n",
    "results = gdf.apply(process_geometry_and_calculate_angle, axis=1, road_gdf=road_gdf, buffer_distance=buffer_distance)\n",
    "\n",
    "results_df = results.apply(pd.Series)\n",
    "gdf = pd.concat([gdf, results_df], axis=1)\n",
    "\n",
    "time2=time.time()\n",
    "print('总共耗时：' + str(time2 - time1) + 's')"
   ],
   "metadata": {
    "collapsed": false,
    "ExecuteTime": {
     "end_time": "2023-10-17T14:28:35.267244600Z",
     "start_time": "2023-10-17T14:28:28.229225800Z"
    }
   }
  },
  {
   "cell_type": "code",
   "execution_count": 123,
   "outputs": [],
   "source": [
    "results = gdf.copy()"
   ],
   "metadata": {
    "collapsed": false,
    "ExecuteTime": {
     "end_time": "2023-10-17T14:34:23.565903800Z",
     "start_time": "2023-10-17T14:34:23.529532300Z"
    }
   }
  },
  {
   "cell_type": "code",
   "execution_count": 124,
   "outputs": [],
   "source": [
    "# 处理一下数据 我们后一步生成url只需要'identificatie', 'bouwjaar', 'lat', 'lng', 'angle'\n",
    "# 从'nearest_point'中提取纬度'lat'和经度'lng'\n",
    "results = results.dropna(subset=['nearest_point'])"
   ],
   "metadata": {
    "collapsed": false,
    "ExecuteTime": {
     "end_time": "2023-10-17T14:34:23.949461700Z",
     "start_time": "2023-10-17T14:34:23.904648300Z"
    }
   }
  },
  {
   "cell_type": "code",
   "execution_count": 125,
   "outputs": [
    {
     "data": {
      "text/plain": "      identificatie  bouwjaar       angle                        geometry\n1  0363100012061225      1923   37.022415  POINT (628086.000 5808891.976)\n2  0363100012061228      2004  219.255104  POINT (635715.801 5802401.949)\n3  0363100012062224      1916   87.926628  POINT (632072.166 5803318.911)\n4  0363100012063200      1965  356.703373  POINT (628011.519 5798755.970)\n5  0363100012062226      2000   70.847657  POINT (624099.948 5808547.137)",
      "text/html": "<div>\n<style scoped>\n    .dataframe tbody tr th:only-of-type {\n        vertical-align: middle;\n    }\n\n    .dataframe tbody tr th {\n        vertical-align: top;\n    }\n\n    .dataframe thead th {\n        text-align: right;\n    }\n</style>\n<table border=\"1\" class=\"dataframe\">\n  <thead>\n    <tr style=\"text-align: right;\">\n      <th></th>\n      <th>identificatie</th>\n      <th>bouwjaar</th>\n      <th>angle</th>\n      <th>geometry</th>\n    </tr>\n  </thead>\n  <tbody>\n    <tr>\n      <th>1</th>\n      <td>0363100012061225</td>\n      <td>1923</td>\n      <td>37.022415</td>\n      <td>POINT (628086.000 5808891.976)</td>\n    </tr>\n    <tr>\n      <th>2</th>\n      <td>0363100012061228</td>\n      <td>2004</td>\n      <td>219.255104</td>\n      <td>POINT (635715.801 5802401.949)</td>\n    </tr>\n    <tr>\n      <th>3</th>\n      <td>0363100012062224</td>\n      <td>1916</td>\n      <td>87.926628</td>\n      <td>POINT (632072.166 5803318.911)</td>\n    </tr>\n    <tr>\n      <th>4</th>\n      <td>0363100012063200</td>\n      <td>1965</td>\n      <td>356.703373</td>\n      <td>POINT (628011.519 5798755.970)</td>\n    </tr>\n    <tr>\n      <th>5</th>\n      <td>0363100012062226</td>\n      <td>2000</td>\n      <td>70.847657</td>\n      <td>POINT (624099.948 5808547.137)</td>\n    </tr>\n  </tbody>\n</table>\n</div>"
     },
     "execution_count": 125,
     "metadata": {},
     "output_type": "execute_result"
    }
   ],
   "source": [
    "results = results[['identificatie', 'bouwjaar', 'angle', 'nearest_point']].rename(columns={'nearest_point': 'geometry'}).set_geometry('geometry')\n",
    "results.head()"
   ],
   "metadata": {
    "collapsed": false,
    "ExecuteTime": {
     "end_time": "2023-10-17T14:34:24.291824Z",
     "start_time": "2023-10-17T14:34:24.231682700Z"
    }
   }
  },
  {
   "cell_type": "code",
   "execution_count": 126,
   "outputs": [],
   "source": [
    "results.crs = \"EPSG:32631\""
   ],
   "metadata": {
    "collapsed": false,
    "ExecuteTime": {
     "end_time": "2023-10-17T14:34:24.718080400Z",
     "start_time": "2023-10-17T14:34:24.665947200Z"
    }
   }
  },
  {
   "cell_type": "code",
   "execution_count": 127,
   "outputs": [
    {
     "data": {
      "text/plain": "<Geographic 2D CRS: EPSG:4326>\nName: WGS 84\nAxis Info [ellipsoidal]:\n- Lat[north]: Geodetic latitude (degree)\n- Lon[east]: Geodetic longitude (degree)\nArea of Use:\n- name: World.\n- bounds: (-180.0, -90.0, 180.0, 90.0)\nDatum: World Geodetic System 1984 ensemble\n- Ellipsoid: WGS 84\n- Prime Meridian: Greenwich"
     },
     "execution_count": 127,
     "metadata": {},
     "output_type": "execute_result"
    }
   ],
   "source": [
    "results = results.to_crs(epsg=4326)\n",
    "results.crs"
   ],
   "metadata": {
    "collapsed": false,
    "ExecuteTime": {
     "end_time": "2023-10-17T14:34:25.288278900Z",
     "start_time": "2023-10-17T14:34:25.217073400Z"
    }
   }
  },
  {
   "cell_type": "code",
   "execution_count": 128,
   "outputs": [],
   "source": [
    "results['lat'] = results.apply(lambda row: row['geometry'].y if pd.notnull(row['geometry']) else None, axis=1)\n",
    "results['lng'] = results.apply(lambda row: row['geometry'].x if pd.notnull(row['geometry']) else None, axis=1)"
   ],
   "metadata": {
    "collapsed": false,
    "ExecuteTime": {
     "end_time": "2023-10-17T14:34:25.791903600Z",
     "start_time": "2023-10-17T14:34:25.753307800Z"
    }
   }
  },
  {
   "cell_type": "code",
   "execution_count": 129,
   "outputs": [
    {
     "data": {
      "text/plain": "      identificatie  bouwjaar       angle                  geometry  \\\n1  0363100012061225      1923   37.022415  POINT (4.88333 52.41524)   \n2  0363100012061228      2004  219.255104  POINT (4.99281 52.35508)   \n3  0363100012062224      1916   87.926628  POINT (4.93971 52.36421)   \n4  0363100012063200      1965  356.703373  POINT (4.87837 52.32418)   \n5  0363100012062226      2000   70.847657  POINT (4.82462 52.41306)   \n\n         lat       lng  \n1  52.415235  4.883329  \n2  52.355083  4.992815  \n3  52.364212  4.939707  \n4  52.324175  4.878366  \n5  52.413056  4.824624  ",
      "text/html": "<div>\n<style scoped>\n    .dataframe tbody tr th:only-of-type {\n        vertical-align: middle;\n    }\n\n    .dataframe tbody tr th {\n        vertical-align: top;\n    }\n\n    .dataframe thead th {\n        text-align: right;\n    }\n</style>\n<table border=\"1\" class=\"dataframe\">\n  <thead>\n    <tr style=\"text-align: right;\">\n      <th></th>\n      <th>identificatie</th>\n      <th>bouwjaar</th>\n      <th>angle</th>\n      <th>geometry</th>\n      <th>lat</th>\n      <th>lng</th>\n    </tr>\n  </thead>\n  <tbody>\n    <tr>\n      <th>1</th>\n      <td>0363100012061225</td>\n      <td>1923</td>\n      <td>37.022415</td>\n      <td>POINT (4.88333 52.41524)</td>\n      <td>52.415235</td>\n      <td>4.883329</td>\n    </tr>\n    <tr>\n      <th>2</th>\n      <td>0363100012061228</td>\n      <td>2004</td>\n      <td>219.255104</td>\n      <td>POINT (4.99281 52.35508)</td>\n      <td>52.355083</td>\n      <td>4.992815</td>\n    </tr>\n    <tr>\n      <th>3</th>\n      <td>0363100012062224</td>\n      <td>1916</td>\n      <td>87.926628</td>\n      <td>POINT (4.93971 52.36421)</td>\n      <td>52.364212</td>\n      <td>4.939707</td>\n    </tr>\n    <tr>\n      <th>4</th>\n      <td>0363100012063200</td>\n      <td>1965</td>\n      <td>356.703373</td>\n      <td>POINT (4.87837 52.32418)</td>\n      <td>52.324175</td>\n      <td>4.878366</td>\n    </tr>\n    <tr>\n      <th>5</th>\n      <td>0363100012062226</td>\n      <td>2000</td>\n      <td>70.847657</td>\n      <td>POINT (4.82462 52.41306)</td>\n      <td>52.413056</td>\n      <td>4.824624</td>\n    </tr>\n  </tbody>\n</table>\n</div>"
     },
     "execution_count": 129,
     "metadata": {},
     "output_type": "execute_result"
    }
   ],
   "source": [
    "# 为了后续处理进行坐标转换\n",
    "results.head()"
   ],
   "metadata": {
    "collapsed": false,
    "ExecuteTime": {
     "end_time": "2023-10-17T14:34:26.386641300Z",
     "start_time": "2023-10-17T14:34:26.285815600Z"
    }
   }
  },
  {
   "cell_type": "code",
   "execution_count": 130,
   "outputs": [
    {
     "data": {
      "text/plain": "      identificatie  bouwjaar        lat       lng       angle\n1  0363100012061225      1923  52.415235  4.883329   37.022415\n2  0363100012061228      2004  52.355083  4.992815  219.255104\n3  0363100012062224      1916  52.364212  4.939707   87.926628\n4  0363100012063200      1965  52.324175  4.878366  356.703373\n5  0363100012062226      2000  52.413056  4.824624   70.847657",
      "text/html": "<div>\n<style scoped>\n    .dataframe tbody tr th:only-of-type {\n        vertical-align: middle;\n    }\n\n    .dataframe tbody tr th {\n        vertical-align: top;\n    }\n\n    .dataframe thead th {\n        text-align: right;\n    }\n</style>\n<table border=\"1\" class=\"dataframe\">\n  <thead>\n    <tr style=\"text-align: right;\">\n      <th></th>\n      <th>identificatie</th>\n      <th>bouwjaar</th>\n      <th>lat</th>\n      <th>lng</th>\n      <th>angle</th>\n    </tr>\n  </thead>\n  <tbody>\n    <tr>\n      <th>1</th>\n      <td>0363100012061225</td>\n      <td>1923</td>\n      <td>52.415235</td>\n      <td>4.883329</td>\n      <td>37.022415</td>\n    </tr>\n    <tr>\n      <th>2</th>\n      <td>0363100012061228</td>\n      <td>2004</td>\n      <td>52.355083</td>\n      <td>4.992815</td>\n      <td>219.255104</td>\n    </tr>\n    <tr>\n      <th>3</th>\n      <td>0363100012062224</td>\n      <td>1916</td>\n      <td>52.364212</td>\n      <td>4.939707</td>\n      <td>87.926628</td>\n    </tr>\n    <tr>\n      <th>4</th>\n      <td>0363100012063200</td>\n      <td>1965</td>\n      <td>52.324175</td>\n      <td>4.878366</td>\n      <td>356.703373</td>\n    </tr>\n    <tr>\n      <th>5</th>\n      <td>0363100012062226</td>\n      <td>2000</td>\n      <td>52.413056</td>\n      <td>4.824624</td>\n      <td>70.847657</td>\n    </tr>\n  </tbody>\n</table>\n</div>"
     },
     "execution_count": 130,
     "metadata": {},
     "output_type": "execute_result"
    }
   ],
   "source": [
    "results[['identificatie', 'bouwjaar', 'lat', 'lng', 'angle']].head()"
   ],
   "metadata": {
    "collapsed": false,
    "ExecuteTime": {
     "end_time": "2023-10-17T14:34:32.604726500Z",
     "start_time": "2023-10-17T14:34:32.538633600Z"
    }
   }
  },
  {
   "cell_type": "code",
   "execution_count": 133,
   "outputs": [],
   "source": [
    "# 保存为csv\n",
    "results[['identificatie', 'bouwjaar', 'lat', 'lng', 'angle']].to_csv(\"../data/output/Amsterdam_buildings_Project_use_geopandas.csv\", index=False, header=True)"
   ],
   "metadata": {
    "collapsed": false,
    "ExecuteTime": {
     "end_time": "2023-10-17T14:35:16.200349200Z",
     "start_time": "2023-10-17T14:35:16.140947400Z"
    }
   }
  },
  {
   "cell_type": "markdown",
   "source": [
    "## 5.使用ArcgisPro处理建筑并获取中心点"
   ],
   "metadata": {
    "collapsed": false
   }
  },
  {
   "cell_type": "markdown",
   "source": [
    "## 分步骤解释："
   ],
   "metadata": {
    "collapsed": false
   }
  },
  {
   "cell_type": "markdown",
   "source": [
    "### 1.简化建筑物\n",
    "https://pro.arcgis.com/zh-cn/pro-app/3.0/tool-reference/cartography/simplify-building.htm\n",
    "\n",
    "![示意图](https://image-1315363329.cos.ap-shanghai.myqcloud.com/lessons/202310170935112.png)\n",
    "\n",
    "代码：'arcpy.cartography.SimplifyBuilding(in_features, out_feature_class, simplification_tolerance, {minimum_area}, {conflict_option}, {in_barriers}, {collapsed_point_option})'"
   ],
   "metadata": {
    "collapsed": false
   }
  },
  {
   "cell_type": "code",
   "execution_count": 44,
   "outputs": [
    {
     "data": {
      "text/html": [
       "<div class='gpresult'><h2>Messages</h2><div id='messages' data-messages='[\"开始时间: 2023年10月17日 23:44:09\",\"运行 成功，结束时间： 2023年10月17日 23:44:09 (历时: 0.55 秒)\"]' data-show='true'><div id = 'default' /></div></div>"
      ],
      "text/plain": [
       "<Result 'C:\\\\Users\\\\hncdj\\\\Documents\\\\Python_\\\\Python辅助城市研究\\\\建筑风格和年代机器学习\\\\5-ArcgisPro工程\\\\建筑风格和年代深度学习.gdb\\\\single_building_SimplifyBuild'>"
      ]
     },
     "execution_count": 44,
     "metadata": {},
     "output_type": "execute_result"
    }
   ],
   "source": [
    "import arcpy\n",
    "arcpy.cartography.SimplifyBuilding(\"Amsterdam_buil_0363100012061237\", \n",
    "                                   \"single_building_SimplifyBuild\", \n",
    "                                   \"3 Meters\", None, \"NO_CHECK\", None, \"NO_KEEP\")"
   ],
   "metadata": {
    "collapsed": false
   }
  },
  {
   "cell_type": "markdown",
   "source": [
    "### 2.获取建筑物的边上的中点"
   ],
   "metadata": {
    "collapsed": false
   }
  },
  {
   "cell_type": "code",
   "execution_count": 45,
   "outputs": [],
   "source": [
    "import arcpy\n",
    "\n",
    "# 输入的多边形要素类\n",
    "input_polygon_feature_class = \"single_building_SimplifyBuild\" # \"single_building\" # \"Amsterdam_buildings_Project\"\n"
   ],
   "metadata": {
    "collapsed": false
   }
  },
  {
   "cell_type": "code",
   "execution_count": 46,
   "outputs": [
    {
     "name": "stdout",
     "output_type": "stream",
     "text": [
      "626666.8219000003 5799563.76475\n",
      "626661.8779500001 5799559.9069\n",
      "626656.6625000001 5799565.5102\n",
      "626663.25 5799571.4521\n",
      "626670.24835 5799569.61565\n",
      "626668.6048000003 5799567.5316\n"
     ]
    }
   ],
   "source": [
    "# 定义SpatialReference对象，这里以WGS 1984坐标系为例\n",
    "sr = arcpy.SpatialReference(32631)\n",
    "\n",
    "# 使用SearchCursor遍历多边形\n",
    "with arcpy.da.SearchCursor(input_polygon_feature_class, [\"identificatie\", \"SHAPE@\"]) as cursor:\n",
    "    for row in cursor:\n",
    "\n",
    "        polygon_id = row[0] # 建筑的id\n",
    "        polygon = row[1]\n",
    "        \n",
    "        \n",
    "        # 创建一个Array\n",
    "        point_array = arcpy.Array()\n",
    "        \n",
    "        # 遍历多边形的每一段，计算并存储中心点\n",
    "        # 遍历poly中所有的多边形，part为每个单独的多边形\n",
    "        for part in polygon: \n",
    "            # 遍历每个边\n",
    "            for i in range(len(part) - 1):\n",
    "                start_point = part[i]\n",
    "                end_point = part[i + 1]\n",
    "                mid_x = (start_point.X + end_point.X) / 2\n",
    "                mid_y = (start_point.Y + end_point.Y) / 2\n",
    "                print(mid_x, mid_y)\n",
    "                \n",
    "                # 创建arcpy的点\n",
    "                midpoint = arcpy.Point(mid_x, mid_y)\n",
    "                \n",
    "                # 添加到Array\n",
    "                point_array.add(midpoint)\n",
    "                \n",
    "            # 使用Array创建Multipoint对象\n",
    "            multipoint = arcpy.Multipoint(point_array, sr)\n"
   ],
   "metadata": {
    "collapsed": false
   }
  },
  {
   "cell_type": "code",
   "execution_count": 47,
   "outputs": [
    {
     "data": {
      "image/svg+xml": [
       "<svg xmlns=\"http://www.w3.org/2000/svg\" xmlns:xlink=\"http://www.w3.org/1999/xlink\" width=\"100.0\" height=\"100.0\" viewBox=\"626656.1190660001 5799559.363466 14.67271799989976 12.63206799980253\" preserveAspectRatio=\"xMinYMin meet\"><g transform=\"matrix(1,0,0,-1,0,11599131.359000001)\"><g><circle cx=\"626666.8219000003\" cy=\"5799563.76475\" r=\"0.4401815399969928\" stroke=\"#555555\" stroke-width=\"0.1467271799989976\" fill=\"#66cc99\" opacity=\"0.6\" /><circle cx=\"626661.8779500001\" cy=\"5799559.9069\" r=\"0.4401815399969928\" stroke=\"#555555\" stroke-width=\"0.1467271799989976\" fill=\"#66cc99\" opacity=\"0.6\" /><circle cx=\"626656.6625000001\" cy=\"5799565.5102\" r=\"0.4401815399969928\" stroke=\"#555555\" stroke-width=\"0.1467271799989976\" fill=\"#66cc99\" opacity=\"0.6\" /><circle cx=\"626663.25\" cy=\"5799571.4521\" r=\"0.4401815399969928\" stroke=\"#555555\" stroke-width=\"0.1467271799989976\" fill=\"#66cc99\" opacity=\"0.6\" /><circle cx=\"626670.24835\" cy=\"5799569.61565\" r=\"0.4401815399969928\" stroke=\"#555555\" stroke-width=\"0.1467271799989976\" fill=\"#66cc99\" opacity=\"0.6\" /><circle cx=\"626668.6048000003\" cy=\"5799567.5316\" r=\"0.4401815399969928\" stroke=\"#555555\" stroke-width=\"0.1467271799989976\" fill=\"#66cc99\" opacity=\"0.6\" /></g></g></svg>"
      ],
      "text/plain": [
       "<Multipoint object at 0x20ef83dd5b0[0x20ef83dd6f0]>"
      ]
     },
     "execution_count": 47,
     "metadata": {},
     "output_type": "execute_result"
    }
   ],
   "source": [
    "multipoint"
   ],
   "metadata": {
    "collapsed": false
   }
  },
  {
   "cell_type": "code",
   "execution_count": 48,
   "outputs": [
    {
     "data": {
      "text/html": [
       "<div class='gpresult'><h2>Messages</h2><div id='messages' data-messages='[\"开始时间: 2023年10月17日 23:44:11\",\"运行 成功，结束时间： 2023年10月17日 23:44:12 (历时: 0.43 秒)\"]' data-show='true'><div id = 'default' /></div></div>"
      ],
      "text/plain": [
       "<Result 'C:\\\\Users\\\\hncdj\\\\Documents\\\\Python_\\\\Python辅助城市研究\\\\建筑风格和年代机器学习\\\\5-ArcgisPro工程\\\\建筑风格和年代深度学习.gdb\\\\multipoint'>"
      ]
     },
     "execution_count": 48,
     "metadata": {},
     "output_type": "execute_result"
    }
   ],
   "source": [
    "# 保存Multipoint对象\n",
    "arcpy.CopyFeatures_management(multipoint, \"multipoint\")"
   ],
   "metadata": {
    "collapsed": false
   }
  },
  {
   "cell_type": "markdown",
   "source": [
    "### 3.从每个点找到距离周围道路最近的点Point C，以及Point S，heading值"
   ],
   "metadata": {
    "collapsed": false
   }
  },
  {
   "cell_type": "code",
   "execution_count": 49,
   "outputs": [
    {
     "data": {
      "text/plain": [
       "(626668.6048000003, 5799567.5316)"
      ]
     },
     "execution_count": 49,
     "metadata": {},
     "output_type": "execute_result"
    }
   ],
   "source": [
    "mid_x, mid_y"
   ],
   "metadata": {
    "collapsed": false
   }
  },
  {
   "cell_type": "code",
   "execution_count": null,
   "outputs": [],
   "source": [],
   "metadata": {
    "collapsed": false
   }
  },
  {
   "cell_type": "code",
   "execution_count": 50,
   "outputs": [
    {
     "data": {
      "text/html": [
       "<div class='gpresult'><h2>Messages</h2><div id='messages' data-messages='[\"开始时间: 2023年10月17日 23:44:15\",\"正在确定数据处理范围...\",\"正在将 NEAR_FID 添加到 multipoint...\",\"正在将 NEAR_DIST 添加到 multipoint...\",\"正在将 NEAR_X 添加到 multipoint...\",\"正在将 NEAR_Y 添加到 multipoint...\",\"正在将 NEAR_ANGLE 添加到 multipoint...\",\"正在从邻近要素构建邻域索引...\",\"正在生成邻近表...\",\"找到 1 要素(在 25 内)\",\"运行 成功，结束时间： 2023年10月17日 23:44:15 (历时: 0.23 秒)\"]' data-show='true'><div id = 'default' /></div></div>"
      ],
      "text/plain": [
       "<Result 'multipoint'>"
      ]
     },
     "execution_count": 50,
     "metadata": {},
     "output_type": "execute_result"
    }
   ],
   "source": [
    "# 邻近分析 (分析)\n",
    "in_features = \"multipoint\"\n",
    "near_features = \"main.edges\"\n",
    "search_radius = \"25 Meters\"\n",
    "arcpy.analysis.Near(in_features, \n",
    "                    near_features, \n",
    "                    \"25 Meters\", \"LOCATION\", \"ANGLE\", \"PLANAR\", \"NEAR_FID NEAR_FID;NEAR_DIST NEAR_DIST;NEAR_X NEAR_X;NEAR_Y NEAR_Y;NEAR_ANGLE NEAR_ANGLE\")"
   ],
   "metadata": {
    "collapsed": false
   }
  },
  {
   "cell_type": "code",
   "execution_count": 51,
   "outputs": [
    {
     "data": {
      "text/plain": [
       "'multipoint'"
      ]
     },
     "execution_count": 51,
     "metadata": {},
     "output_type": "execute_result"
    }
   ],
   "source": [
    "in_features"
   ],
   "metadata": {
    "collapsed": false
   }
  },
  {
   "cell_type": "code",
   "execution_count": 52,
   "outputs": [
    {
     "name": "stdout",
     "output_type": "stream",
     "text": [
      "OBJECTID\n",
      "Shape\n",
      "NEAR_FID\n",
      "NEAR_DIST\n",
      "NEAR_X\n",
      "NEAR_Y\n",
      "NEAR_ANGLE\n"
     ]
    }
   ],
   "source": [
    "fields = arcpy.ListFields(in_features)\n",
    "for field in fields:\n",
    "    print(field.name)"
   ],
   "metadata": {
    "collapsed": false
   }
  },
  {
   "cell_type": "markdown",
   "source": [
    "### 4.将angle转为heading的角度\n",
    "生成的角度是输入要素（建筑物上的点）对于邻近要素（街道上的点）的角度，并且转换前的角度的表示方式是：在方法参数中使用平面方法时，角度在 -180° 到 180° 的范围内，0°代表东，90°代表北，180°（或 -180°）代表西，-90° 代表南。\n",
    "转换后，因为要获取街道街景，要以（街道上的点）为原点，对于建筑物上的点的角度，并且角度表示为：角度范围在0-360度，0°代表北，90°代表东，180°代表南，270° 代表西。"
   ],
   "metadata": {
    "collapsed": false
   }
  },
  {
   "cell_type": "code",
   "execution_count": 53,
   "outputs": [],
   "source": [
    "def transform_angle(xs, ys, xc, yc):\n",
    "    \"\"\"\n",
    "    方式一：计算向量转换角度的表示方式，从输入要素（建筑物上的点）对于邻近要素（街道上的点）的角度，\n",
    "    到以邻近要素（街道上的点）为原点，对于输入要素（建筑物上的点）的角度。\n",
    "    并确保角度在0-360度之间。\n",
    "    \"\"\"\n",
    "    # 计算向量\n",
    "    Vsc = np.array([xc - xs, yc - ys])\n",
    "    \n",
    "    # 计算与正东方向的角度（由于数学上的约定，这里的0°是指向东的）\n",
    "    angle_rad = np.arctan2(Vsc[1], Vsc[0])  # 这里得到的结果范围是 -π 到 π (-180° 到 180°)\n",
    "\n",
    "    # 将弧度转换为角度\n",
    "    angle_deg = np.degrees(angle_rad)\n",
    "    \n",
    "    # 转换为罗盘式角度（北0°，东90°...）\n",
    "    # 由于原始0°指向东，我们需要将角度逆时针旋转90°来让0°指向北\n",
    "    compass_angle = (90 - angle_deg) % 360  # 通过取余数确保结果在0° - 360°范围内\n",
    "\n",
    "    return compass_angle\n",
    "\n",
    "print( transform_angle(xs, ys, xc, yc))"
   ],
   "metadata": {
    "collapsed": false
   }
  },
  {
   "cell_type": "code",
   "execution_count": 59,
   "outputs": [
    {
     "name": "stdout",
     "output_type": "stream",
     "text": [
      "91.07723693248431\n"
     ]
    }
   ],
   "source": [
    "def transform_angle(original_angle):\n",
    "    \"\"\"\n",
    "    将角度从一个坐标系转换为另一个，并更改方向表示。\n",
    "\n",
    "    :param original_angle: 初始的角度（基于东为0°的系统）\n",
    "    :return: 转换后的角度（基于北为0°的系统）\n",
    "    \"\"\"\n",
    "    # 从建筑物到街道的角度需要将角度旋转180度以“反转”方向\n",
    "    reversed_angle = original_angle + 180\n",
    "\n",
    "    # 规范化角度在0到360之间\n",
    "    if reversed_angle >= 360:\n",
    "        reversed_angle -= 360\n",
    "    elif reversed_angle < 0:\n",
    "        reversed_angle += 360\n",
    "\n",
    "    # 现在，我们需要将“东为0度”转变为“北为0度”，这需要一个90度的逆时针旋转\n",
    "    north_based_angle = reversed_angle + 90\n",
    "\n",
    "    if north_based_angle >= 360:\n",
    "        north_based_angle -= 360\n",
    "\n",
    "    return north_based_angle\n",
    "\n",
    "print(transform_angle(-178.9227630675157))"
   ],
   "metadata": {
    "collapsed": false
   }
  },
  {
   "cell_type": "code",
   "execution_count": 60,
   "outputs": [
    {
     "name": "stdout",
     "output_type": "stream",
     "text": [
      "[15.729911607404052, 626640.935368494, 5799565.214474143, -178.9227630675157]\n",
      "转换后的角度 91.07723693248431\n",
      "当前建筑的id 0363100012061237\n"
     ]
    }
   ],
   "source": [
    "# 定义要查询的字段\n",
    "field_name_list = [\"NEAR_DIST\",\"NEAR_X\",\"NEAR_Y\", \"NEAR_ANGLE\"]\n",
    "\n",
    "\n",
    "# 使用SearchCursor迭代访问每个记录\n",
    "with arcpy.da.SearchCursor(in_features, field_name_list) as cursor:\n",
    "    for row in cursor:\n",
    "        # 获取NEAR_ANGLE字段的值并添加到列表中\n",
    "        print([i for i in row])\n",
    "        angle = row[3]\n",
    "        angle2 = transform_angle(angle)\n",
    "        print(\"转换后的角度\",angle2)\n",
    "\n",
    "# 打印所有的NEAR_ANGLE值\n",
    "print(\"当前建筑的id\", polygon_id)"
   ],
   "metadata": {
    "collapsed": false
   }
  },
  {
   "cell_type": "code",
   "execution_count": 61,
   "outputs": [],
   "source": [
    "# 追加保存到json文件，然后通过streetview进行构建url的操作\n",
    "import pandas as pd\n",
    "\n",
    "# 从字典创建 DataFrame\n",
    "df = pd.DataFrame({\n",
    "    \"polygon_id\": [polygon_id],  \n",
    "    \"NEAR_DIST\": [row[0]],      \n",
    "    \"lat\": [row[2]],            \n",
    "    \"lng\": [row[1]],\n",
    "    \"heading\": [angle]\n",
    "})\n",
    "\n",
    "\n",
    "# 追加数据到 CSV\n",
    "df.to_csv(\"./temp.csv\", mode='a', header=False, index=False)\n"
   ],
   "metadata": {
    "collapsed": false
   }
  },
  {
   "cell_type": "code",
   "execution_count": null,
   "outputs": [],
   "source": [
    "# # 将heading（NEAR_ANGLE）,经纬度，保存到input_polygon_feature_class：single_building\n",
    "# with arcpy.da.UpdateCursor(input_polygon_feature_class, [\"identificatie\",\"SHAPE@\",]) as cursor:\n",
    "#     for row in cursor:\n",
    "#         # 对每一行进行某种操作...\n",
    "        \n",
    "#         # 示例：修改 'identificatie' 字段的值\n",
    "#         row[1] = \"新的值\"  # 更新 'identificatie' 到新的值\n",
    "        \n",
    "#         # 保存更改\n",
    "#         cursor.updateRow(row)\n"
   ],
   "metadata": {
    "collapsed": false
   }
  },
  {
   "cell_type": "markdown",
   "source": [
    "## 整合上述代码：遍历building然后查询临近点"
   ],
   "metadata": {
    "collapsed": false
   }
  },
  {
   "cell_type": "code",
   "execution_count": 65,
   "outputs": [
    {
     "ename": "IndentationError",
     "evalue": "unindent does not match any outer indentation level (<tokenize>, line 17)",
     "output_type": "error",
     "traceback": [
      "\u001B[0;31m---------------------------------------------------------------------------\u001B[0m\n\u001B[0;31mIndentationError\u001B[0m                          Traceback (most recent call last)",
      "File \u001B[0;34mC:\\Program Files\\ArcGIS\\Pro\\bin\\Python\\envs\\arcgispro-py3-dl\\lib\\site-packages\\IPython\\core\\interactiveshell.py\u001B[0m, in \u001B[0;32mtransform_cell\u001B[0m:\nLine \u001B[0;34m3198\u001B[0m:  cell = \u001B[36mself\u001B[39;49;00m.input_transformer_manager.transform_cell(raw_cell)\n",
      "File \u001B[0;34mC:\\Program Files\\ArcGIS\\Pro\\bin\\Python\\envs\\arcgispro-py3-dl\\lib\\site-packages\\IPython\\core\\inputtransformer2.py\u001B[0m, in \u001B[0;32mtransform_cell\u001B[0m:\nLine \u001B[0;34m593\u001B[0m:   lines = \u001B[36mself\u001B[39;49;00m.do_token_transforms(lines)\n",
      "File \u001B[0;34mC:\\Program Files\\ArcGIS\\Pro\\bin\\Python\\envs\\arcgispro-py3-dl\\lib\\site-packages\\IPython\\core\\inputtransformer2.py\u001B[0m, in \u001B[0;32mdo_token_transforms\u001B[0m:\nLine \u001B[0;34m578\u001B[0m:   changed, lines = \u001B[36mself\u001B[39;49;00m.do_one_token_transform(lines)\n",
      "File \u001B[0;34mC:\\Program Files\\ArcGIS\\Pro\\bin\\Python\\envs\\arcgispro-py3-dl\\lib\\site-packages\\IPython\\core\\inputtransformer2.py\u001B[0m, in \u001B[0;32mdo_one_token_transform\u001B[0m:\nLine \u001B[0;34m558\u001B[0m:   tokens_by_line = make_tokens_by_line(lines)\n",
      "File \u001B[0;34mC:\\Program Files\\ArcGIS\\Pro\\bin\\Python\\envs\\arcgispro-py3-dl\\lib\\site-packages\\IPython\\core\\inputtransformer2.py\u001B[0m, in \u001B[0;32mmake_tokens_by_line\u001B[0m:\nLine \u001B[0;34m487\u001B[0m:   \u001B[34mfor\u001B[39;49;00m token \u001B[35min\u001B[39;49;00m tokenize.generate_tokens(\u001B[36miter\u001B[39;49;00m(lines).\u001B[32m__next__\u001B[39;49;00m):\n",
      "File \u001B[0;34mC:\\Program Files\\ArcGIS\\Pro\\bin\\Python\\envs\\arcgispro-py3-dl\\lib\\tokenize.py\u001B[0m, in \u001B[0;32m_tokenize\u001B[0m:\nLine \u001B[0;34m512\u001B[0m:   \u001B[34mraise\u001B[39;49;00m \u001B[36mIndentationError\u001B[39;49;00m(\n",
      "\u001B[0;31mIndentationError\u001B[0m: unindent does not match any outer indentation level (<tokenize>, line 17)\n\u001B[0;31m---------------------------------------------------------------------------\u001B[0m"
     ]
    }
   ],
   "source": [
    "import arcpy\n",
    "import pandas as pd\n",
    "# 输入的多边形要素类\n",
    "input_polygon_feature_class = \"Amsterdam_buil_ExportFeature1_98\" # \"single_building\" # \"Amsterdam_buildings_Project\"\n",
    "\n",
    "\n",
    "# 整合代码\n",
    "# 定义SpatialReference对象，这里以WGS 1984坐标系为例\n",
    "sr = arcpy.SpatialReference(32631)\n",
    "\n",
    "\n",
    "def field_exists(feature_class, field_name):\n",
    "    \"\"\"检查给定的字段是否存在于指定的要素类中\"\"\"\n",
    "    fields = [f.name for f in arcpy.ListFields(feature_class)]\n",
    "    return field_name in fields\n",
    "\n",
    " def transform_angle(original_angle):\n",
    "    \"\"\"\n",
    "    将角度从一个坐标系转换为另一个，并更改方向表示。\n",
    "\n",
    "    :param original_angle: 初始的角度（基于东为0°的系统）\n",
    "    :return: 转换后的角度（基于北为0°的系统）\n",
    "    \"\"\"\n",
    "    # 从建筑物到街道的角度需要将角度旋转180度以“反转”方向\n",
    "    reversed_angle = original_angle + 180\n",
    "\n",
    "    # 规范化角度在0到360之间\n",
    "    if reversed_angle >= 360:\n",
    "        reversed_angle -= 360\n",
    "    elif reversed_angle < 0:\n",
    "        reversed_angle += 360\n",
    "\n",
    "    # 现在，我们需要将“东为0度”转变为“北为0度”，这需要一个90度的逆时针旋转\n",
    "    north_based_angle = reversed_angle + 90\n",
    "\n",
    "    if north_based_angle >= 360:\n",
    "        north_based_angle -= 360\n",
    "\n",
    "    return north_based_angle\n",
    "\n",
    "# 定义要查询的字段\n",
    "field_name_list =  [\"NEAR_DIST\",\"NEAR_X\",\"NEAR_Y\", \"NEAR_ANGLE\"]\n",
    "\n",
    "# 用于检查邻域分析是否成功\n",
    "field_to_check = field_name_list[0]\n",
    "\n",
    "# 使用SearchCursor遍历多边形\n",
    "with arcpy.da.SearchCursor(input_polygon_feature_class, [\"identificatie\", \"SHAPE@\"]) as cursor:\n",
    "    for row in cursor:\n",
    "        polygon_id = row[0] # 建筑的id\n",
    "        polygon = row[1]\n",
    "        \n",
    "        # 创建一个Array\n",
    "        point_array = arcpy.Array()\n",
    "        \n",
    "        # 遍历多边形的每一段，计算并存储中心点\n",
    "        # 遍历poly中所有的多边形，part为每个单独的多边形\n",
    "        for part in polygon: \n",
    "            # 遍历每个边\n",
    "            for i in range(len(part) - 1):\n",
    "                start_point = part[i]\n",
    "                end_point = part[i + 1]\n",
    "                mid_x = (start_point.X + end_point.X) / 2\n",
    "                mid_y = (start_point.Y + end_point.Y) / 2\n",
    "                # print(mid_x, mid_y)\n",
    "                \n",
    "                # 创建arcpy的点\n",
    "                midpoint = arcpy.Point(mid_x, mid_y)\n",
    "                \n",
    "                # 添加到Array\n",
    "                point_array.add(midpoint)\n",
    "                \n",
    "            # 使用Array创建Multipoint对象\n",
    "            multipoint = arcpy.Multipoint(point_array, sr)\n",
    "\n",
    "            arcpy.CopyFeatures_management(multipoint, \"multipoint\")\n",
    "            \n",
    "            # 邻近分析 (分析)\n",
    "            in_features = \"multipoint\"\n",
    "            near_features = \"main.edges\"\n",
    "            arcpy.analysis.Near(in_features, \n",
    "                                near_features, \n",
    "                                \"25 Meters\", \"LOCATION\", \"ANGLE\", \"GEODESIC\", \"NEAR_FID NEAR_FID;NEAR_DIST NEAR_DIST;NEAR_X NEAR_X;NEAR_Y NEAR_Y;NEAR_ANGLE NEAR_ANGLE\")\n",
    "            \n",
    "            \n",
    "            if field_exists(in_features, field_to_check):\n",
    "                # 使用SearchCursor迭代访问每个记录\n",
    "                with arcpy.da.SearchCursor(in_features, field_name_list) as cursor:\n",
    "                    for row in cursor:\n",
    "                        # 删除NEAR_DIST=-1的数据\n",
    "                        NEAR_DIST = row[0]\n",
    "\n",
    "                        \n",
    "                        angle = transform_angle(row[3])\n",
    "\n",
    "                        # 打印所有的NEAR_ANGLE值\n",
    "                        print(\"当前建筑的id\", polygon_id)\n",
    "\n",
    "\n",
    "                # 保存\n",
    "                if NEAR_DIST !=-1:\n",
    "                \n",
    "                    # 从字典创建 DataFrame\n",
    "                    df = pd.DataFrame({\n",
    "                        \"polygon_id\": [polygon_id],  \n",
    "                        \"NEAR_DIST\": [row[0]],      \n",
    "                        \"lat\": [row[2]],            \n",
    "                        \"lng\": [row[1]],\n",
    "                        \"heading\": [angle]\n",
    "                    })\n",
    "\n",
    "\n",
    "                    # 追加数据到 CSV\n",
    "                    df.to_csv(\"./temp.csv\", mode='a', header=False, index=False)\n",
    "\n",
    "\n",
    "            else:\n",
    "                print(f\"Field '{field_to_check}' does not exist in {in_features}.\")\n",
    "\n"
   ],
   "metadata": {
    "collapsed": false
   }
  },
  {
   "cell_type": "markdown",
   "source": [
    "## 优化代码逻辑(从这开始时正式执行代码)\n",
    "为了提高上述代码的执行速度，我们可以考虑以下策略：\n",
    "减少I/O操作: 代码中有多次磁盘I/O操作，特别是与arcpy和pandas相关的部分。I/O操作通常是时间消耗的关键所在。\n",
    "使用多线程/多进程: 但需要注意的是**arcpy不是线程安全的，所以多线程可能并不总是有效。**另外，你的代码涉及到GIS数据的写入，这也可能导致多线程中出现资源争用的问题。\n",
    "我们可以创建一个列表来存储数据，而不是每次都将其追加到CSV。在整个循环完成后，我们再保存这个列表到CSV。"
   ],
   "metadata": {
    "collapsed": false
   }
  },
  {
   "cell_type": "markdown",
   "source": [
    "## 对比一下两种方法的结果"
   ],
   "metadata": {
    "collapsed": false
   }
  },
  {
   "cell_type": "code",
   "execution_count": 3,
   "outputs": [
    {
     "data": {
      "text/plain": "     identificatie  bouwjaar        lat       lng       angle\n0  363100012061225      1923  52.415235  4.883329   37.022415\n1  363100012061228      2004  52.355083  4.992815  219.255104\n2  363100012062224      1916  52.364212  4.939707   87.926628\n3  363100012063200      1965  52.324175  4.878366  356.703373\n4  363100012062226      2000  52.413056  4.824624   70.847657",
      "text/html": "<div>\n<style scoped>\n    .dataframe tbody tr th:only-of-type {\n        vertical-align: middle;\n    }\n\n    .dataframe tbody tr th {\n        vertical-align: top;\n    }\n\n    .dataframe thead th {\n        text-align: right;\n    }\n</style>\n<table border=\"1\" class=\"dataframe\">\n  <thead>\n    <tr style=\"text-align: right;\">\n      <th></th>\n      <th>identificatie</th>\n      <th>bouwjaar</th>\n      <th>lat</th>\n      <th>lng</th>\n      <th>angle</th>\n    </tr>\n  </thead>\n  <tbody>\n    <tr>\n      <th>0</th>\n      <td>363100012061225</td>\n      <td>1923</td>\n      <td>52.415235</td>\n      <td>4.883329</td>\n      <td>37.022415</td>\n    </tr>\n    <tr>\n      <th>1</th>\n      <td>363100012061228</td>\n      <td>2004</td>\n      <td>52.355083</td>\n      <td>4.992815</td>\n      <td>219.255104</td>\n    </tr>\n    <tr>\n      <th>2</th>\n      <td>363100012062224</td>\n      <td>1916</td>\n      <td>52.364212</td>\n      <td>4.939707</td>\n      <td>87.926628</td>\n    </tr>\n    <tr>\n      <th>3</th>\n      <td>363100012063200</td>\n      <td>1965</td>\n      <td>52.324175</td>\n      <td>4.878366</td>\n      <td>356.703373</td>\n    </tr>\n    <tr>\n      <th>4</th>\n      <td>363100012062226</td>\n      <td>2000</td>\n      <td>52.413056</td>\n      <td>4.824624</td>\n      <td>70.847657</td>\n    </tr>\n  </tbody>\n</table>\n</div>"
     },
     "execution_count": 3,
     "metadata": {},
     "output_type": "execute_result"
    }
   ],
   "source": [
    "import pandas as pd\n",
    "# 读取方法1\n",
    "df_1 = pd.read_csv(\"../data/output/Points_Amsterdam_use_gpd_all.csv\", header=0)\n",
    "df_1.head()"
   ],
   "metadata": {
    "collapsed": false,
    "ExecuteTime": {
     "end_time": "2023-10-19T05:31:06.451521Z",
     "start_time": "2023-10-19T05:31:06.213910Z"
    }
   }
  },
  {
   "cell_type": "code",
   "execution_count": null,
   "outputs": [],
   "source": [
    "# # 读取方法2\n",
    "# \n",
    "# df_2 = pd.read_csv(\"xxxx\", names=[\"identificatie\", \"bouwjaar\", \"distance\", \"lat\", \"lng\",'angle'], header=None).drop(0, axis=0).drop(\"distance\", axis=1)\n",
    "# df_2.head()"
   ],
   "metadata": {
    "collapsed": false,
    "ExecuteTime": {
     "start_time": "2023-10-19T05:29:43.453947Z"
    }
   }
  },
  {
   "cell_type": "code",
   "execution_count": null,
   "outputs": [],
   "source": [
    "# # 随机几个点对比一下\n",
    "# print(\" \", df_1.sample(5))\n",
    "# \n",
    "# \n",
    "# for i in df_1.identificatie.tolist():\n",
    "#     print(\"id:\", i)\n",
    "#     if i in df_2.identificatie.tolist():\n",
    "#         print(\"--------------\")\n",
    "#         print(\"方法1 angle:\", df_1[df_1.loc[:, \"identificatie\"] == i])\n",
    "#         print(\"方法2 angle:\", df_2[df_2.loc[:, \"identificatie\"] == i])\n",
    "#     else:\n",
    "#         pass\n",
    "#         # print(\"方法2中不存在\")"
   ],
   "metadata": {
    "collapsed": false,
    "ExecuteTime": {
     "start_time": "2023-10-19T05:29:43.457651Z"
    }
   }
  },
  {
   "cell_type": "code",
   "execution_count": null,
   "outputs": [],
   "source": [
    "# # 看看他们的街景url\n",
    "# i = '363100012062908'\n",
    "# df_1[df_1.\"identificatie\"] == i]"
   ],
   "metadata": {
    "collapsed": false,
    "ExecuteTime": {
     "start_time": "2023-10-19T05:29:25.957487Z"
    }
   }
  },
  {
   "cell_type": "code",
   "execution_count": null,
   "outputs": [],
   "source": [],
   "metadata": {
    "collapsed": false
   }
  }
 ],
 "metadata": {
  "kernelspec": {
   "display_name": "Python 3",
   "language": "python",
   "name": "python3"
  },
  "language_info": {
   "codemirror_mode": {
    "name": "ipython",
    "version": 2
   },
   "file_extension": ".py",
   "mimetype": "text/x-python",
   "name": "python",
   "nbconvert_exporter": "python",
   "pygments_lexer": "ipython2",
   "version": "2.7.6"
  }
 },
 "nbformat": 4,
 "nbformat_minor": 0
}
