{
 "cells": [
  {
   "cell_type": "markdown",
   "source": [
    "# 使用selenium获取街景图片\n",
    "[Part3.获取高质量的阿姆斯特丹建筑立面图像（下）——《通过深度学习了解建筑年代和风格》](https://cdn.renhai-lab.tech/archives/Understanding_architecture_age_and_style_through_deep_learning_part3-2)"
   ],
   "metadata": {
    "collapsed": false
   }
  },
  {
   "cell_type": "code",
   "execution_count": 105,
   "outputs": [],
   "source": [
    "# url = df.loc[1,'url']\n",
    "# print(url)\n",
    "url = \"https://www.google.com/maps/@52.35513228204291,4.992971208322429,3a,60y,40.83320085243709h,95t/data=!3m6!1e1!3m4!1sa8USRXjhCtTGXrjwHS5HJA!2e0!7i16384!8i8192\""
   ],
   "metadata": {
    "collapsed": false,
    "ExecuteTime": {
     "end_time": "2023-10-12T09:07:22.793465100Z",
     "start_time": "2023-10-12T09:07:22.777458700Z"
    }
   }
  },
  {
   "cell_type": "code",
   "execution_count": 2,
   "outputs": [],
   "source": [
    "url = \"https://www.selenium.dev/\""
   ],
   "metadata": {
    "collapsed": false,
    "ExecuteTime": {
     "end_time": "2023-10-12T09:15:17.879070400Z",
     "start_time": "2023-10-12T09:15:17.863550600Z"
    }
   }
  },
  {
   "cell_type": "code",
   "execution_count": 4,
   "outputs": [
    {
     "ename": "TypeError",
     "evalue": "ChromiumOptions.__init__() got an unexpected keyword argument 'service_args'",
     "output_type": "error",
     "traceback": [
      "\u001B[1;31m---------------------------------------------------------------------------\u001B[0m",
      "\u001B[1;31mTypeError\u001B[0m                                 Traceback (most recent call last)",
      "Cell \u001B[1;32mIn[4], line 8\u001B[0m\n\u001B[0;32m      1\u001B[0m DRIVER_PATH \u001B[38;5;241m=\u001B[39m {\n\u001B[0;32m      2\u001B[0m     \u001B[38;5;124m\"\u001B[39m\u001B[38;5;124mlocal\u001B[39m\u001B[38;5;124m\"\u001B[39m: \u001B[38;5;124m\"\u001B[39m\u001B[38;5;124mC:\u001B[39m\u001B[38;5;130;01m\\\\\u001B[39;00m\u001B[38;5;124mProgram Files\u001B[39m\u001B[38;5;130;01m\\\\\u001B[39;00m\u001B[38;5;124mGoogle\u001B[39m\u001B[38;5;130;01m\\\\\u001B[39;00m\u001B[38;5;124mChrome\u001B[39m\u001B[38;5;130;01m\\\\\u001B[39;00m\u001B[38;5;124mApplication\u001B[39m\u001B[38;5;130;01m\\\\\u001B[39;00m\u001B[38;5;124mchromedriver.exe\u001B[39m\u001B[38;5;124m\"\u001B[39m,  \u001B[38;5;66;03m# 本地chromedriver路径\u001B[39;00m\n\u001B[0;32m      3\u001B[0m     \u001B[38;5;124m\"\u001B[39m\u001B[38;5;124mdocker\u001B[39m\u001B[38;5;124m\"\u001B[39m: \u001B[38;5;124m\"\u001B[39m\u001B[38;5;124m/usr/bin/chromedriver\u001B[39m\u001B[38;5;124m\"\u001B[39m,  \u001B[38;5;66;03m# docker容器内chromedriver路径\u001B[39;00m\n\u001B[0;32m      4\u001B[0m     \u001B[38;5;124m\"\u001B[39m\u001B[38;5;124mremote\u001B[39m\u001B[38;5;124m\"\u001B[39m: \u001B[38;5;124m\"\u001B[39m\u001B[38;5;124mhttp://192.168.0.118:4444/wd/hub\u001B[39m\u001B[38;5;124m\"\u001B[39m,  \u001B[38;5;66;03m# 远程chromedriver路径\u001B[39;00m\n\u001B[0;32m      5\u001B[0m }\n\u001B[0;32m      6\u001B[0m \u001B[38;5;28;01mfrom\u001B[39;00m \u001B[38;5;21;01mget_webdriver\u001B[39;00m \u001B[38;5;28;01mimport\u001B[39;00m get_webdriver\n\u001B[1;32m----> 8\u001B[0m driver \u001B[38;5;241m=\u001B[39m get_webdriver(headless\u001B[38;5;241m=\u001B[39m\u001B[38;5;28;01mFalse\u001B[39;00m,\n\u001B[0;32m      9\u001B[0m               driver_type\u001B[38;5;241m=\u001B[39m\u001B[38;5;124m\"\u001B[39m\u001B[38;5;124mlocal\u001B[39m\u001B[38;5;124m\"\u001B[39m,\n\u001B[0;32m     10\u001B[0m               driver_path\u001B[38;5;241m=\u001B[39mDRIVER_PATH,\n\u001B[0;32m     11\u001B[0m               driver_implicity_wait_time\u001B[38;5;241m=\u001B[39m\u001B[38;5;241m10\u001B[39m)\n\u001B[0;32m     13\u001B[0m driver\u001B[38;5;241m.\u001B[39mget(url)\n\u001B[0;32m     15\u001B[0m driver\u001B[38;5;241m.\u001B[39msave_screenshot(\u001B[38;5;124m'\u001B[39m\u001B[38;5;124mimage.png\u001B[39m\u001B[38;5;124m'\u001B[39m)\n",
      "File \u001B[1;32m~\\Documents\\Python_\\Python辅助城市研究\\建筑风格和年代机器学习\\1-获取数据集\\get_webdriver.py:11\u001B[0m, in \u001B[0;36mget_webdriver\u001B[1;34m(headless, driver_type, driver_path, driver_implicity_wait_time)\u001B[0m\n\u001B[0;32m      8\u001B[0m \u001B[38;5;28;01mdef\u001B[39;00m \u001B[38;5;21mget_webdriver\u001B[39m(headless, driver_type, driver_path, driver_implicity_wait_time):\n\u001B[0;32m      9\u001B[0m \u001B[38;5;250m    \u001B[39m\u001B[38;5;124;03m\"\"\"浏览器初始化\"\"\"\u001B[39;00m\n\u001B[1;32m---> 11\u001B[0m     options \u001B[38;5;241m=\u001B[39m ChromeOptions(service_args\u001B[38;5;241m=\u001B[39m[\u001B[38;5;124m'\u001B[39m\u001B[38;5;124m--log-level=DEBUG\u001B[39m\u001B[38;5;124m'\u001B[39m], log_output\u001B[38;5;241m=\u001B[39msubprocess\u001B[38;5;241m.\u001B[39mSTDOUT)\n\u001B[0;32m     12\u001B[0m     \u001B[38;5;66;03m# options.add_experimental_option('excludeSwitches', [\u001B[39;00m\n\u001B[0;32m     13\u001B[0m     \u001B[38;5;66;03m#     'enable-automation'])  # 设置开发者模式启动，该模式下webdriver属性为正常值 以开发者模式启动调试chrome，可以去掉提示受到自动软件控制   一般反爬比较好的网址都会根据这个反爬\u001B[39;00m\n\u001B[0;32m     14\u001B[0m     \u001B[38;5;28;01mif\u001B[39;00m headless:\n",
      "\u001B[1;31mTypeError\u001B[0m: ChromiumOptions.__init__() got an unexpected keyword argument 'service_args'"
     ]
    }
   ],
   "source": [
    "# DRIVER_PATH = {\n",
    "#     \"local\": \"C:\\\\Program Files\\\\Google\\\\Chrome\\\\Application\\\\chromedriver.exe\",  # 本地chromedriver路径\n",
    "#     \"docker\": \"/usr/bin/chromedriver\",  # docker容器内chromedriver路径\n",
    "#     \"remote\": \"http://192.168.0.118:4444/wd/hub\",  # 远程chromedriver路径\n",
    "# }\n",
    "# from get_webdriver import get_webdriver\n",
    "# \n",
    "# driver = get_webdriver(headless=False,\n",
    "#               driver_type=\"local\", \n",
    "#               driver_path=DRIVER_PATH, \n",
    "#               driver_implicity_wait_time=10)\n",
    "# \n",
    "# \n",
    "# \n",
    "# driver.get(url)\n",
    "# \n",
    "# driver.save_screenshot('image.png')\n",
    "# \n",
    "# driver.quit()"
   ],
   "metadata": {
    "collapsed": false,
    "ExecuteTime": {
     "end_time": "2023-10-12T09:15:55.171701900Z",
     "start_time": "2023-10-12T09:15:55.145026800Z"
    }
   }
  },
  {
   "cell_type": "code",
   "execution_count": 111,
   "outputs": [
    {
     "name": "stdout",
     "output_type": "stream",
     "text": [
      "Unexpected exception formatting exception. Falling back to standard exception\n"
     ]
    },
    {
     "name": "stderr",
     "output_type": "stream",
     "text": [
      "Traceback (most recent call last):\n",
      "  File \"C:\\Users\\hncdj\\anaconda3\\envs\\dl\\Lib\\site-packages\\IPython\\core\\interactiveshell.py\", line 3526, in run_code\n",
      "    exec(code_obj, self.user_global_ns, self.user_ns)\n",
      "  File \"C:\\Users\\hncdj\\AppData\\Local\\Temp\\ipykernel_33112\\1605028432.py\", line 9, in <module>\n",
      "    driver.get(url)\n",
      "  File \"C:\\Users\\hncdj\\anaconda3\\envs\\dl\\Lib\\site-packages\\selenium\\webdriver\\remote\\webdriver.py\", line 455, in get\n",
      "    self.execute(Command.CLOSE)\n",
      "  File \"C:\\Users\\hncdj\\anaconda3\\envs\\dl\\Lib\\site-packages\\selenium\\webdriver\\remote\\webdriver.py\", line 444, in execute\n",
      "    \"\"\"\n",
      "        \n",
      "  File \"C:\\Users\\hncdj\\anaconda3\\envs\\dl\\Lib\\site-packages\\selenium\\webdriver\\remote\\errorhandler.py\", line 249, in check_response\n",
      "selenium.common.exceptions.InvalidArgumentException: Message: invalid argument\n",
      "  (Session info: chrome=118.0.5993.71)\n",
      "Stacktrace:\n",
      "\tGetHandleVerifier [0x00D44DE3+43907]\n",
      "\t(No symbol) [0x00CD0741]\n",
      "\t(No symbol) [0x00BC32B0]\n",
      "\t(No symbol) [0x00BB5BE4]\n",
      "\t(No symbol) [0x00BB450F]\n",
      "\t(No symbol) [0x00BB4AF8]\n",
      "\t(No symbol) [0x00BC5193]\n",
      "\t(No symbol) [0x00C25B61]\n",
      "\t(No symbol) [0x00C12B5C]\n",
      "\t(No symbol) [0x00C255CA]\n",
      "\t(No symbol) [0x00C12956]\n",
      "\t(No symbol) [0x00BEE17E]\n",
      "\t(No symbol) [0x00BEF32D]\n",
      "\tGetHandleVerifier [0x00FF5AF9+2865305]\n",
      "\tGetHandleVerifier [0x0103E78B+3163435]\n",
      "\tGetHandleVerifier [0x01038441+3138017]\n",
      "\tGetHandleVerifier [0x00DCE0F0+605840]\n",
      "\t(No symbol) [0x00CDA64C]\n",
      "\t(No symbol) [0x00CD6638]\n",
      "\t(No symbol) [0x00CD675F]\n",
      "\t(No symbol) [0x00CC8DB7]\n",
      "\tBaseThreadInitThunk [0x76D67BA9+25]\n",
      "\tRtlInitializeExceptionChain [0x77A3B79B+107]\n",
      "\tRtlClearBits [0x77A3B71F+191]\n",
      "\n",
      "\n",
      "During handling of the above exception, another exception occurred:\n",
      "\n",
      "Traceback (most recent call last):\n",
      "  File \"C:\\Users\\hncdj\\anaconda3\\envs\\dl\\Lib\\site-packages\\IPython\\core\\interactiveshell.py\", line 2120, in showtraceback\n",
      "    stb = self.InteractiveTB.structured_traceback(\n",
      "          ^^^^^^^^^^^^^^^^^^^^^^^^^^^^^^^^^^^^^^^^\n",
      "  File \"C:\\Users\\hncdj\\anaconda3\\envs\\dl\\Lib\\site-packages\\IPython\\core\\ultratb.py\", line 1435, in structured_traceback\n",
      "    return FormattedTB.structured_traceback(\n",
      "           ^^^^^^^^^^^^^^^^^^^^^^^^^^^^^^^^^\n",
      "  File \"C:\\Users\\hncdj\\anaconda3\\envs\\dl\\Lib\\site-packages\\IPython\\core\\ultratb.py\", line 1326, in structured_traceback\n",
      "    return VerboseTB.structured_traceback(\n",
      "           ^^^^^^^^^^^^^^^^^^^^^^^^^^^^^^^\n",
      "  File \"C:\\Users\\hncdj\\anaconda3\\envs\\dl\\Lib\\site-packages\\IPython\\core\\ultratb.py\", line 1173, in structured_traceback\n",
      "    formatted_exception = self.format_exception_as_a_whole(etype, evalue, etb, number_of_lines_of_context,\n",
      "                          ^^^^^^^^^^^^^^^^^^^^^^^^^^^^^^^^^^^^^^^^^^^^^^^^^^^^^^^^^^^^^^^^^^^^^^^^^^^^^^^^\n",
      "  File \"C:\\Users\\hncdj\\anaconda3\\envs\\dl\\Lib\\site-packages\\IPython\\core\\ultratb.py\", line 1088, in format_exception_as_a_whole\n",
      "    frames.append(self.format_record(record))\n",
      "                  ^^^^^^^^^^^^^^^^^^^^^^^^^^\n",
      "  File \"C:\\Users\\hncdj\\anaconda3\\envs\\dl\\Lib\\site-packages\\IPython\\core\\ultratb.py\", line 970, in format_record\n",
      "    frame_info.lines, Colors, self.has_colors, lvals\n",
      "    ^^^^^^^^^^^^^^^^\n",
      "  File \"C:\\Users\\hncdj\\anaconda3\\envs\\dl\\Lib\\site-packages\\IPython\\core\\ultratb.py\", line 792, in lines\n",
      "    return self._sd.lines\n",
      "           ^^^^^^^^^^^^^^\n",
      "  File \"C:\\Users\\hncdj\\anaconda3\\envs\\dl\\Lib\\site-packages\\stack_data\\utils.py\", line 145, in cached_property_wrapper\n",
      "    value = obj.__dict__[self.func.__name__] = self.func(obj)\n",
      "                                               ^^^^^^^^^^^^^^\n",
      "  File \"C:\\Users\\hncdj\\anaconda3\\envs\\dl\\Lib\\site-packages\\stack_data\\core.py\", line 698, in lines\n",
      "    pieces = self.included_pieces\n",
      "             ^^^^^^^^^^^^^^^^^^^^\n",
      "  File \"C:\\Users\\hncdj\\anaconda3\\envs\\dl\\Lib\\site-packages\\stack_data\\utils.py\", line 145, in cached_property_wrapper\n",
      "    value = obj.__dict__[self.func.__name__] = self.func(obj)\n",
      "                                               ^^^^^^^^^^^^^^\n",
      "  File \"C:\\Users\\hncdj\\anaconda3\\envs\\dl\\Lib\\site-packages\\stack_data\\core.py\", line 649, in included_pieces\n",
      "    pos = scope_pieces.index(self.executing_piece)\n",
      "                             ^^^^^^^^^^^^^^^^^^^^\n",
      "  File \"C:\\Users\\hncdj\\anaconda3\\envs\\dl\\Lib\\site-packages\\stack_data\\utils.py\", line 145, in cached_property_wrapper\n",
      "    value = obj.__dict__[self.func.__name__] = self.func(obj)\n",
      "                                               ^^^^^^^^^^^^^^\n",
      "  File \"C:\\Users\\hncdj\\anaconda3\\envs\\dl\\Lib\\site-packages\\stack_data\\core.py\", line 628, in executing_piece\n",
      "    return only(\n",
      "           ^^^^^\n",
      "  File \"C:\\Users\\hncdj\\anaconda3\\envs\\dl\\Lib\\site-packages\\executing\\executing.py\", line 164, in only\n",
      "    raise NotOneValueFound('Expected one value, found 0')\n",
      "executing.executing.NotOneValueFound: Expected one value, found 0\n"
     ]
    }
   ],
   "source": [
    "from selenium import webdriver\n",
    "from selenium.webdriver.chrome.service import Service as ChromeService\n",
    "from webdriver_manager.chrome import ChromeDriverManager\n",
    "\n",
    "driver = webdriver.Chrome(service=ChromeService(ChromeDriverManager().install()))\n",
    "\n",
    "# options = webdriver.ChromeOptions()\n",
    "# options.add_argument(\"--proxy-server=http://192.168.0.118:7890\")\n",
    "url = \"https://www.selenium.dev/\"\n",
    "driver.get(url)\n",
    "\n",
    "driver.save_screenshot('image.png')\n",
    "\n",
    "\n",
    "driver.quit()"
   ],
   "metadata": {
    "collapsed": false,
    "ExecuteTime": {
     "end_time": "2023-10-12T09:11:18.456375200Z",
     "start_time": "2023-10-12T09:10:45.131532200Z"
    }
   }
  },
  {
   "cell_type": "code",
   "execution_count": null,
   "outputs": [],
   "source": [],
   "metadata": {
    "collapsed": false
   }
  }
 ],
 "metadata": {
  "kernelspec": {
   "display_name": "Python 3",
   "language": "python",
   "name": "python3"
  },
  "language_info": {
   "codemirror_mode": {
    "name": "ipython",
    "version": 2
   },
   "file_extension": ".py",
   "mimetype": "text/x-python",
   "name": "python",
   "nbconvert_exporter": "python",
   "pygments_lexer": "ipython2",
   "version": "2.7.6"
  }
 },
 "nbformat": 4,
 "nbformat_minor": 0
}
