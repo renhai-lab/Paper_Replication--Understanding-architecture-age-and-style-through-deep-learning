{
 "cells": [
  {
   "cell_type": "markdown",
   "source": [
    "# 删除损坏的文件 PIL打不开的文件\n",
    "也可以在数据夹datasets中删除损坏的文件"
   ],
   "metadata": {
    "collapsed": false
   },
   "id": "edae8b76f74c2df0"
  },
  {
   "cell_type": "code",
   "execution_count": 1,
   "outputs": [],
   "source": [
    "import os\n",
    "import glob"
   ],
   "metadata": {
    "collapsed": false,
    "ExecuteTime": {
     "end_time": "2023-10-21T02:47:09.073374200Z",
     "start_time": "2023-10-21T02:47:09.068005500Z"
    }
   },
   "id": "c10b3461f3dca99"
  },
  {
   "cell_type": "code",
   "execution_count": 9,
   "id": "initial_id",
   "metadata": {
    "collapsed": true,
    "ExecuteTime": {
     "end_time": "2023-10-21T03:26:33.436478800Z",
     "start_time": "2023-10-21T03:26:31.121477900Z"
    }
   },
   "outputs": [
    {
     "name": "stdout",
     "output_type": "stream",
     "text": [
      "file_paths length: 116102\n"
     ]
    }
   ],
   "source": [
    "# GSV图像所在文件夹\n",
    "img_root_dir = r\"C:\\Users\\hncdj\\Documents\\Python_\\Python辅助城市研究\\建筑风格和年代机器学习\\data\\GSV\"\n",
    "\n",
    "# 利用glob模块获取所有png文件的路径\n",
    "file_paths = glob.glob(f\"{img_root_dir}\\\\clip\\\\**\\\\*.png\")\n",
    "print(\"file_paths length:\", len(file_paths))"
   ]
  },
  {
   "cell_type": "code",
   "execution_count": 7,
   "outputs": [],
   "source": [
    "from PIL import Image\n",
    "\n",
    "def validate_image(image_path):\n",
    "    try:\n",
    "        img = Image.open(image_path)  # 尝试打开图像\n",
    "        img.verify()  # 验证该文件是一个有效的PNG\n",
    "        return True\n",
    "    except (IOError, SyntaxError) as e:\n",
    "        print(f\"Invalid file: {image_path}, error: {e}\")\n",
    "        return False\n",
    "\n",
    "for file_path in file_paths:\n",
    "    if not validate_image(file_path):\n",
    "        # os.remove(file_path)\n",
    "        print(f\"Removed {file_path}\")"
   ],
   "metadata": {
    "collapsed": false,
    "ExecuteTime": {
     "end_time": "2023-10-21T03:17:35.687194900Z",
     "start_time": "2023-10-21T03:17:25.164562100Z"
    }
   },
   "id": "f107b4440bf1e461"
  },
  {
   "cell_type": "code",
   "execution_count": null,
   "outputs": [],
   "source": [],
   "metadata": {
    "collapsed": false
   },
   "id": "fba16a603b431812"
  }
 ],
 "metadata": {
  "kernelspec": {
   "display_name": "Python 3",
   "language": "python",
   "name": "python3"
  },
  "language_info": {
   "codemirror_mode": {
    "name": "ipython",
    "version": 2
   },
   "file_extension": ".py",
   "mimetype": "text/x-python",
   "name": "python",
   "nbconvert_exporter": "python",
   "pygments_lexer": "ipython2",
   "version": "2.7.6"
  }
 },
 "nbformat": 4,
 "nbformat_minor": 5
}
